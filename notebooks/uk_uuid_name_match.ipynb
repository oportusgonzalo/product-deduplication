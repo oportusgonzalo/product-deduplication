{
 "cells": [
  {
   "cell_type": "code",
   "execution_count": 1,
   "id": "568579ff",
   "metadata": {},
   "outputs": [],
   "source": [
    "import pandas as pd"
   ]
  },
  {
   "cell_type": "code",
   "execution_count": 3,
   "id": "247445df",
   "metadata": {},
   "outputs": [],
   "source": [
    "df_id = pd.read_csv('data/uk_booker_products_uuid.csv')"
   ]
  },
  {
   "cell_type": "code",
   "execution_count": 4,
   "id": "d26a8906",
   "metadata": {},
   "outputs": [],
   "source": [
    "df_products = pd.read_csv('data/uk_booker_products.csv')"
   ]
  },
  {
   "cell_type": "code",
   "execution_count": 5,
   "id": "60ffeaf8",
   "metadata": {},
   "outputs": [
    {
     "data": {
      "text/plain": [
       "((153749, 3), (54191, 2))"
      ]
     },
     "execution_count": 5,
     "metadata": {},
     "output_type": "execute_result"
    }
   ],
   "source": [
    "df_id.shape, df_products.shape"
   ]
  },
  {
   "cell_type": "code",
   "execution_count": 7,
   "id": "19f209d5",
   "metadata": {},
   "outputs": [
    {
     "data": {
      "text/html": [
       "<div>\n",
       "<style scoped>\n",
       "    .dataframe tbody tr th:only-of-type {\n",
       "        vertical-align: middle;\n",
       "    }\n",
       "\n",
       "    .dataframe tbody tr th {\n",
       "        vertical-align: top;\n",
       "    }\n",
       "\n",
       "    .dataframe thead th {\n",
       "        text-align: right;\n",
       "    }\n",
       "</style>\n",
       "<table border=\"1\" class=\"dataframe\">\n",
       "  <thead>\n",
       "    <tr style=\"text-align: right;\">\n",
       "      <th></th>\n",
       "      <th>parent_chain_name</th>\n",
       "      <th>item_uuid</th>\n",
       "      <th>item_name</th>\n",
       "    </tr>\n",
       "  </thead>\n",
       "  <tbody>\n",
       "    <tr>\n",
       "      <th>0</th>\n",
       "      <td>Booker</td>\n",
       "      <td>51e6b223-2370-4c2b-9920-e211d10827d2</td>\n",
       "      <td>\\tAunt Bessie's Hearty &amp; Homely Dumpling Mix 140g</td>\n",
       "    </tr>\n",
       "    <tr>\n",
       "      <th>1</th>\n",
       "      <td>Booker</td>\n",
       "      <td>857f33a1-d181-45e2-ad7a-059f7f82b044</td>\n",
       "      <td>\\tBC Choc Fudge Brownie</td>\n",
       "    </tr>\n",
       "    <tr>\n",
       "      <th>2</th>\n",
       "      <td>Booker</td>\n",
       "      <td>3fed251f-4564-480e-8fd4-ecb29c13b0bf</td>\n",
       "      <td>\\tBatchelors Big Super Noodles Chicken Flavour...</td>\n",
       "    </tr>\n",
       "    <tr>\n",
       "      <th>3</th>\n",
       "      <td>Booker</td>\n",
       "      <td>5b70ece1-c78c-4c2f-ae37-9f752eda10a1</td>\n",
       "      <td>\\tBatchelors Condensed Soup Cream of Chicken 295g</td>\n",
       "    </tr>\n",
       "    <tr>\n",
       "      <th>4</th>\n",
       "      <td>Booker</td>\n",
       "      <td>cb60ff0b-1681-47e7-a10f-77a63e98fdb4</td>\n",
       "      <td>\\tBatchelors Cream of Tomato Condensed Soup 295g</td>\n",
       "    </tr>\n",
       "  </tbody>\n",
       "</table>\n",
       "</div>"
      ],
      "text/plain": [
       "  parent_chain_name                             item_uuid  \\\n",
       "0            Booker  51e6b223-2370-4c2b-9920-e211d10827d2   \n",
       "1            Booker  857f33a1-d181-45e2-ad7a-059f7f82b044   \n",
       "2            Booker  3fed251f-4564-480e-8fd4-ecb29c13b0bf   \n",
       "3            Booker  5b70ece1-c78c-4c2f-ae37-9f752eda10a1   \n",
       "4            Booker  cb60ff0b-1681-47e7-a10f-77a63e98fdb4   \n",
       "\n",
       "                                           item_name  \n",
       "0  \\tAunt Bessie's Hearty & Homely Dumpling Mix 140g  \n",
       "1                            \\tBC Choc Fudge Brownie  \n",
       "2  \\tBatchelors Big Super Noodles Chicken Flavour...  \n",
       "3  \\tBatchelors Condensed Soup Cream of Chicken 295g  \n",
       "4   \\tBatchelors Cream of Tomato Condensed Soup 295g  "
      ]
     },
     "execution_count": 7,
     "metadata": {},
     "output_type": "execute_result"
    }
   ],
   "source": [
    "df_id.head()"
   ]
  },
  {
   "cell_type": "code",
   "execution_count": 8,
   "id": "4a70cd3c",
   "metadata": {},
   "outputs": [
    {
     "data": {
      "text/html": [
       "<div>\n",
       "<style scoped>\n",
       "    .dataframe tbody tr th:only-of-type {\n",
       "        vertical-align: middle;\n",
       "    }\n",
       "\n",
       "    .dataframe tbody tr th {\n",
       "        vertical-align: top;\n",
       "    }\n",
       "\n",
       "    .dataframe thead th {\n",
       "        text-align: right;\n",
       "    }\n",
       "</style>\n",
       "<table border=\"1\" class=\"dataframe\">\n",
       "  <thead>\n",
       "    <tr style=\"text-align: right;\">\n",
       "      <th></th>\n",
       "      <th>parent_chain_name</th>\n",
       "      <th>item_name</th>\n",
       "    </tr>\n",
       "  </thead>\n",
       "  <tbody>\n",
       "    <tr>\n",
       "      <th>0</th>\n",
       "      <td>Booker</td>\n",
       "      <td>\\tAunt Bessie's Hearty &amp; Homely Dumpling Mix 140g</td>\n",
       "    </tr>\n",
       "    <tr>\n",
       "      <th>1</th>\n",
       "      <td>Booker</td>\n",
       "      <td>\\tBC Choc Fudge Brownie</td>\n",
       "    </tr>\n",
       "    <tr>\n",
       "      <th>2</th>\n",
       "      <td>Booker</td>\n",
       "      <td>\\tBatchelors Big Super Noodles Chicken Flavour...</td>\n",
       "    </tr>\n",
       "    <tr>\n",
       "      <th>3</th>\n",
       "      <td>Booker</td>\n",
       "      <td>\\tBatchelors Condensed Soup Cream of Chicken 295g</td>\n",
       "    </tr>\n",
       "    <tr>\n",
       "      <th>4</th>\n",
       "      <td>Booker</td>\n",
       "      <td>\\tBatchelors Cream of Tomato Condensed Soup 295g</td>\n",
       "    </tr>\n",
       "  </tbody>\n",
       "</table>\n",
       "</div>"
      ],
      "text/plain": [
       "  parent_chain_name                                          item_name\n",
       "0            Booker  \\tAunt Bessie's Hearty & Homely Dumpling Mix 140g\n",
       "1            Booker                            \\tBC Choc Fudge Brownie\n",
       "2            Booker  \\tBatchelors Big Super Noodles Chicken Flavour...\n",
       "3            Booker  \\tBatchelors Condensed Soup Cream of Chicken 295g\n",
       "4            Booker   \\tBatchelors Cream of Tomato Condensed Soup 295g"
      ]
     },
     "execution_count": 8,
     "metadata": {},
     "output_type": "execute_result"
    }
   ],
   "source": [
    "df_products.head()"
   ]
  },
  {
   "cell_type": "markdown",
   "id": "589a84de",
   "metadata": {},
   "source": [
    "### Do we have a map between all products?"
   ]
  },
  {
   "cell_type": "code",
   "execution_count": 9,
   "id": "0da75348",
   "metadata": {},
   "outputs": [],
   "source": [
    "item_name_list = list(df_products.item_name.unique())"
   ]
  },
  {
   "cell_type": "code",
   "execution_count": 11,
   "id": "b102f906",
   "metadata": {},
   "outputs": [],
   "source": [
    "item_uuid_list = list(df_id.item_name.unique())"
   ]
  },
  {
   "cell_type": "markdown",
   "id": "79065288",
   "metadata": {},
   "source": [
    "#### a) Products in df_products that have no ID"
   ]
  },
  {
   "cell_type": "code",
   "execution_count": 12,
   "id": "0318a28b",
   "metadata": {},
   "outputs": [],
   "source": [
    "not_uuid = []\n",
    "for product_ in item_name_list:\n",
    "    if product_ not in item_uuid_list:\n",
    "        not_uuid.append(product_)"
   ]
  },
  {
   "cell_type": "code",
   "execution_count": 14,
   "id": "4beed1cc",
   "metadata": {},
   "outputs": [
    {
     "data": {
      "text/plain": [
       "515"
      ]
     },
     "execution_count": 14,
     "metadata": {},
     "output_type": "execute_result"
    }
   ],
   "source": [
    "len(not_uuid)"
   ]
  },
  {
   "cell_type": "markdown",
   "id": "ba94e8b2",
   "metadata": {},
   "source": [
    "#### b) Products in df_id not in df_products"
   ]
  },
  {
   "cell_type": "code",
   "execution_count": 15,
   "id": "4d96c4f3",
   "metadata": {},
   "outputs": [],
   "source": [
    "not_name = []\n",
    "for product_ in item_uuid_list:\n",
    "    if product_ not in item_name_list:\n",
    "        not_name.append(product_)"
   ]
  },
  {
   "cell_type": "code",
   "execution_count": 16,
   "id": "5962476d",
   "metadata": {},
   "outputs": [
    {
     "data": {
      "text/plain": [
       "2456"
      ]
     },
     "execution_count": 16,
     "metadata": {},
     "output_type": "execute_result"
    }
   ],
   "source": [
    "len(not_name)"
   ]
  },
  {
   "cell_type": "markdown",
   "id": "e5b92534",
   "metadata": {},
   "source": [
    "### Mapping existant combinations"
   ]
  },
  {
   "cell_type": "code",
   "execution_count": 19,
   "id": "ffe88474",
   "metadata": {},
   "outputs": [],
   "source": [
    "df_id.drop('parent_chain_name', axis=1, inplace=True)"
   ]
  },
  {
   "cell_type": "code",
   "execution_count": 20,
   "id": "e81ab951",
   "metadata": {},
   "outputs": [
    {
     "data": {
      "text/html": [
       "<div>\n",
       "<style scoped>\n",
       "    .dataframe tbody tr th:only-of-type {\n",
       "        vertical-align: middle;\n",
       "    }\n",
       "\n",
       "    .dataframe tbody tr th {\n",
       "        vertical-align: top;\n",
       "    }\n",
       "\n",
       "    .dataframe thead th {\n",
       "        text-align: right;\n",
       "    }\n",
       "</style>\n",
       "<table border=\"1\" class=\"dataframe\">\n",
       "  <thead>\n",
       "    <tr style=\"text-align: right;\">\n",
       "      <th></th>\n",
       "      <th>item_uuid</th>\n",
       "      <th>item_name</th>\n",
       "    </tr>\n",
       "  </thead>\n",
       "  <tbody>\n",
       "    <tr>\n",
       "      <th>0</th>\n",
       "      <td>51e6b223-2370-4c2b-9920-e211d10827d2</td>\n",
       "      <td>\\tAunt Bessie's Hearty &amp; Homely Dumpling Mix 140g</td>\n",
       "    </tr>\n",
       "    <tr>\n",
       "      <th>1</th>\n",
       "      <td>857f33a1-d181-45e2-ad7a-059f7f82b044</td>\n",
       "      <td>\\tBC Choc Fudge Brownie</td>\n",
       "    </tr>\n",
       "    <tr>\n",
       "      <th>2</th>\n",
       "      <td>3fed251f-4564-480e-8fd4-ecb29c13b0bf</td>\n",
       "      <td>\\tBatchelors Big Super Noodles Chicken Flavour...</td>\n",
       "    </tr>\n",
       "    <tr>\n",
       "      <th>3</th>\n",
       "      <td>5b70ece1-c78c-4c2f-ae37-9f752eda10a1</td>\n",
       "      <td>\\tBatchelors Condensed Soup Cream of Chicken 295g</td>\n",
       "    </tr>\n",
       "    <tr>\n",
       "      <th>4</th>\n",
       "      <td>cb60ff0b-1681-47e7-a10f-77a63e98fdb4</td>\n",
       "      <td>\\tBatchelors Cream of Tomato Condensed Soup 295g</td>\n",
       "    </tr>\n",
       "  </tbody>\n",
       "</table>\n",
       "</div>"
      ],
      "text/plain": [
       "                              item_uuid  \\\n",
       "0  51e6b223-2370-4c2b-9920-e211d10827d2   \n",
       "1  857f33a1-d181-45e2-ad7a-059f7f82b044   \n",
       "2  3fed251f-4564-480e-8fd4-ecb29c13b0bf   \n",
       "3  5b70ece1-c78c-4c2f-ae37-9f752eda10a1   \n",
       "4  cb60ff0b-1681-47e7-a10f-77a63e98fdb4   \n",
       "\n",
       "                                           item_name  \n",
       "0  \\tAunt Bessie's Hearty & Homely Dumpling Mix 140g  \n",
       "1                            \\tBC Choc Fudge Brownie  \n",
       "2  \\tBatchelors Big Super Noodles Chicken Flavour...  \n",
       "3  \\tBatchelors Condensed Soup Cream of Chicken 295g  \n",
       "4   \\tBatchelors Cream of Tomato Condensed Soup 295g  "
      ]
     },
     "execution_count": 20,
     "metadata": {},
     "output_type": "execute_result"
    }
   ],
   "source": [
    "df_id.head()"
   ]
  },
  {
   "cell_type": "code",
   "execution_count": 18,
   "id": "4b275614",
   "metadata": {},
   "outputs": [
    {
     "data": {
      "text/html": [
       "<div>\n",
       "<style scoped>\n",
       "    .dataframe tbody tr th:only-of-type {\n",
       "        vertical-align: middle;\n",
       "    }\n",
       "\n",
       "    .dataframe tbody tr th {\n",
       "        vertical-align: top;\n",
       "    }\n",
       "\n",
       "    .dataframe thead th {\n",
       "        text-align: right;\n",
       "    }\n",
       "</style>\n",
       "<table border=\"1\" class=\"dataframe\">\n",
       "  <thead>\n",
       "    <tr style=\"text-align: right;\">\n",
       "      <th></th>\n",
       "      <th>parent_chain_name</th>\n",
       "      <th>item_name</th>\n",
       "    </tr>\n",
       "  </thead>\n",
       "  <tbody>\n",
       "    <tr>\n",
       "      <th>0</th>\n",
       "      <td>Booker</td>\n",
       "      <td>\\tAunt Bessie's Hearty &amp; Homely Dumpling Mix 140g</td>\n",
       "    </tr>\n",
       "    <tr>\n",
       "      <th>1</th>\n",
       "      <td>Booker</td>\n",
       "      <td>\\tBC Choc Fudge Brownie</td>\n",
       "    </tr>\n",
       "    <tr>\n",
       "      <th>2</th>\n",
       "      <td>Booker</td>\n",
       "      <td>\\tBatchelors Big Super Noodles Chicken Flavour...</td>\n",
       "    </tr>\n",
       "    <tr>\n",
       "      <th>3</th>\n",
       "      <td>Booker</td>\n",
       "      <td>\\tBatchelors Condensed Soup Cream of Chicken 295g</td>\n",
       "    </tr>\n",
       "    <tr>\n",
       "      <th>4</th>\n",
       "      <td>Booker</td>\n",
       "      <td>\\tBatchelors Cream of Tomato Condensed Soup 295g</td>\n",
       "    </tr>\n",
       "  </tbody>\n",
       "</table>\n",
       "</div>"
      ],
      "text/plain": [
       "  parent_chain_name                                          item_name\n",
       "0            Booker  \\tAunt Bessie's Hearty & Homely Dumpling Mix 140g\n",
       "1            Booker                            \\tBC Choc Fudge Brownie\n",
       "2            Booker  \\tBatchelors Big Super Noodles Chicken Flavour...\n",
       "3            Booker  \\tBatchelors Condensed Soup Cream of Chicken 295g\n",
       "4            Booker   \\tBatchelors Cream of Tomato Condensed Soup 295g"
      ]
     },
     "execution_count": 18,
     "metadata": {},
     "output_type": "execute_result"
    }
   ],
   "source": [
    "df_products.head()"
   ]
  },
  {
   "cell_type": "code",
   "execution_count": 26,
   "id": "4e49dc8c",
   "metadata": {},
   "outputs": [],
   "source": [
    "df = df_products.merge(df_id, how='left', on='item_name')"
   ]
  },
  {
   "cell_type": "code",
   "execution_count": 31,
   "id": "77cd4d7b",
   "metadata": {},
   "outputs": [],
   "source": [
    "df['parent_chain_name'] = 'Booker'"
   ]
  },
  {
   "cell_type": "code",
   "execution_count": 37,
   "id": "157e355c",
   "metadata": {},
   "outputs": [],
   "source": [
    "df = df.loc[:, ['parent_chain_name', 'item_uuid', 'item_name']]"
   ]
  },
  {
   "cell_type": "code",
   "execution_count": 41,
   "id": "a6e7ff9b",
   "metadata": {},
   "outputs": [],
   "source": [
    "df = df.drop_duplicates().reset_index(drop=True)"
   ]
  },
  {
   "cell_type": "code",
   "execution_count": 46,
   "id": "6ecd3cf7",
   "metadata": {},
   "outputs": [
    {
     "name": "stdout",
     "output_type": "stream",
     "text": [
      "Number of products without uuid match: 515\n"
     ]
    }
   ],
   "source": [
    "print(f'Number of products without uuid match: {df[df[\"item_uuid\"].isna()].shape[0]}')"
   ]
  },
  {
   "cell_type": "code",
   "execution_count": 47,
   "id": "51ffdea6",
   "metadata": {},
   "outputs": [],
   "source": [
    "df.to_csv('data/uk_uuid_name.csv', index=False)"
   ]
  },
  {
   "cell_type": "code",
   "execution_count": null,
   "id": "77997c6d",
   "metadata": {},
   "outputs": [],
   "source": []
  },
  {
   "cell_type": "code",
   "execution_count": null,
   "id": "a902cb9f",
   "metadata": {},
   "outputs": [],
   "source": []
  },
  {
   "cell_type": "code",
   "execution_count": null,
   "id": "6ffe6fc5",
   "metadata": {},
   "outputs": [],
   "source": []
  },
  {
   "cell_type": "code",
   "execution_count": null,
   "id": "cae364e2",
   "metadata": {},
   "outputs": [],
   "source": []
  },
  {
   "cell_type": "code",
   "execution_count": null,
   "id": "7ad23aee",
   "metadata": {},
   "outputs": [],
   "source": []
  },
  {
   "cell_type": "code",
   "execution_count": null,
   "id": "3dfc2fe4",
   "metadata": {},
   "outputs": [],
   "source": []
  },
  {
   "cell_type": "code",
   "execution_count": null,
   "id": "33582646",
   "metadata": {},
   "outputs": [],
   "source": []
  },
  {
   "cell_type": "code",
   "execution_count": null,
   "id": "380feb5d",
   "metadata": {},
   "outputs": [],
   "source": []
  }
 ],
 "metadata": {
  "kernelspec": {
   "display_name": "Python 3 (ipykernel)",
   "language": "python",
   "name": "python3"
  },
  "language_info": {
   "codemirror_mode": {
    "name": "ipython",
    "version": 3
   },
   "file_extension": ".py",
   "mimetype": "text/x-python",
   "name": "python",
   "nbconvert_exporter": "python",
   "pygments_lexer": "ipython3",
   "version": "3.9.13"
  }
 },
 "nbformat": 4,
 "nbformat_minor": 5
}
