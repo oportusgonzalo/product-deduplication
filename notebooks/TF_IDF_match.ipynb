{
 "cells": [
  {
   "cell_type": "code",
   "execution_count": 142,
   "id": "1ee9d786",
   "metadata": {},
   "outputs": [],
   "source": [
    "import pandas as pd\n",
    "import numpy as np\n",
    "import re\n",
    "import Levenshtein as lev\n",
    "from fuzzywuzzy import fuzz\n",
    "import time\n",
    "import sys\n",
    "\n",
    "import warnings\n",
    "warnings.filterwarnings(\"ignore\")"
   ]
  },
  {
   "cell_type": "code",
   "execution_count": 143,
   "id": "25d5e6b9",
   "metadata": {},
   "outputs": [
    {
     "name": "stderr",
     "output_type": "stream",
     "text": [
      "[nltk_data] Downloading package stopwords to\n",
      "[nltk_data]     /Users/gonzalooportus/nltk_data...\n",
      "[nltk_data]   Package stopwords is already up-to-date!\n",
      "[nltk_data] Downloading package punkt to\n",
      "[nltk_data]     /Users/gonzalooportus/nltk_data...\n",
      "[nltk_data]   Package punkt is already up-to-date!\n",
      "[nltk_data] Downloading package wordnet to\n",
      "[nltk_data]     /Users/gonzalooportus/nltk_data...\n",
      "[nltk_data]   Package wordnet is already up-to-date!\n",
      "[nltk_data] Downloading package omw-1.4 to\n",
      "[nltk_data]     /Users/gonzalooportus/nltk_data...\n",
      "[nltk_data]   Package omw-1.4 is already up-to-date!\n"
     ]
    }
   ],
   "source": [
    "import nltk.corpus\n",
    "nltk.download('stopwords')\n",
    "from nltk.corpus import stopwords\n",
    "\n",
    "nltk.download('punkt')\n",
    "from nltk.tokenize import word_tokenize\n",
    "\n",
    "nltk.download('wordnet')\n",
    "nltk.download('omw-1.4')\n",
    "\n",
    "from nltk.stem import WordNetLemmatizer"
   ]
  },
  {
   "cell_type": "markdown",
   "id": "05930792",
   "metadata": {},
   "source": [
    "# CODE"
   ]
  },
  {
   "cell_type": "code",
   "execution_count": 144,
   "id": "2870cf77",
   "metadata": {},
   "outputs": [],
   "source": [
    "# Initial time\n",
    "t_initial = time.time()"
   ]
  },
  {
   "cell_type": "markdown",
   "id": "d9c721dc",
   "metadata": {},
   "source": [
    "## 1. Pre-processing"
   ]
  },
  {
   "cell_type": "code",
   "execution_count": 145,
   "id": "c903970f",
   "metadata": {},
   "outputs": [],
   "source": [
    "# parameters definition\n",
    "country = 'cr'\n",
    "parent_chain = 'booker' # lower case and \"clean\"\n",
    "parent_chain_column = 'parent_chain_name'\n",
    "item_column = 'sku_name'\n",
    "language_ = 'es'\n",
    "threshold_products = 85\n",
    "threshold_package = 75\n",
    "parent_chain_use = False\n",
    "# to fix top in get_matches_df function\n",
    "stop_ = False"
   ]
  },
  {
   "cell_type": "code",
   "execution_count": 146,
   "id": "02bcc9ec",
   "metadata": {},
   "outputs": [],
   "source": [
    "# reading raw data\n",
    "data = pd.read_csv('data/CR_products.csv')"
   ]
  },
  {
   "cell_type": "code",
   "execution_count": 147,
   "id": "c49f49d5",
   "metadata": {},
   "outputs": [],
   "source": [
    "def clean_text(df, col_name, new_col_name):\n",
    "    # column values to lower case\n",
    "    df[new_col_name] = df[col_name].str.lower().str.strip()\n",
    "    # removes special characters\n",
    "    df[new_col_name] = df[new_col_name].apply(lambda x: re.sub(r\"(@[A-Za-z0-9]+)|([^0-9A-Za-z.% \\t])\", \"\", x))\n",
    "    return df"
   ]
  },
  {
   "cell_type": "code",
   "execution_count": 148,
   "id": "6dad2377",
   "metadata": {},
   "outputs": [],
   "source": [
    "if parent_chain_use:\n",
    "    # cleaning parent chain name as it has duplicated entries\n",
    "    df = clean_text(data, parent_chain_column, '{}_{}'.format(parent_chain_column, 'norm'))\n",
    "    # chain selection and columns to work on\n",
    "    df_nlp = df[df['parent_chain_name_norm'] == parent_chain]\n",
    "    df_nlp = df_nlp.loc[:, ['parent_chain_name_norm', item_column]].reset_index(drop=True)\n",
    "else:\n",
    "    df_nlp = data.loc[:, [item_column]].drop_duplicates().reset_index(drop=True)"
   ]
  },
  {
   "cell_type": "code",
   "execution_count": 149,
   "id": "3bd1a9ec",
   "metadata": {},
   "outputs": [],
   "source": [
    "# item name standardization\n",
    "df_nlp.rename(columns={'sku_name': 'item_name'}, inplace=True)"
   ]
  },
  {
   "cell_type": "code",
   "execution_count": 150,
   "id": "baee2ac8",
   "metadata": {},
   "outputs": [
    {
     "name": "stdout",
     "output_type": "stream",
     "text": [
      "Initial products: 2782\n"
     ]
    }
   ],
   "source": [
    "print(f\"Initial products: {len(list(set(df_nlp['item_name'].unique())))}\")"
   ]
  },
  {
   "cell_type": "markdown",
   "id": "63524601",
   "metadata": {},
   "source": [
    "## 2. NLP Aplication"
   ]
  },
  {
   "cell_type": "code",
   "execution_count": 151,
   "id": "185780a4",
   "metadata": {},
   "outputs": [],
   "source": [
    "if language_ == 'en':\n",
    "    stop_words = stopwords.words('english')\n",
    "elif language_ == 'es':\n",
    "    stop_words = stopwords.words('spanish')"
   ]
  },
  {
   "cell_type": "code",
   "execution_count": 152,
   "id": "4ebc61ea",
   "metadata": {},
   "outputs": [],
   "source": [
    "def replace_stop_words(df, col, stop_list):\n",
    "    df['{}_stop'.format(col)] = df[col].apply(lambda x: ' '.join([word for word in x.split() if x not in stop_list]))\n",
    "    return df"
   ]
  },
  {
   "cell_type": "code",
   "execution_count": 153,
   "id": "c9038993",
   "metadata": {},
   "outputs": [],
   "source": [
    "def word_lemmatizer(text):\n",
    "    text_lemma = [WordNetLemmatizer().lemmatize(word) for word in text]\n",
    "    return text_lemma"
   ]
  },
  {
   "cell_type": "code",
   "execution_count": 154,
   "id": "66abde9c",
   "metadata": {},
   "outputs": [],
   "source": [
    "regex_clean = r'(pm \\d+\\w+)|(pm \\d+\\.\\d+)|(pm\\d+\\.\\d+)|(\\d+ pmp)|(pm\\d+)|( \\.+)|(pmp\\d+.\\d+)|(\\d+pmp)|(pmp \\d+)|(\\d+.\\d+ pm)'\n"
   ]
  },
  {
   "cell_type": "code",
   "execution_count": 155,
   "id": "e733a299",
   "metadata": {},
   "outputs": [],
   "source": [
    "def nlp_cleaning(df, stop_words, regex_clean):\n",
    "    # normalization\n",
    "    df = clean_text(df, 'item_name', 'item_name_norm')\n",
    "    # remove stop words\n",
    "    df = replace_stop_words(df, 'item_name_norm', stop_words)\n",
    "    # tokenize text\n",
    "    df['item_name_token'] = df['item_name_norm_stop'].apply(lambda x: word_tokenize(x))\n",
    "    # lemmatization\n",
    "    df['item_name_token_lemma'] = df['item_name_token'].apply(lambda x: word_lemmatizer(x))\n",
    "    # joining lemmas\n",
    "    df['product_name'] = df['item_name_token_lemma'].apply(lambda list_: ' '.join([word for word in list_]))\n",
    "    # cleaning product names with regex\n",
    "    df['product_name'] = df['product_name'].apply(lambda x: re.sub(regex_clean, \"\", x))\n",
    "    return df"
   ]
  },
  {
   "cell_type": "code",
   "execution_count": 156,
   "id": "5f179847",
   "metadata": {},
   "outputs": [],
   "source": [
    "df_nlp = nlp_cleaning(df_nlp, stop_words, regex_clean)"
   ]
  },
  {
   "cell_type": "code",
   "execution_count": 157,
   "id": "0ae0dc7a",
   "metadata": {},
   "outputs": [
    {
     "data": {
      "text/plain": [
       "(2782, 1273)"
      ]
     },
     "execution_count": 157,
     "metadata": {},
     "output_type": "execute_result"
    }
   ],
   "source": [
    "# unique items\n",
    "len(df_nlp.item_name.unique()), len(df_nlp.product_name.unique())"
   ]
  },
  {
   "cell_type": "code",
   "execution_count": 158,
   "id": "69989f5d",
   "metadata": {},
   "outputs": [
    {
     "data": {
      "text/html": [
       "<div>\n",
       "<style scoped>\n",
       "    .dataframe tbody tr th:only-of-type {\n",
       "        vertical-align: middle;\n",
       "    }\n",
       "\n",
       "    .dataframe tbody tr th {\n",
       "        vertical-align: top;\n",
       "    }\n",
       "\n",
       "    .dataframe thead th {\n",
       "        text-align: right;\n",
       "    }\n",
       "</style>\n",
       "<table border=\"1\" class=\"dataframe\">\n",
       "  <thead>\n",
       "    <tr style=\"text-align: right;\">\n",
       "      <th></th>\n",
       "      <th>item_name</th>\n",
       "      <th>item_name_norm</th>\n",
       "      <th>item_name_norm_stop</th>\n",
       "      <th>item_name_token</th>\n",
       "      <th>item_name_token_lemma</th>\n",
       "      <th>product_name</th>\n",
       "    </tr>\n",
       "  </thead>\n",
       "  <tbody>\n",
       "    <tr>\n",
       "      <th>0</th>\n",
       "      <td>Chocolate Guayabita Gallito 35 g 0293</td>\n",
       "      <td>chocolate guayabita gallito 35 g 0293</td>\n",
       "      <td>chocolate guayabita gallito 35 g 0293</td>\n",
       "      <td>[chocolate, guayabita, gallito, 35, g, 0293]</td>\n",
       "      <td>[chocolate, guayabita, gallito, 35, g, 0293]</td>\n",
       "      <td>chocolate guayabita gallito 35 g 0293</td>\n",
       "    </tr>\n",
       "    <tr>\n",
       "      <th>1</th>\n",
       "      <td>2 Dos Pinos Trits Pie Limón 100 g 25% Desc</td>\n",
       "      <td>2 dos pinos trits pie limn 100 g 25% desc</td>\n",
       "      <td>2 dos pinos trits pie limn 100 g 25% desc</td>\n",
       "      <td>[2, dos, pinos, trits, pie, limn, 100, g, 25, ...</td>\n",
       "      <td>[2, do, pinos, trits, pie, limn, 100, g, 25, %...</td>\n",
       "      <td>2 do pinos trits pie limn 100 g 25 % desc</td>\n",
       "    </tr>\n",
       "  </tbody>\n",
       "</table>\n",
       "</div>"
      ],
      "text/plain": [
       "                                      item_name  \\\n",
       "0         Chocolate Guayabita Gallito 35 g 0293   \n",
       "1  2 Dos Pinos Trits Pie Limón 100 g 25% Desc     \n",
       "\n",
       "                              item_name_norm  \\\n",
       "0      chocolate guayabita gallito 35 g 0293   \n",
       "1  2 dos pinos trits pie limn 100 g 25% desc   \n",
       "\n",
       "                         item_name_norm_stop  \\\n",
       "0      chocolate guayabita gallito 35 g 0293   \n",
       "1  2 dos pinos trits pie limn 100 g 25% desc   \n",
       "\n",
       "                                     item_name_token  \\\n",
       "0       [chocolate, guayabita, gallito, 35, g, 0293]   \n",
       "1  [2, dos, pinos, trits, pie, limn, 100, g, 25, ...   \n",
       "\n",
       "                               item_name_token_lemma  \\\n",
       "0       [chocolate, guayabita, gallito, 35, g, 0293]   \n",
       "1  [2, do, pinos, trits, pie, limn, 100, g, 25, %...   \n",
       "\n",
       "                                product_name  \n",
       "0      chocolate guayabita gallito 35 g 0293  \n",
       "1  2 do pinos trits pie limn 100 g 25 % desc  "
      ]
     },
     "execution_count": 158,
     "metadata": {},
     "output_type": "execute_result"
    }
   ],
   "source": [
    "df_nlp[:2]"
   ]
  },
  {
   "cell_type": "markdown",
   "id": "6b7da2e5",
   "metadata": {},
   "source": [
    "## 3. TF-IDF Application"
   ]
  },
  {
   "cell_type": "code",
   "execution_count": 159,
   "id": "bc1c7c9c",
   "metadata": {},
   "outputs": [],
   "source": [
    "# importing module\n",
    "from sklearn.feature_extraction.text import TfidfVectorizer"
   ]
  },
  {
   "cell_type": "markdown",
   "id": "7ee8f7b7",
   "metadata": {},
   "source": [
    "### Creating a tf-idf matrix"
   ]
  },
  {
   "cell_type": "code",
   "execution_count": 160,
   "id": "787d905e",
   "metadata": {},
   "outputs": [],
   "source": [
    "df_tf = df_nlp.loc[:, ['product_name']]"
   ]
  },
  {
   "cell_type": "code",
   "execution_count": 161,
   "id": "7ab75f3d",
   "metadata": {},
   "outputs": [],
   "source": [
    "df_tf = df_tf.drop_duplicates().reset_index(drop=True)"
   ]
  },
  {
   "cell_type": "code",
   "execution_count": 162,
   "id": "891bf701",
   "metadata": {},
   "outputs": [],
   "source": [
    "df_tf['id'] = range(1, len(df_tf) + 1)"
   ]
  },
  {
   "cell_type": "code",
   "execution_count": 163,
   "id": "2c9bb307",
   "metadata": {},
   "outputs": [],
   "source": [
    "# create object\n",
    "tfidf_vectorizer = TfidfVectorizer(ngram_range=(1,2), max_df=0.9, min_df=2, token_pattern='(\\S+)')"
   ]
  },
  {
   "cell_type": "code",
   "execution_count": 164,
   "id": "f53866e7",
   "metadata": {},
   "outputs": [],
   "source": [
    "# get tf-idf values\n",
    "tf_idf_matrix = tfidf_vectorizer.fit_transform(df_tf['product_name'])"
   ]
  },
  {
   "cell_type": "code",
   "execution_count": 165,
   "id": "a5ca3581",
   "metadata": {},
   "outputs": [
    {
     "data": {
      "text/plain": [
       "(1273, 2026)"
      ]
     },
     "execution_count": 165,
     "metadata": {},
     "output_type": "execute_result"
    }
   ],
   "source": [
    "tf_idf_matrix.shape"
   ]
  },
  {
   "cell_type": "markdown",
   "id": "4862f4f9",
   "metadata": {},
   "source": [
    "## 4. Computing cosine similarity"
   ]
  },
  {
   "cell_type": "markdown",
   "id": "8fac7d07",
   "metadata": {},
   "source": [
    "We'll implement an approach from here: https://bergvca.github.io/2017/10/14/super-fast-string-matching.html\n",
    "\n",
    "The reason is that calculates the similarities much faster."
   ]
  },
  {
   "cell_type": "code",
   "execution_count": 166,
   "id": "4bf27f09",
   "metadata": {},
   "outputs": [],
   "source": [
    "from scipy.sparse import csr_matrix\n",
    "import sparse_dot_topn.sparse_dot_topn as ct"
   ]
  },
  {
   "cell_type": "code",
   "execution_count": 167,
   "id": "e7a04b03",
   "metadata": {},
   "outputs": [],
   "source": [
    "def cosine_similarity(A, B, ntop, lower_bound=0):\n",
    "    # force A and B as a compressed sparse row (CSR) matrix.\n",
    "    # CSR --> efficient operations, fast matrix vector products\n",
    "    # If they have already been CSR, there is no overhead\n",
    "    A = A.tocsr()\n",
    "    B = B.tocsr()\n",
    "    M, _ = A.shape\n",
    "    _, N = B.shape\n",
    " \n",
    "    idx_dtype = np.int32\n",
    " \n",
    "    nnz_max = M*ntop\n",
    " \n",
    "    indptr = np.zeros(M+1, dtype=idx_dtype)\n",
    "    indices = np.zeros(nnz_max, dtype=idx_dtype)\n",
    "    data = np.zeros(nnz_max, dtype=A.dtype)\n",
    "    ct.sparse_dot_topn(\n",
    "            M, N, np.asarray(A.indptr, dtype=idx_dtype),\n",
    "            np.asarray(A.indices, dtype=idx_dtype),\n",
    "            A.data,\n",
    "            np.asarray(B.indptr, dtype=idx_dtype),\n",
    "            np.asarray(B.indices, dtype=idx_dtype),\n",
    "            B.data,\n",
    "            ntop,\n",
    "            lower_bound,\n",
    "            indptr, indices, data)\n",
    "    \n",
    "    return csr_matrix((data,indices,indptr),shape=(M,N))"
   ]
  },
  {
   "cell_type": "code",
   "execution_count": 168,
   "id": "33bddfd8",
   "metadata": {},
   "outputs": [],
   "source": [
    "matches = cosine_similarity(tf_idf_matrix, tf_idf_matrix.transpose(), 20, 0)"
   ]
  },
  {
   "cell_type": "code",
   "execution_count": 169,
   "id": "d4da2f78",
   "metadata": {},
   "outputs": [
    {
     "data": {
      "text/plain": [
       "(1273, 1273)"
      ]
     },
     "execution_count": 169,
     "metadata": {},
     "output_type": "execute_result"
    }
   ],
   "source": [
    "matches.shape"
   ]
  },
  {
   "cell_type": "markdown",
   "id": "3c784f93",
   "metadata": {},
   "source": [
    "### Create a match table to show the similarity scores"
   ]
  },
  {
   "cell_type": "code",
   "execution_count": 170,
   "id": "f0de44a2",
   "metadata": {},
   "outputs": [],
   "source": [
    "def get_matches_df(sparse_matrix, name_vector, top=100):\n",
    "    non_zeros = sparse_matrix.nonzero()\n",
    "    \n",
    "    sparserows = non_zeros[0]\n",
    "    sparsecols = non_zeros[1]\n",
    "    \n",
    "    if top:\n",
    "        nr_matches = top\n",
    "    else:\n",
    "        nr_matches = sparsecols.size\n",
    "    \n",
    "    left_side = np.empty([nr_matches], dtype=object)\n",
    "    right_side = np.empty([nr_matches], dtype=object)\n",
    "    similairity = np.zeros(nr_matches)\n",
    "    \n",
    "    for index in range(0, nr_matches):\n",
    "        left_side[index] = name_vector[sparserows[index]]\n",
    "        right_side[index] = name_vector[sparsecols[index]]\n",
    "        similairity[index] = sparse_matrix.data[index]\n",
    "    \n",
    "    return pd.DataFrame({'product_name': left_side,\n",
    "                          'match': right_side,\n",
    "                           'similarity_score': similairity})"
   ]
  },
  {
   "cell_type": "code",
   "execution_count": 171,
   "id": "92fb059b",
   "metadata": {},
   "outputs": [],
   "source": [
    "# HOW TO AUTOMATE TOP SELECTION?\n",
    "matches_df = pd.DataFrame()\n",
    "matches_df = get_matches_df(matches, df_tf['product_name'], top=False) #uk: 830934"
   ]
  },
  {
   "cell_type": "code",
   "execution_count": 172,
   "id": "4e856f2f",
   "metadata": {},
   "outputs": [],
   "source": [
    "if stop_:\n",
    "    print('VERIFY THAT \"TOP\" PARAMETER ON get_matches_df EXECUTED ABOVE IS THE MAXIMUM.')\n",
    "    print('HOW? - write a huge number and watch for the length in the error')\n",
    "    sys.exit()"
   ]
  },
  {
   "cell_type": "code",
   "execution_count": 173,
   "id": "8f378ed7",
   "metadata": {},
   "outputs": [],
   "source": [
    "matches_df = matches_df.drop_duplicates().reset_index(drop=True)"
   ]
  },
  {
   "cell_type": "code",
   "execution_count": 174,
   "id": "a794090f",
   "metadata": {},
   "outputs": [
    {
     "data": {
      "text/plain": [
       "(1273, 1273)"
      ]
     },
     "execution_count": 174,
     "metadata": {},
     "output_type": "execute_result"
    }
   ],
   "source": [
    "matches.shape"
   ]
  },
  {
   "cell_type": "code",
   "execution_count": 175,
   "id": "9e09848a",
   "metadata": {},
   "outputs": [
    {
     "data": {
      "text/plain": [
       "(25362, 3)"
      ]
     },
     "execution_count": 175,
     "metadata": {},
     "output_type": "execute_result"
    }
   ],
   "source": [
    "matches_df.shape"
   ]
  },
  {
   "cell_type": "code",
   "execution_count": 176,
   "id": "994c565f",
   "metadata": {},
   "outputs": [
    {
     "data": {
      "text/html": [
       "<div>\n",
       "<style scoped>\n",
       "    .dataframe tbody tr th:only-of-type {\n",
       "        vertical-align: middle;\n",
       "    }\n",
       "\n",
       "    .dataframe tbody tr th {\n",
       "        vertical-align: top;\n",
       "    }\n",
       "\n",
       "    .dataframe thead th {\n",
       "        text-align: right;\n",
       "    }\n",
       "</style>\n",
       "<table border=\"1\" class=\"dataframe\">\n",
       "  <thead>\n",
       "    <tr style=\"text-align: right;\">\n",
       "      <th></th>\n",
       "      <th>product_name</th>\n",
       "      <th>match</th>\n",
       "      <th>similarity_score</th>\n",
       "    </tr>\n",
       "  </thead>\n",
       "  <tbody>\n",
       "    <tr>\n",
       "      <th>0</th>\n",
       "      <td>chocolate guayabita gallito 35 g 0293</td>\n",
       "      <td>chocolate guayabita gallito 35 g 0293</td>\n",
       "      <td>1.000000</td>\n",
       "    </tr>\n",
       "    <tr>\n",
       "      <th>1</th>\n",
       "      <td>chocolate guayabita gallito 35 g 0293</td>\n",
       "      <td>chocolate guayabita gallito 35 g 0293 1</td>\n",
       "      <td>0.981587</td>\n",
       "    </tr>\n",
       "    <tr>\n",
       "      <th>2</th>\n",
       "      <td>chocolate guayabita gallito 35 g 0293</td>\n",
       "      <td>3 gallito chocolate guayabita 35 g 33 % desc</td>\n",
       "      <td>0.394446</td>\n",
       "    </tr>\n",
       "    <tr>\n",
       "      <th>3</th>\n",
       "      <td>chocolate guayabita gallito 35 g 0293</td>\n",
       "      <td>chocolate guayabita gallito 117 g 0263</td>\n",
       "      <td>0.372202</td>\n",
       "    </tr>\n",
       "    <tr>\n",
       "      <th>4</th>\n",
       "      <td>chocolate guayabita gallito 35 g 0293</td>\n",
       "      <td>chocolate guayabita gallito 117 g 0263 5</td>\n",
       "      <td>0.359773</td>\n",
       "    </tr>\n",
       "  </tbody>\n",
       "</table>\n",
       "</div>"
      ],
      "text/plain": [
       "                            product_name  \\\n",
       "0  chocolate guayabita gallito 35 g 0293   \n",
       "1  chocolate guayabita gallito 35 g 0293   \n",
       "2  chocolate guayabita gallito 35 g 0293   \n",
       "3  chocolate guayabita gallito 35 g 0293   \n",
       "4  chocolate guayabita gallito 35 g 0293   \n",
       "\n",
       "                                          match  similarity_score  \n",
       "0         chocolate guayabita gallito 35 g 0293          1.000000  \n",
       "1       chocolate guayabita gallito 35 g 0293 1          0.981587  \n",
       "2  3 gallito chocolate guayabita 35 g 33 % desc          0.394446  \n",
       "3        chocolate guayabita gallito 117 g 0263          0.372202  \n",
       "4      chocolate guayabita gallito 117 g 0263 5          0.359773  "
      ]
     },
     "execution_count": 176,
     "metadata": {},
     "output_type": "execute_result"
    }
   ],
   "source": [
    "matches_df.head()"
   ]
  },
  {
   "cell_type": "markdown",
   "id": "beaf6136",
   "metadata": {},
   "source": [
    "### Products without a match"
   ]
  },
  {
   "cell_type": "code",
   "execution_count": 177,
   "id": "b844e753",
   "metadata": {},
   "outputs": [],
   "source": [
    "prod_list = list(df_tf.product_name.unique())"
   ]
  },
  {
   "cell_type": "code",
   "execution_count": 178,
   "id": "31e58dc1",
   "metadata": {},
   "outputs": [],
   "source": [
    "match_list = list(matches_df[['product_name', 'match']].values.ravel('K'))"
   ]
  },
  {
   "cell_type": "code",
   "execution_count": 179,
   "id": "61a88414",
   "metadata": {},
   "outputs": [],
   "source": [
    "not_match = []\n",
    "for prod_ in prod_list:\n",
    "    if prod_ not in match_list:\n",
    "        not_match.append(prod_)"
   ]
  },
  {
   "cell_type": "code",
   "execution_count": 180,
   "id": "148450f0",
   "metadata": {},
   "outputs": [
    {
     "name": "stdout",
     "output_type": "stream",
     "text": [
      "Number of products without match: 0\n",
      "Percentage of products without match: 0.0\n"
     ]
    }
   ],
   "source": [
    "print(f'Number of products without match: {len(not_match)}')\n",
    "print(f'Percentage of products without match: {round(len(not_match)/len(prod_list), 6)}')"
   ]
  },
  {
   "cell_type": "markdown",
   "id": "6a1da8db",
   "metadata": {},
   "source": [
    "### Who are they?"
   ]
  },
  {
   "cell_type": "code",
   "execution_count": 181,
   "id": "e542cd97",
   "metadata": {},
   "outputs": [
    {
     "data": {
      "text/plain": [
       "[]"
      ]
     },
     "execution_count": 181,
     "metadata": {},
     "output_type": "execute_result"
    }
   ],
   "source": [
    "not_match[:4]"
   ]
  },
  {
   "cell_type": "markdown",
   "id": "eb597e41",
   "metadata": {},
   "source": [
    "## 5. Grouping products"
   ]
  },
  {
   "cell_type": "code",
   "execution_count": 182,
   "id": "361e2e4d",
   "metadata": {},
   "outputs": [
    {
     "data": {
      "text/plain": [
       "(25362, 3)"
      ]
     },
     "execution_count": 182,
     "metadata": {},
     "output_type": "execute_result"
    }
   ],
   "source": [
    "matches_df.shape"
   ]
  },
  {
   "cell_type": "markdown",
   "id": "88d37335",
   "metadata": {},
   "source": [
    "### 5.1 Fuzzy ratios calculation"
   ]
  },
  {
   "cell_type": "code",
   "execution_count": 183,
   "id": "72588a1d",
   "metadata": {},
   "outputs": [],
   "source": [
    "matches_df['fuzz_ratio'] = matches_df.apply(lambda x: fuzz.token_sort_ratio(x['product_name'], x['match']), axis=1)"
   ]
  },
  {
   "cell_type": "code",
   "execution_count": 184,
   "id": "292d387a",
   "metadata": {},
   "outputs": [
    {
     "data": {
      "text/html": [
       "<div>\n",
       "<style scoped>\n",
       "    .dataframe tbody tr th:only-of-type {\n",
       "        vertical-align: middle;\n",
       "    }\n",
       "\n",
       "    .dataframe tbody tr th {\n",
       "        vertical-align: top;\n",
       "    }\n",
       "\n",
       "    .dataframe thead th {\n",
       "        text-align: right;\n",
       "    }\n",
       "</style>\n",
       "<table border=\"1\" class=\"dataframe\">\n",
       "  <thead>\n",
       "    <tr style=\"text-align: right;\">\n",
       "      <th></th>\n",
       "      <th>product_name</th>\n",
       "      <th>match</th>\n",
       "      <th>similarity_score</th>\n",
       "      <th>fuzz_ratio</th>\n",
       "    </tr>\n",
       "  </thead>\n",
       "  <tbody>\n",
       "    <tr>\n",
       "      <th>0</th>\n",
       "      <td>chocolate guayabita gallito 35 g 0293</td>\n",
       "      <td>chocolate guayabita gallito 35 g 0293</td>\n",
       "      <td>1.000000</td>\n",
       "      <td>100</td>\n",
       "    </tr>\n",
       "    <tr>\n",
       "      <th>1</th>\n",
       "      <td>chocolate guayabita gallito 35 g 0293</td>\n",
       "      <td>chocolate guayabita gallito 35 g 0293 1</td>\n",
       "      <td>0.981587</td>\n",
       "      <td>97</td>\n",
       "    </tr>\n",
       "    <tr>\n",
       "      <th>2</th>\n",
       "      <td>chocolate guayabita gallito 35 g 0293</td>\n",
       "      <td>3 gallito chocolate guayabita 35 g 33 % desc</td>\n",
       "      <td>0.394446</td>\n",
       "      <td>86</td>\n",
       "    </tr>\n",
       "    <tr>\n",
       "      <th>3</th>\n",
       "      <td>chocolate guayabita gallito 35 g 0293</td>\n",
       "      <td>chocolate guayabita gallito 117 g 0263</td>\n",
       "      <td>0.372202</td>\n",
       "      <td>91</td>\n",
       "    </tr>\n",
       "    <tr>\n",
       "      <th>4</th>\n",
       "      <td>chocolate guayabita gallito 35 g 0293</td>\n",
       "      <td>chocolate guayabita gallito 117 g 0263 5</td>\n",
       "      <td>0.359773</td>\n",
       "      <td>91</td>\n",
       "    </tr>\n",
       "  </tbody>\n",
       "</table>\n",
       "</div>"
      ],
      "text/plain": [
       "                            product_name  \\\n",
       "0  chocolate guayabita gallito 35 g 0293   \n",
       "1  chocolate guayabita gallito 35 g 0293   \n",
       "2  chocolate guayabita gallito 35 g 0293   \n",
       "3  chocolate guayabita gallito 35 g 0293   \n",
       "4  chocolate guayabita gallito 35 g 0293   \n",
       "\n",
       "                                          match  similarity_score  fuzz_ratio  \n",
       "0         chocolate guayabita gallito 35 g 0293          1.000000         100  \n",
       "1       chocolate guayabita gallito 35 g 0293 1          0.981587          97  \n",
       "2  3 gallito chocolate guayabita 35 g 33 % desc          0.394446          86  \n",
       "3        chocolate guayabita gallito 117 g 0263          0.372202          91  \n",
       "4      chocolate guayabita gallito 117 g 0263 5          0.359773          91  "
      ]
     },
     "execution_count": 184,
     "metadata": {},
     "output_type": "execute_result"
    }
   ],
   "source": [
    "matches_df.head()"
   ]
  },
  {
   "cell_type": "markdown",
   "id": "29f46ebc",
   "metadata": {},
   "source": [
    "### 5.3 Splitting matches with high-low fuzzy ratios"
   ]
  },
  {
   "cell_type": "code",
   "execution_count": 185,
   "id": "5cdc99aa",
   "metadata": {},
   "outputs": [
    {
     "name": "stdout",
     "output_type": "stream",
     "text": [
      "Product Threshold: 85\n"
     ]
    }
   ],
   "source": [
    "print(f'Product Threshold: {threshold_products}')"
   ]
  },
  {
   "cell_type": "code",
   "execution_count": 186,
   "id": "aa7c5e64",
   "metadata": {},
   "outputs": [],
   "source": [
    "df_similars = matches_df[matches_df['fuzz_ratio'] >= threshold_products].\\\n",
    "                        drop_duplicates(subset=['product_name', 'match']).reset_index(drop=True)"
   ]
  },
  {
   "cell_type": "code",
   "execution_count": 187,
   "id": "181d6934",
   "metadata": {},
   "outputs": [],
   "source": [
    "df_not_similars = matches_df[matches_df['fuzz_ratio'] < threshold_products].\\\n",
    "                        drop_duplicates(subset=['product_name', 'match']).reset_index(drop=True)"
   ]
  },
  {
   "cell_type": "markdown",
   "id": "baf999d9",
   "metadata": {},
   "source": [
    "PREGUNTA:\n",
    "    \n",
    "    * Como ir formando los grupos extrayendo la totalidad de ellos?\n",
    "    * Agrego los similares de los similares?"
   ]
  },
  {
   "cell_type": "markdown",
   "id": "fc76a450",
   "metadata": {},
   "source": [
    "### 5.4 Logic to aggregate"
   ]
  },
  {
   "cell_type": "code",
   "execution_count": 188,
   "id": "b4ecedd7",
   "metadata": {},
   "outputs": [],
   "source": [
    "df_similars = df_similars.sort_values(by=['product_name', 'match']).reset_index(drop=True)"
   ]
  },
  {
   "cell_type": "markdown",
   "id": "4c2441b4",
   "metadata": {},
   "source": [
    "### a) Extending similarities"
   ]
  },
  {
   "cell_type": "code",
   "execution_count": 189,
   "id": "d7392523",
   "metadata": {},
   "outputs": [
    {
     "data": {
      "text/plain": [
       "(4033, 4)"
      ]
     },
     "execution_count": 189,
     "metadata": {},
     "output_type": "execute_result"
    }
   ],
   "source": [
    "df_similars.shape"
   ]
  },
  {
   "cell_type": "code",
   "execution_count": 190,
   "id": "4716273a",
   "metadata": {},
   "outputs": [],
   "source": [
    "df_similars_copy = df_similars.drop(columns=['similarity_score', 'fuzz_ratio'], axis=1).copy()"
   ]
  },
  {
   "cell_type": "code",
   "execution_count": 191,
   "id": "be143efc",
   "metadata": {},
   "outputs": [],
   "source": [
    "df_similars_copy.rename(columns={'match': 'extended_match', 'product_name': 'match'}, inplace=True)"
   ]
  },
  {
   "cell_type": "code",
   "execution_count": 192,
   "id": "161b0e8c",
   "metadata": {},
   "outputs": [],
   "source": [
    "# extending\n",
    "df_similars_mrg = df_similars.merge(df_similars_copy, how='inner', on='match')"
   ]
  },
  {
   "cell_type": "code",
   "execution_count": 193,
   "id": "31966e0d",
   "metadata": {},
   "outputs": [
    {
     "data": {
      "text/plain": [
       "(19209, 5)"
      ]
     },
     "execution_count": 193,
     "metadata": {},
     "output_type": "execute_result"
    }
   ],
   "source": [
    "df_similars_mrg.shape"
   ]
  },
  {
   "cell_type": "code",
   "execution_count": 194,
   "id": "c184609b",
   "metadata": {},
   "outputs": [],
   "source": [
    "df_similars_mrg.drop('similarity_score', axis=1, inplace=True)"
   ]
  },
  {
   "cell_type": "code",
   "execution_count": 195,
   "id": "a83aa0c0",
   "metadata": {},
   "outputs": [],
   "source": [
    "# melt dataframe\n",
    "df_melt = df_similars_mrg.melt(id_vars=['product_name', 'fuzz_ratio'], var_name='which_match', value_name='candidate')"
   ]
  },
  {
   "cell_type": "code",
   "execution_count": 196,
   "id": "f01c61b9",
   "metadata": {},
   "outputs": [],
   "source": [
    "df_melt = df_melt.drop('which_match', axis=1)[['product_name', 'candidate', 'fuzz_ratio']]"
   ]
  },
  {
   "cell_type": "code",
   "execution_count": 197,
   "id": "c7f82911",
   "metadata": {},
   "outputs": [],
   "source": [
    "df_similars_ext = df_melt.drop_duplicates(['product_name', 'candidate']).sort_values(by=['product_name', 'candidate'])\\\n",
    "            .reset_index(drop=True)\n"
   ]
  },
  {
   "cell_type": "code",
   "execution_count": 198,
   "id": "47b1c68a",
   "metadata": {},
   "outputs": [
    {
     "data": {
      "text/html": [
       "<div>\n",
       "<style scoped>\n",
       "    .dataframe tbody tr th:only-of-type {\n",
       "        vertical-align: middle;\n",
       "    }\n",
       "\n",
       "    .dataframe tbody tr th {\n",
       "        vertical-align: top;\n",
       "    }\n",
       "\n",
       "    .dataframe thead th {\n",
       "        text-align: right;\n",
       "    }\n",
       "</style>\n",
       "<table border=\"1\" class=\"dataframe\">\n",
       "  <thead>\n",
       "    <tr style=\"text-align: right;\">\n",
       "      <th></th>\n",
       "      <th>product_name</th>\n",
       "      <th>candidate</th>\n",
       "      <th>fuzz_ratio</th>\n",
       "    </tr>\n",
       "  </thead>\n",
       "  <tbody>\n",
       "    <tr>\n",
       "      <th>0</th>\n",
       "      <td>1 do pinos helado combinado 1 tosty mix snack ...</td>\n",
       "      <td>1 do pinos helado combinado 1 tosty mix snack ...</td>\n",
       "      <td>100</td>\n",
       "    </tr>\n",
       "    <tr>\n",
       "      <th>1</th>\n",
       "      <td>1 do pinos helado combinado 1 tosty mix snack ...</td>\n",
       "      <td>1 do pinos helado combinado 1 tosty mix snack ...</td>\n",
       "      <td>90</td>\n",
       "    </tr>\n",
       "    <tr>\n",
       "      <th>2</th>\n",
       "      <td>1 do pinos helado combinado 1 tosty mix snack ...</td>\n",
       "      <td>1 do pinos helado combinado 1 tosty mix snack ...</td>\n",
       "      <td>90</td>\n",
       "    </tr>\n",
       "    <tr>\n",
       "      <th>3</th>\n",
       "      <td>1 do pinos helado combinado 1 tosty mix snack ...</td>\n",
       "      <td>1 do pinos helado combinado 1 tosty mix snack ...</td>\n",
       "      <td>100</td>\n",
       "    </tr>\n",
       "    <tr>\n",
       "      <th>4</th>\n",
       "      <td>1 helado combinado do pinos 14 gl 499 grs1 pas...</td>\n",
       "      <td>1 helado combinado do pinos 14 gl 499 grs1 pas...</td>\n",
       "      <td>100</td>\n",
       "    </tr>\n",
       "  </tbody>\n",
       "</table>\n",
       "</div>"
      ],
      "text/plain": [
       "                                        product_name  \\\n",
       "0  1 do pinos helado combinado 1 tosty mix snack ...   \n",
       "1  1 do pinos helado combinado 1 tosty mix snack ...   \n",
       "2  1 do pinos helado combinado 1 tosty mix snack ...   \n",
       "3  1 do pinos helado combinado 1 tosty mix snack ...   \n",
       "4  1 helado combinado do pinos 14 gl 499 grs1 pas...   \n",
       "\n",
       "                                           candidate  fuzz_ratio  \n",
       "0  1 do pinos helado combinado 1 tosty mix snack ...         100  \n",
       "1  1 do pinos helado combinado 1 tosty mix snack ...          90  \n",
       "2  1 do pinos helado combinado 1 tosty mix snack ...          90  \n",
       "3  1 do pinos helado combinado 1 tosty mix snack ...         100  \n",
       "4  1 helado combinado do pinos 14 gl 499 grs1 pas...         100  "
      ]
     },
     "execution_count": 198,
     "metadata": {},
     "output_type": "execute_result"
    }
   ],
   "source": [
    "df_similars_ext.head()"
   ]
  },
  {
   "cell_type": "markdown",
   "id": "4a56e4d3",
   "metadata": {},
   "source": [
    "### b) Package similarity"
   ]
  },
  {
   "cell_type": "code",
   "execution_count": 199,
   "id": "4801c06e",
   "metadata": {},
   "outputs": [],
   "source": [
    "def package_extract(df, column, regex_):\n",
    "    \"\"\"\n",
    "    Extracts the package from a product name. Uses a regular expression for these.\n",
    "    \n",
    "    Inputs:\n",
    "    - df: dataframe\n",
    "    - column: product name column where to look for packages\n",
    "    - regex_: regular expression formula to match patterns\n",
    "    \n",
    "    Output: a column with the package of the specified product name column\n",
    "    \"\"\"\n",
    "    packs = df[column].str.extract(regex_)\n",
    "    packs['package'] = packs[packs.columns[0:]].apply(lambda x: ','.join(x.dropna()), axis=1)\n",
    "    packs = packs.loc[:, ['package']]\n",
    "    return packs.loc[:, ['package']]"
   ]
  },
  {
   "cell_type": "code",
   "execution_count": 200,
   "id": "16355439",
   "metadata": {},
   "outputs": [],
   "source": [
    "reg_package = r'(\\d+x\\d+\\w+)|(\\d+ x \\d+\\w+)|(\\d+\\.+\\d+\\w+)|(\\d+\\.+\\d+ \\w+)|(\\d+ ml)|(\\d+ g)|(\\d+\\w+)|(\\d+ \\w+)'"
   ]
  },
  {
   "cell_type": "code",
   "execution_count": 201,
   "id": "53c3dbe7",
   "metadata": {},
   "outputs": [],
   "source": [
    "# extracting package\n",
    "df_similars_ext['package'] = package_extract(df_similars_ext, 'product_name', reg_package)\n",
    "df_similars_ext['package_candidate'] = package_extract(df_similars_ext, 'candidate', reg_package)"
   ]
  },
  {
   "cell_type": "code",
   "execution_count": 202,
   "id": "7cb61bf6",
   "metadata": {},
   "outputs": [],
   "source": [
    "# package similarity\n",
    "df_similars_ext['package_ratio'] = df_similars_ext.apply(lambda x: fuzz.token_sort_ratio(x['package'],\\\n",
    "                                                                                x['package_candidate']), axis=1)"
   ]
  },
  {
   "cell_type": "code",
   "execution_count": 203,
   "id": "9da2b571",
   "metadata": {},
   "outputs": [
    {
     "data": {
      "text/html": [
       "<div>\n",
       "<style scoped>\n",
       "    .dataframe tbody tr th:only-of-type {\n",
       "        vertical-align: middle;\n",
       "    }\n",
       "\n",
       "    .dataframe tbody tr th {\n",
       "        vertical-align: top;\n",
       "    }\n",
       "\n",
       "    .dataframe thead th {\n",
       "        text-align: right;\n",
       "    }\n",
       "</style>\n",
       "<table border=\"1\" class=\"dataframe\">\n",
       "  <thead>\n",
       "    <tr style=\"text-align: right;\">\n",
       "      <th></th>\n",
       "      <th>product_name</th>\n",
       "      <th>candidate</th>\n",
       "      <th>fuzz_ratio</th>\n",
       "      <th>package</th>\n",
       "      <th>package_candidate</th>\n",
       "      <th>package_ratio</th>\n",
       "    </tr>\n",
       "  </thead>\n",
       "  <tbody>\n",
       "    <tr>\n",
       "      <th>0</th>\n",
       "      <td>1 do pinos helado combinado 1 tosty mix snack ...</td>\n",
       "      <td>1 do pinos helado combinado 1 tosty mix snack ...</td>\n",
       "      <td>100</td>\n",
       "      <td>1 do</td>\n",
       "      <td>1 do</td>\n",
       "      <td>100</td>\n",
       "    </tr>\n",
       "    <tr>\n",
       "      <th>1</th>\n",
       "      <td>1 do pinos helado combinado 1 tosty mix snack ...</td>\n",
       "      <td>1 do pinos helado combinado 1 tosty mix snack ...</td>\n",
       "      <td>90</td>\n",
       "      <td>1 do</td>\n",
       "      <td>1 do</td>\n",
       "      <td>100</td>\n",
       "    </tr>\n",
       "    <tr>\n",
       "      <th>2</th>\n",
       "      <td>1 do pinos helado combinado 1 tosty mix snack ...</td>\n",
       "      <td>1 do pinos helado combinado 1 tosty mix snack ...</td>\n",
       "      <td>90</td>\n",
       "      <td>1 do</td>\n",
       "      <td>1 do</td>\n",
       "      <td>100</td>\n",
       "    </tr>\n",
       "    <tr>\n",
       "      <th>3</th>\n",
       "      <td>1 do pinos helado combinado 1 tosty mix snack ...</td>\n",
       "      <td>1 do pinos helado combinado 1 tosty mix snack ...</td>\n",
       "      <td>100</td>\n",
       "      <td>1 do</td>\n",
       "      <td>1 do</td>\n",
       "      <td>100</td>\n",
       "    </tr>\n",
       "    <tr>\n",
       "      <th>4</th>\n",
       "      <td>1 helado combinado do pinos 14 gl 499 grs1 pas...</td>\n",
       "      <td>1 helado combinado do pinos 14 gl 499 grs1 pas...</td>\n",
       "      <td>100</td>\n",
       "      <td>1 helado</td>\n",
       "      <td>1 helado</td>\n",
       "      <td>100</td>\n",
       "    </tr>\n",
       "  </tbody>\n",
       "</table>\n",
       "</div>"
      ],
      "text/plain": [
       "                                        product_name  \\\n",
       "0  1 do pinos helado combinado 1 tosty mix snack ...   \n",
       "1  1 do pinos helado combinado 1 tosty mix snack ...   \n",
       "2  1 do pinos helado combinado 1 tosty mix snack ...   \n",
       "3  1 do pinos helado combinado 1 tosty mix snack ...   \n",
       "4  1 helado combinado do pinos 14 gl 499 grs1 pas...   \n",
       "\n",
       "                                           candidate  fuzz_ratio   package  \\\n",
       "0  1 do pinos helado combinado 1 tosty mix snack ...         100      1 do   \n",
       "1  1 do pinos helado combinado 1 tosty mix snack ...          90      1 do   \n",
       "2  1 do pinos helado combinado 1 tosty mix snack ...          90      1 do   \n",
       "3  1 do pinos helado combinado 1 tosty mix snack ...         100      1 do   \n",
       "4  1 helado combinado do pinos 14 gl 499 grs1 pas...         100  1 helado   \n",
       "\n",
       "  package_candidate  package_ratio  \n",
       "0              1 do            100  \n",
       "1              1 do            100  \n",
       "2              1 do            100  \n",
       "3              1 do            100  \n",
       "4          1 helado            100  "
      ]
     },
     "execution_count": 203,
     "metadata": {},
     "output_type": "execute_result"
    }
   ],
   "source": [
    "df_similars_ext.head()"
   ]
  },
  {
   "cell_type": "markdown",
   "id": "b0afbbc8",
   "metadata": {},
   "source": [
    "### c) Tansforming product names into integers (easier to compare)"
   ]
  },
  {
   "cell_type": "code",
   "execution_count": 204,
   "id": "9a680728",
   "metadata": {},
   "outputs": [],
   "source": [
    "product_index_dict = dict(zip(df_tf['product_name'], df_tf.index))\n",
    "index_product_dict = dict(zip(df_tf.index, df_tf['product_name']))"
   ]
  },
  {
   "cell_type": "code",
   "execution_count": 205,
   "id": "9d3a79dc",
   "metadata": {},
   "outputs": [],
   "source": [
    "for col in ['product_name', 'candidate']:\n",
    "    df_similars_ext[col] = df_similars_ext[col].map(product_index_dict)"
   ]
  },
  {
   "cell_type": "code",
   "execution_count": 206,
   "id": "90ee3584",
   "metadata": {},
   "outputs": [
    {
     "data": {
      "text/html": [
       "<div>\n",
       "<style scoped>\n",
       "    .dataframe tbody tr th:only-of-type {\n",
       "        vertical-align: middle;\n",
       "    }\n",
       "\n",
       "    .dataframe tbody tr th {\n",
       "        vertical-align: top;\n",
       "    }\n",
       "\n",
       "    .dataframe thead th {\n",
       "        text-align: right;\n",
       "    }\n",
       "</style>\n",
       "<table border=\"1\" class=\"dataframe\">\n",
       "  <thead>\n",
       "    <tr style=\"text-align: right;\">\n",
       "      <th></th>\n",
       "      <th>product_name</th>\n",
       "      <th>candidate</th>\n",
       "      <th>fuzz_ratio</th>\n",
       "      <th>package</th>\n",
       "      <th>package_candidate</th>\n",
       "      <th>package_ratio</th>\n",
       "    </tr>\n",
       "  </thead>\n",
       "  <tbody>\n",
       "    <tr>\n",
       "      <th>0</th>\n",
       "      <td>489</td>\n",
       "      <td>489</td>\n",
       "      <td>100</td>\n",
       "      <td>1 do</td>\n",
       "      <td>1 do</td>\n",
       "      <td>100</td>\n",
       "    </tr>\n",
       "    <tr>\n",
       "      <th>1</th>\n",
       "      <td>489</td>\n",
       "      <td>825</td>\n",
       "      <td>90</td>\n",
       "      <td>1 do</td>\n",
       "      <td>1 do</td>\n",
       "      <td>100</td>\n",
       "    </tr>\n",
       "    <tr>\n",
       "      <th>2</th>\n",
       "      <td>825</td>\n",
       "      <td>489</td>\n",
       "      <td>90</td>\n",
       "      <td>1 do</td>\n",
       "      <td>1 do</td>\n",
       "      <td>100</td>\n",
       "    </tr>\n",
       "    <tr>\n",
       "      <th>3</th>\n",
       "      <td>825</td>\n",
       "      <td>825</td>\n",
       "      <td>100</td>\n",
       "      <td>1 do</td>\n",
       "      <td>1 do</td>\n",
       "      <td>100</td>\n",
       "    </tr>\n",
       "    <tr>\n",
       "      <th>4</th>\n",
       "      <td>853</td>\n",
       "      <td>853</td>\n",
       "      <td>100</td>\n",
       "      <td>1 helado</td>\n",
       "      <td>1 helado</td>\n",
       "      <td>100</td>\n",
       "    </tr>\n",
       "  </tbody>\n",
       "</table>\n",
       "</div>"
      ],
      "text/plain": [
       "   product_name  candidate  fuzz_ratio   package package_candidate  \\\n",
       "0           489        489         100      1 do              1 do   \n",
       "1           489        825          90      1 do              1 do   \n",
       "2           825        489          90      1 do              1 do   \n",
       "3           825        825         100      1 do              1 do   \n",
       "4           853        853         100  1 helado          1 helado   \n",
       "\n",
       "   package_ratio  \n",
       "0            100  \n",
       "1            100  \n",
       "2            100  \n",
       "3            100  \n",
       "4            100  "
      ]
     },
     "execution_count": 206,
     "metadata": {},
     "output_type": "execute_result"
    }
   ],
   "source": [
    "df_similars_ext.head()"
   ]
  },
  {
   "cell_type": "markdown",
   "id": "4d86081e",
   "metadata": {},
   "source": [
    "### d) Package filter + Column selection"
   ]
  },
  {
   "cell_type": "code",
   "execution_count": 207,
   "id": "1130f746",
   "metadata": {},
   "outputs": [
    {
     "name": "stdout",
     "output_type": "stream",
     "text": [
      "Package Threshold: 75\n"
     ]
    }
   ],
   "source": [
    "print(f'Package Threshold: {threshold_package}')"
   ]
  },
  {
   "cell_type": "code",
   "execution_count": 208,
   "id": "a5624502",
   "metadata": {},
   "outputs": [],
   "source": [
    "df_clean = df_similars_ext[df_similars_ext['package_ratio'] > threshold_package].reset_index(drop=True)"
   ]
  },
  {
   "cell_type": "code",
   "execution_count": 209,
   "id": "f7cff373",
   "metadata": {},
   "outputs": [],
   "source": [
    "df_clean = df_clean.loc[:, ['product_name', 'candidate']]"
   ]
  },
  {
   "cell_type": "code",
   "execution_count": 210,
   "id": "10a8f5a9",
   "metadata": {},
   "outputs": [
    {
     "data": {
      "text/html": [
       "<div>\n",
       "<style scoped>\n",
       "    .dataframe tbody tr th:only-of-type {\n",
       "        vertical-align: middle;\n",
       "    }\n",
       "\n",
       "    .dataframe tbody tr th {\n",
       "        vertical-align: top;\n",
       "    }\n",
       "\n",
       "    .dataframe thead th {\n",
       "        text-align: right;\n",
       "    }\n",
       "</style>\n",
       "<table border=\"1\" class=\"dataframe\">\n",
       "  <thead>\n",
       "    <tr style=\"text-align: right;\">\n",
       "      <th></th>\n",
       "      <th>product_name</th>\n",
       "      <th>candidate</th>\n",
       "    </tr>\n",
       "  </thead>\n",
       "  <tbody>\n",
       "    <tr>\n",
       "      <th>0</th>\n",
       "      <td>489</td>\n",
       "      <td>489</td>\n",
       "    </tr>\n",
       "    <tr>\n",
       "      <th>1</th>\n",
       "      <td>489</td>\n",
       "      <td>825</td>\n",
       "    </tr>\n",
       "    <tr>\n",
       "      <th>2</th>\n",
       "      <td>825</td>\n",
       "      <td>489</td>\n",
       "    </tr>\n",
       "    <tr>\n",
       "      <th>3</th>\n",
       "      <td>825</td>\n",
       "      <td>825</td>\n",
       "    </tr>\n",
       "    <tr>\n",
       "      <th>4</th>\n",
       "      <td>853</td>\n",
       "      <td>853</td>\n",
       "    </tr>\n",
       "  </tbody>\n",
       "</table>\n",
       "</div>"
      ],
      "text/plain": [
       "   product_name  candidate\n",
       "0           489        489\n",
       "1           489        825\n",
       "2           825        489\n",
       "3           825        825\n",
       "4           853        853"
      ]
     },
     "execution_count": 210,
     "metadata": {},
     "output_type": "execute_result"
    }
   ],
   "source": [
    "df_clean.head()"
   ]
  },
  {
   "cell_type": "markdown",
   "id": "ccce2606",
   "metadata": {},
   "source": [
    "### e ) Functions"
   ]
  },
  {
   "cell_type": "code",
   "execution_count": 211,
   "id": "8a6282b5",
   "metadata": {},
   "outputs": [],
   "source": [
    "def create_group_track_df(groups_df, track_df, product, applicants_list):\n",
    "    if groups_df.shape[0] == 0:\n",
    "        group_id = 0\n",
    "    else:\n",
    "        group_id = groups_df['group_id'].max() + 1\n",
    "    if track_df.shape[0] == 0:\n",
    "        track_id = 0\n",
    "    else:\n",
    "        track_id = track_df['group_id'].max() + 1\n",
    "        \n",
    "    df_temp_group = pd.DataFrame({\n",
    "        'group_id': group_id,\n",
    "        'leader': product,\n",
    "        'member': applicants_list\n",
    "        })\n",
    "    df_temp_track = pd.DataFrame({\n",
    "        'group_id': track_id,\n",
    "        'member': applicants_list\n",
    "        })\n",
    "    \n",
    "    return df_temp_group, df_temp_track"
   ]
  },
  {
   "cell_type": "code",
   "execution_count": 212,
   "id": "fa6b4a11",
   "metadata": {},
   "outputs": [],
   "source": [
    "def verify_and_concat_groups(groups_df, track_df, index_, applicants_list):\n",
    "    # verify if any of the applicants is already assigned to a group, if not:    \n",
    "    if track_df[track_df['member'].isin(applicants_list)].shape[0] == 0:\n",
    "        # create df for the group\n",
    "        tmp_group_df, tmp_track_df = create_group_track_df(groups_df, track_df, index_, applicants_list)\n",
    "        # concat group to the global groups df\n",
    "        groups_df = pd.concat([groups_df, tmp_group_df], axis=0).reset_index(drop=True)\n",
    "        # concat track group to track global groups df\n",
    "        track_df = pd.concat([track_df, tmp_track_df], axis=0).reset_index(drop=True)\n",
    "    else:\n",
    "        # get the group ids where all of the candidates are assigned\n",
    "        groups_id_list = list(track_df[track_df['member'].isin(applicants_list)]['group_id'].unique())\n",
    "        # locate where the group is\n",
    "        select_df = groups_df[groups_df['group_id'].isin(groups_id_list)]\n",
    "        # list of actual members of the group\n",
    "        already_members = list(pd.unique(select_df[['leader', 'member']].values.ravel('K')))\n",
    "        # union of already members + apliccants list --> idea: get a unique selection of a wider spectrum\n",
    "        concatenated_list = list(set(already_members + applicants_list))\n",
    "        # remove group from global groups and track dataframes\n",
    "        groups_df = groups_df[~groups_df['group_id'].isin(groups_id_list)].copy()\n",
    "        track_df = track_df[~track_df['group_id'].isin(groups_id_list)]\n",
    "        # re-create both: groups & track - global dfs\n",
    "        tmp_group_df, tmp_track_df = create_group_track_df(groups_df, track_df, index_, concatenated_list)\n",
    "        # add the new set to both: groups & track - global dfs\n",
    "        groups_df = pd.concat([groups_df, tmp_group_df], axis=0).reset_index(drop=True)\n",
    "        track_df = pd.concat([track_df, tmp_track_df], axis=0).reset_index(drop=True)\n",
    "    return groups_df, track_df"
   ]
  },
  {
   "cell_type": "code",
   "execution_count": 213,
   "id": "6b4e0375",
   "metadata": {},
   "outputs": [],
   "source": [
    "def product_name_replacement(df, dic_):\n",
    "    df['product_name'] = df['product_name'].map(dic_)\n",
    "    df['candidate'] = df['candidate'].map(dic_)\n",
    "    return df"
   ]
  },
  {
   "cell_type": "markdown",
   "id": "914dbda0",
   "metadata": {},
   "source": [
    "### f) Procedure: for each product"
   ]
  },
  {
   "cell_type": "code",
   "execution_count": 214,
   "id": "c2ad9b33",
   "metadata": {},
   "outputs": [],
   "source": [
    "clean_leaders = df_clean['product_name'].unique()"
   ]
  },
  {
   "cell_type": "code",
   "execution_count": 215,
   "id": "aec27d3e",
   "metadata": {},
   "outputs": [
    {
     "data": {
      "text/plain": [
       "(1273, 1273)"
      ]
     },
     "execution_count": 215,
     "metadata": {},
     "output_type": "execute_result"
    }
   ],
   "source": [
    "len(clean_leaders), len(df_similars['match'].unique())"
   ]
  },
  {
   "cell_type": "code",
   "execution_count": 216,
   "id": "23838aab",
   "metadata": {},
   "outputs": [
    {
     "data": {
      "text/html": [
       "<div>\n",
       "<style scoped>\n",
       "    .dataframe tbody tr th:only-of-type {\n",
       "        vertical-align: middle;\n",
       "    }\n",
       "\n",
       "    .dataframe tbody tr th {\n",
       "        vertical-align: top;\n",
       "    }\n",
       "\n",
       "    .dataframe thead th {\n",
       "        text-align: right;\n",
       "    }\n",
       "</style>\n",
       "<table border=\"1\" class=\"dataframe\">\n",
       "  <thead>\n",
       "    <tr style=\"text-align: right;\">\n",
       "      <th></th>\n",
       "      <th>product_name</th>\n",
       "      <th>candidate</th>\n",
       "    </tr>\n",
       "  </thead>\n",
       "  <tbody>\n",
       "    <tr>\n",
       "      <th>0</th>\n",
       "      <td>489</td>\n",
       "      <td>489</td>\n",
       "    </tr>\n",
       "    <tr>\n",
       "      <th>1</th>\n",
       "      <td>489</td>\n",
       "      <td>825</td>\n",
       "    </tr>\n",
       "    <tr>\n",
       "      <th>2</th>\n",
       "      <td>825</td>\n",
       "      <td>489</td>\n",
       "    </tr>\n",
       "    <tr>\n",
       "      <th>3</th>\n",
       "      <td>825</td>\n",
       "      <td>825</td>\n",
       "    </tr>\n",
       "    <tr>\n",
       "      <th>4</th>\n",
       "      <td>853</td>\n",
       "      <td>853</td>\n",
       "    </tr>\n",
       "  </tbody>\n",
       "</table>\n",
       "</div>"
      ],
      "text/plain": [
       "   product_name  candidate\n",
       "0           489        489\n",
       "1           489        825\n",
       "2           825        489\n",
       "3           825        825\n",
       "4           853        853"
      ]
     },
     "execution_count": 216,
     "metadata": {},
     "output_type": "execute_result"
    }
   ],
   "source": [
    "df_clean.head()"
   ]
  },
  {
   "cell_type": "code",
   "execution_count": 217,
   "id": "20ea0181",
   "metadata": {},
   "outputs": [],
   "source": [
    "# time before\n",
    "t_bef_group = time.time()"
   ]
  },
  {
   "cell_type": "code",
   "execution_count": 218,
   "id": "69b0f8f9",
   "metadata": {},
   "outputs": [],
   "source": [
    "# dataframe definition\n",
    "groups_df = pd.DataFrame(columns=['group_id', 'leader', 'member'])\n",
    "track_df = pd.DataFrame(columns=['group_id', 'member'])\n",
    "\n",
    "for leader in clean_leaders:\n",
    "    select_df = df_clean[df_clean['product_name'] == leader] \n",
    "    applicants_list = list(pd.unique(select_df[['product_name', 'candidate']].values.ravel('K')))\n",
    "    groups_df, track_df = verify_and_concat_groups(groups_df, track_df, leader, applicants_list)"
   ]
  },
  {
   "cell_type": "code",
   "execution_count": 219,
   "id": "38279163",
   "metadata": {},
   "outputs": [
    {
     "name": "stdout",
     "output_type": "stream",
     "text": [
      "Time to run procedure: 0.125 minutes!\n"
     ]
    }
   ],
   "source": [
    "# time run\n",
    "t_run = time.time()-t_bef_group\n",
    "print(f'Time to run procedure: {round(t_run/60, 3)} minutes!')"
   ]
  },
  {
   "cell_type": "code",
   "execution_count": 220,
   "id": "e21244b9",
   "metadata": {},
   "outputs": [
    {
     "name": "stdout",
     "output_type": "stream",
     "text": [
      "Number of groups: 704\n"
     ]
    }
   ],
   "source": [
    "print(f'Number of groups: {len(groups_df[\"group_id\"].unique())}')"
   ]
  },
  {
   "cell_type": "code",
   "execution_count": 221,
   "id": "fea8232e",
   "metadata": {},
   "outputs": [],
   "source": [
    "# replacing product names\n",
    "groups_df['leader'] = groups_df['leader'].map(index_product_dict)\n",
    "groups_df['member'] = groups_df['member'].map(index_product_dict)"
   ]
  },
  {
   "cell_type": "code",
   "execution_count": 222,
   "id": "1d49f322",
   "metadata": {},
   "outputs": [
    {
     "data": {
      "text/html": [
       "<div>\n",
       "<style scoped>\n",
       "    .dataframe tbody tr th:only-of-type {\n",
       "        vertical-align: middle;\n",
       "    }\n",
       "\n",
       "    .dataframe tbody tr th {\n",
       "        vertical-align: top;\n",
       "    }\n",
       "\n",
       "    .dataframe thead th {\n",
       "        text-align: right;\n",
       "    }\n",
       "</style>\n",
       "<table border=\"1\" class=\"dataframe\">\n",
       "  <thead>\n",
       "    <tr style=\"text-align: right;\">\n",
       "      <th></th>\n",
       "      <th>group_id</th>\n",
       "      <th>leader</th>\n",
       "      <th>member</th>\n",
       "    </tr>\n",
       "  </thead>\n",
       "  <tbody>\n",
       "    <tr>\n",
       "      <th>0</th>\n",
       "      <td>0</td>\n",
       "      <td>1 do pinos helado combinado 1 tosty mix snack ...</td>\n",
       "      <td>1 do pinos helado combinado 1 tosty mix snack ...</td>\n",
       "    </tr>\n",
       "    <tr>\n",
       "      <th>1</th>\n",
       "      <td>0</td>\n",
       "      <td>1 do pinos helado combinado 1 tosty mix snack ...</td>\n",
       "      <td>1 do pinos helado combinado 1 tosty mix snack ...</td>\n",
       "    </tr>\n",
       "    <tr>\n",
       "      <th>2</th>\n",
       "      <td>1</td>\n",
       "      <td>1 helado do pinos chocolate 14 gl 499 grs1 pas...</td>\n",
       "      <td>1 helado combinado do pinos 14 gl 499 grs1 pas...</td>\n",
       "    </tr>\n",
       "    <tr>\n",
       "      <th>3</th>\n",
       "      <td>1</td>\n",
       "      <td>1 helado do pinos chocolate 14 gl 499 grs1 pas...</td>\n",
       "      <td>1 helado do pinos chocochips 14 gl 499 grs1 pa...</td>\n",
       "    </tr>\n",
       "    <tr>\n",
       "      <th>4</th>\n",
       "      <td>1</td>\n",
       "      <td>1 helado do pinos chocolate 14 gl 499 grs1 pas...</td>\n",
       "      <td>1 helado combinado do pinos 14 gl 499 grs1 pas...</td>\n",
       "    </tr>\n",
       "  </tbody>\n",
       "</table>\n",
       "</div>"
      ],
      "text/plain": [
       "  group_id                                             leader  \\\n",
       "0        0  1 do pinos helado combinado 1 tosty mix snack ...   \n",
       "1        0  1 do pinos helado combinado 1 tosty mix snack ...   \n",
       "2        1  1 helado do pinos chocolate 14 gl 499 grs1 pas...   \n",
       "3        1  1 helado do pinos chocolate 14 gl 499 grs1 pas...   \n",
       "4        1  1 helado do pinos chocolate 14 gl 499 grs1 pas...   \n",
       "\n",
       "                                              member  \n",
       "0  1 do pinos helado combinado 1 tosty mix snack ...  \n",
       "1  1 do pinos helado combinado 1 tosty mix snack ...  \n",
       "2  1 helado combinado do pinos 14 gl 499 grs1 pas...  \n",
       "3  1 helado do pinos chocochips 14 gl 499 grs1 pa...  \n",
       "4  1 helado combinado do pinos 14 gl 499 grs1 pas...  "
      ]
     },
     "execution_count": 222,
     "metadata": {},
     "output_type": "execute_result"
    }
   ],
   "source": [
    "groups_df.head()"
   ]
  },
  {
   "cell_type": "code",
   "execution_count": 223,
   "id": "830aa246",
   "metadata": {},
   "outputs": [
    {
     "name": "stdout",
     "output_type": "stream",
     "text": [
      "Time to run it all: 0.371 minutes!\n"
     ]
    }
   ],
   "source": [
    "# Complete run time\n",
    "t_complete = time.time()-t_initial\n",
    "print(f'Time to run it all: {round(t_complete/60, 3)} minutes!')"
   ]
  },
  {
   "cell_type": "markdown",
   "id": "6352f704",
   "metadata": {},
   "source": [
    "## 6. Validation"
   ]
  },
  {
   "cell_type": "markdown",
   "id": "104b2b8b",
   "metadata": {},
   "source": [
    "### 6.1 Products added"
   ]
  },
  {
   "cell_type": "code",
   "execution_count": 224,
   "id": "cc8dda7a",
   "metadata": {},
   "outputs": [
    {
     "data": {
      "text/plain": [
       "1273"
      ]
     },
     "execution_count": 224,
     "metadata": {},
     "output_type": "execute_result"
    }
   ],
   "source": [
    "original_products = df_tf['product_name'].unique()\n",
    "len(original_products)"
   ]
  },
  {
   "cell_type": "code",
   "execution_count": 225,
   "id": "7284bb38",
   "metadata": {},
   "outputs": [
    {
     "data": {
      "text/plain": [
       "1273"
      ]
     },
     "execution_count": 225,
     "metadata": {},
     "output_type": "execute_result"
    }
   ],
   "source": [
    "added_products = pd.unique(groups_df[['leader', 'member']].values.ravel('K'))\n",
    "len(added_products)"
   ]
  },
  {
   "cell_type": "code",
   "execution_count": 226,
   "id": "7c5b2f70",
   "metadata": {},
   "outputs": [],
   "source": [
    "not_added = []\n",
    "for prod_ in original_products:\n",
    "    if prod_ not in added_products:\n",
    "        not_added.append(prod_)"
   ]
  },
  {
   "cell_type": "code",
   "execution_count": 227,
   "id": "05863699",
   "metadata": {},
   "outputs": [
    {
     "name": "stdout",
     "output_type": "stream",
     "text": [
      "Number of products without group: 0\n"
     ]
    }
   ],
   "source": [
    "print(f'Number of products without group: {len(not_added)}')"
   ]
  },
  {
   "cell_type": "markdown",
   "id": "63210cb7",
   "metadata": {},
   "source": [
    "### Who are they?"
   ]
  },
  {
   "cell_type": "code",
   "execution_count": 228,
   "id": "0f2625ef",
   "metadata": {},
   "outputs": [
    {
     "data": {
      "text/plain": [
       "[]"
      ]
     },
     "execution_count": 228,
     "metadata": {},
     "output_type": "execute_result"
    }
   ],
   "source": [
    "not_added[-10:]"
   ]
  },
  {
   "cell_type": "markdown",
   "id": "b86aa0f4",
   "metadata": {},
   "source": [
    "### 6.2 Duplicated leaders / members ?? (in 2 or more groups)"
   ]
  },
  {
   "cell_type": "code",
   "execution_count": 229,
   "id": "52858cfd",
   "metadata": {},
   "outputs": [],
   "source": [
    "# uniques: group_id - leader\n",
    "leaders_df = groups_df[['group_id', 'leader']].drop_duplicates().reset_index(drop=True)"
   ]
  },
  {
   "cell_type": "code",
   "execution_count": 230,
   "id": "2c0fdf8b",
   "metadata": {},
   "outputs": [
    {
     "data": {
      "text/html": [
       "<div>\n",
       "<style scoped>\n",
       "    .dataframe tbody tr th:only-of-type {\n",
       "        vertical-align: middle;\n",
       "    }\n",
       "\n",
       "    .dataframe tbody tr th {\n",
       "        vertical-align: top;\n",
       "    }\n",
       "\n",
       "    .dataframe thead th {\n",
       "        text-align: right;\n",
       "    }\n",
       "</style>\n",
       "<table border=\"1\" class=\"dataframe\">\n",
       "  <thead>\n",
       "    <tr style=\"text-align: right;\">\n",
       "      <th></th>\n",
       "      <th>group_id</th>\n",
       "      <th>leader</th>\n",
       "    </tr>\n",
       "  </thead>\n",
       "  <tbody>\n",
       "  </tbody>\n",
       "</table>\n",
       "</div>"
      ],
      "text/plain": [
       "Empty DataFrame\n",
       "Columns: [group_id, leader]\n",
       "Index: []"
      ]
     },
     "execution_count": 230,
     "metadata": {},
     "output_type": "execute_result"
    }
   ],
   "source": [
    "# duplicated leaders\n",
    "leaders_df[leaders_df['leader'].duplicated() == True]"
   ]
  },
  {
   "cell_type": "code",
   "execution_count": 231,
   "id": "600cf754",
   "metadata": {},
   "outputs": [],
   "source": [
    "# uniques: group_id - member\n",
    "members_df = groups_df[['group_id', 'member']].drop_duplicates().reset_index(drop=True)"
   ]
  },
  {
   "cell_type": "code",
   "execution_count": 232,
   "id": "e4a6a8d7",
   "metadata": {},
   "outputs": [
    {
     "data": {
      "text/html": [
       "<div>\n",
       "<style scoped>\n",
       "    .dataframe tbody tr th:only-of-type {\n",
       "        vertical-align: middle;\n",
       "    }\n",
       "\n",
       "    .dataframe tbody tr th {\n",
       "        vertical-align: top;\n",
       "    }\n",
       "\n",
       "    .dataframe thead th {\n",
       "        text-align: right;\n",
       "    }\n",
       "</style>\n",
       "<table border=\"1\" class=\"dataframe\">\n",
       "  <thead>\n",
       "    <tr style=\"text-align: right;\">\n",
       "      <th></th>\n",
       "      <th>group_id</th>\n",
       "      <th>member</th>\n",
       "    </tr>\n",
       "  </thead>\n",
       "  <tbody>\n",
       "  </tbody>\n",
       "</table>\n",
       "</div>"
      ],
      "text/plain": [
       "Empty DataFrame\n",
       "Columns: [group_id, member]\n",
       "Index: []"
      ]
     },
     "execution_count": 232,
     "metadata": {},
     "output_type": "execute_result"
    }
   ],
   "source": [
    "# duplicated members\n",
    "members_df[members_df['member'].duplicated() == True]"
   ]
  },
  {
   "cell_type": "markdown",
   "id": "d1fca215",
   "metadata": {},
   "source": [
    "### 6.3 Adding not matched products"
   ]
  },
  {
   "cell_type": "markdown",
   "id": "4de57532",
   "metadata": {},
   "source": [
    "Products not added to the groups dataframe are because previously they demonstrated low similarity on the clusters generated with TF-IDF + Cosine Similarity layer. This why they are added as \"individual groups\"."
   ]
  },
  {
   "cell_type": "code",
   "execution_count": 233,
   "id": "9d2680f8",
   "metadata": {},
   "outputs": [],
   "source": [
    "max_id = groups_df['group_id'].max()"
   ]
  },
  {
   "cell_type": "code",
   "execution_count": 234,
   "id": "70089615",
   "metadata": {},
   "outputs": [],
   "source": [
    "not_added_df = pd.DataFrame(data={\n",
    "                    'group_id': range(max_id, max_id + len(not_added)),\n",
    "                    'leader': not_added,\n",
    "                    'member': not_added})"
   ]
  },
  {
   "cell_type": "code",
   "execution_count": 235,
   "id": "5b492523",
   "metadata": {},
   "outputs": [],
   "source": [
    "# concat to groups_df\n",
    "groups_df = pd.concat([groups_df, not_added_df], axis=0).reset_index(drop=True)"
   ]
  },
  {
   "cell_type": "code",
   "execution_count": 236,
   "id": "7acae51b",
   "metadata": {},
   "outputs": [],
   "source": [
    "# concat to track df\n",
    "track_df = pd.concat([track_df, not_added_df.loc[:, ['group_id', 'member']]], axis=0).reset_index(drop=True)"
   ]
  },
  {
   "cell_type": "markdown",
   "id": "d4f0ab1f",
   "metadata": {},
   "source": [
    "### 6.4 Saving results"
   ]
  },
  {
   "cell_type": "code",
   "execution_count": 237,
   "id": "310b3da2",
   "metadata": {},
   "outputs": [],
   "source": [
    "groups_df = groups_df.sort_values(by=['leader', 'member']).reset_index(drop=True)"
   ]
  },
  {
   "cell_type": "code",
   "execution_count": 238,
   "id": "1d8864b2",
   "metadata": {},
   "outputs": [],
   "source": [
    "groups_df.to_csv(f'outputs/groups_{country}_{threshold_products}_{threshold_package}.csv', index=False)"
   ]
  },
  {
   "cell_type": "markdown",
   "id": "f233d375",
   "metadata": {},
   "source": [
    "### 6.5 Samples"
   ]
  },
  {
   "cell_type": "code",
   "execution_count": 239,
   "id": "6dd7d221",
   "metadata": {},
   "outputs": [
    {
     "data": {
      "text/plain": [
       "(704, 1273)"
      ]
     },
     "execution_count": 239,
     "metadata": {},
     "output_type": "execute_result"
    }
   ],
   "source": [
    "len(groups_df['leader'].unique()), len(groups_df['member'].unique())"
   ]
  },
  {
   "cell_type": "code",
   "execution_count": 240,
   "id": "9be4d5e0",
   "metadata": {},
   "outputs": [
    {
     "data": {
      "text/html": [
       "<div>\n",
       "<style scoped>\n",
       "    .dataframe tbody tr th:only-of-type {\n",
       "        vertical-align: middle;\n",
       "    }\n",
       "\n",
       "    .dataframe tbody tr th {\n",
       "        vertical-align: top;\n",
       "    }\n",
       "\n",
       "    .dataframe thead th {\n",
       "        text-align: right;\n",
       "    }\n",
       "</style>\n",
       "<table border=\"1\" class=\"dataframe\">\n",
       "  <thead>\n",
       "    <tr style=\"text-align: right;\">\n",
       "      <th></th>\n",
       "      <th>group_id</th>\n",
       "      <th>leader</th>\n",
       "      <th>member</th>\n",
       "    </tr>\n",
       "  </thead>\n",
       "  <tbody>\n",
       "  </tbody>\n",
       "</table>\n",
       "</div>"
      ],
      "text/plain": [
       "Empty DataFrame\n",
       "Columns: [group_id, leader, member]\n",
       "Index: []"
      ]
     },
     "execution_count": 240,
     "metadata": {},
     "output_type": "execute_result"
    }
   ],
   "source": [
    "groups_df[(groups_df['leader'].str.contains('coca'))|(groups_df['member'].str.contains('coca'))][:60]"
   ]
  },
  {
   "cell_type": "code",
   "execution_count": null,
   "id": "b34bac24",
   "metadata": {},
   "outputs": [],
   "source": []
  },
  {
   "cell_type": "code",
   "execution_count": null,
   "id": "2caea584",
   "metadata": {},
   "outputs": [],
   "source": []
  },
  {
   "cell_type": "code",
   "execution_count": null,
   "id": "2e5be687",
   "metadata": {},
   "outputs": [],
   "source": []
  },
  {
   "cell_type": "code",
   "execution_count": null,
   "id": "0e6ff121",
   "metadata": {},
   "outputs": [],
   "source": []
  },
  {
   "cell_type": "code",
   "execution_count": null,
   "id": "4fcb4976",
   "metadata": {},
   "outputs": [],
   "source": []
  },
  {
   "cell_type": "code",
   "execution_count": null,
   "id": "7e9b24b5",
   "metadata": {},
   "outputs": [],
   "source": []
  }
 ],
 "metadata": {
  "kernelspec": {
   "display_name": "Python 3.8.3 ('base')",
   "language": "python",
   "name": "python3"
  },
  "language_info": {
   "codemirror_mode": {
    "name": "ipython",
    "version": 3
   },
   "file_extension": ".py",
   "mimetype": "text/x-python",
   "name": "python",
   "nbconvert_exporter": "python",
   "pygments_lexer": "ipython3",
   "version": "3.8.3"
  },
  "vscode": {
   "interpreter": {
    "hash": "40d3a090f54c6569ab1632332b64b2c03c39dcf918b08424e98f38b5ae0af88f"
   }
  }
 },
 "nbformat": 4,
 "nbformat_minor": 5
}
