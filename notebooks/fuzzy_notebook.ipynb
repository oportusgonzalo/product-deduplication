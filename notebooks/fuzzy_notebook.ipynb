{
 "cells": [
  {
   "cell_type": "code",
   "execution_count": 1,
   "id": "1ee9d786",
   "metadata": {},
   "outputs": [],
   "source": [
    "import pandas as pd\n",
    "import numpy as np\n",
    "import re\n",
    "import Levenshtein as lev\n",
    "from fuzzywuzzy import fuzz\n",
    "import time"
   ]
  },
  {
   "cell_type": "code",
   "execution_count": null,
   "id": "f96a5d77",
   "metadata": {},
   "outputs": [],
   "source": [
    "import nltk.corpus\n",
    "nltk.download('stopwords')\n",
    "from nltk.corpus import stopwords\n",
    "\n",
    "nltk.download('punkt')\n",
    "from nltk.tokenize import word_tokenize\n",
    "\n",
    "nltk.download('wordnet')\n",
    "nltk.download('omw-1.4')\n",
    "\n",
    "from nltk.stem import WordNetLemmatizer"
   ]
  },
  {
   "cell_type": "markdown",
   "id": "05930792",
   "metadata": {},
   "source": [
    "# CODE"
   ]
  },
  {
   "cell_type": "markdown",
   "id": "d9c721dc",
   "metadata": {},
   "source": [
    "## 1. Pre-processing"
   ]
  },
  {
   "cell_type": "code",
   "execution_count": 2,
   "id": "c903970f",
   "metadata": {},
   "outputs": [],
   "source": [
    "# parameters definition\n",
    "parent_chain = 'booker' # lower case and \"clean\"\n",
    "parent_chain_column = 'parent_chain_name'\n",
    "item_column = 'sku_name'\n",
    "language_ = 'en'\n",
    "threshold_ = 82\n",
    "parent_chain_use = True"
   ]
  },
  {
   "cell_type": "code",
   "execution_count": 3,
   "id": "02bcc9ec",
   "metadata": {},
   "outputs": [],
   "source": [
    "# reading raw data\n",
    "data = pd.read_csv('UK_products.csv')"
   ]
  },
  {
   "cell_type": "code",
   "execution_count": 4,
   "id": "c49f49d5",
   "metadata": {},
   "outputs": [],
   "source": [
    "def clean_text(df, col_name, new_col_name):\n",
    "    # column values to lower case\n",
    "    df[new_col_name] = df[col_name].str.lower().str.strip()\n",
    "    # removes special characters\n",
    "    df[new_col_name] = df[new_col_name].apply(lambda x: re.sub(r\"(@[A-Za-z0-9]+)|([^0-9A-Za-z.% \\t])\", \"\", x))\n",
    "    return df"
   ]
  },
  {
   "cell_type": "code",
   "execution_count": 5,
   "id": "6dad2377",
   "metadata": {},
   "outputs": [],
   "source": [
    "if parent_chain_use:\n",
    "    # cleaning parent chain name as it has duplicated entries\n",
    "    df = clean_text(data, parent_chain_column, '{}_{}'.format(parent_chain_column, 'norm'))\n",
    "    # chain selection and columns to work on\n",
    "    df_nlp = df[df['parent_chain_name_norm'] == parent_chain]\n",
    "    df_nlp = df_nlp.loc[:, ['parent_chain_name_norm', item_column]].reset_index(drop=True)\n",
    "else:\n",
    "    df_nlp = data.loc[:, [item_column]].drop_duplicates().reset_index(drop=True)"
   ]
  },
  {
   "cell_type": "code",
   "execution_count": 6,
   "id": "3bd1a9ec",
   "metadata": {},
   "outputs": [],
   "source": [
    "# item name standardization\n",
    "df_nlp.rename(columns={'sku_name': 'item_name'}, inplace=True)"
   ]
  },
  {
   "cell_type": "code",
   "execution_count": 7,
   "id": "baee2ac8",
   "metadata": {},
   "outputs": [
    {
     "name": "stdout",
     "output_type": "stream",
     "text": [
      "Initial products: 4581\n"
     ]
    }
   ],
   "source": [
    "print(f\"Initial products: {len(list(set(df_nlp['item_name'].unique())))}\")"
   ]
  },
  {
   "cell_type": "markdown",
   "id": "63524601",
   "metadata": {},
   "source": [
    "## 2. NLP Aplication"
   ]
  },
  {
   "cell_type": "code",
   "execution_count": null,
   "id": "4dd394b8",
   "metadata": {},
   "outputs": [],
   "source": [
    "if language_ == 'en':\n",
    "    stop_words = stopwords.words('english')\n",
    "elif language_ == 'es':\n",
    "    stop_words = stopwords.words('spanish')"
   ]
  },
  {
   "cell_type": "code",
   "execution_count": null,
   "id": "8d5dd731",
   "metadata": {},
   "outputs": [],
   "source": [
    "def replace_stop_words(df, col, stop_list):\n",
    "    df['{}_stop'.format(col)] = df[col].apply(lambda x: ' '.join([word for word in x.split() if x not in stop_list]))\n",
    "    return df"
   ]
  },
  {
   "cell_type": "code",
   "execution_count": null,
   "id": "c84f77f7",
   "metadata": {},
   "outputs": [],
   "source": [
    "def word_lemmatizer(text):\n",
    "    text_lemma = [WordNetLemmatizer().lemmatize(word) for word in text]\n",
    "    return text_lemma"
   ]
  },
  {
   "cell_type": "code",
   "execution_count": null,
   "id": "0a5b2931",
   "metadata": {},
   "outputs": [],
   "source": [
    "regex_clean = r'(pm \\d+\\w+)|(pm \\d+\\.\\d+)|(pm\\d+\\.\\d+)|(\\d+ pmp)|(pm\\d+)|( \\.+)|(pmp\\d+.\\d+)|(\\d+pmp)|(pmp \\d+)|(\\d+.\\d+ pm)'\n"
   ]
  },
  {
   "cell_type": "code",
   "execution_count": null,
   "id": "8db67283",
   "metadata": {},
   "outputs": [],
   "source": [
    "def nlp_cleaning(df, stop_words, regex_clean):\n",
    "    # normalization\n",
    "    df = clean_text(df, 'item_name', 'item_name_norm')\n",
    "    # remove stop words\n",
    "    df = replace_stop_words(df, 'item_name_norm', stop_words)\n",
    "    # tokenize text\n",
    "    df['item_name_token'] = df['item_name_norm_stop'].apply(lambda x: word_tokenize(x))\n",
    "    # lemmatization\n",
    "    df['item_name_token_lemma'] = df['item_name_token'].apply(lambda x: word_lemmatizer(x))\n",
    "    # joining lemmas\n",
    "    df['product_name'] = df['item_name_token_lemma'].apply(lambda list_: ' '.join([word for word in list_]))\n",
    "    # cleaning product names with regex\n",
    "    df['product_name'] = df['product_name'].apply(lambda x: re.sub(regex_clean, \"\", x))\n",
    "    return df"
   ]
  },
  {
   "cell_type": "code",
   "execution_count": null,
   "id": "0d45ad89",
   "metadata": {},
   "outputs": [],
   "source": [
    "df_nlp = nlp_cleaning(df_nlp, stop_words, regex_clean)"
   ]
  },
  {
   "cell_type": "code",
   "execution_count": null,
   "id": "f68ca7e9",
   "metadata": {},
   "outputs": [],
   "source": [
    "# unique items\n",
    "len(df_nlp.item_name.unique()), len(df_nlp.product_name.unique())"
   ]
  },
  {
   "cell_type": "code",
   "execution_count": null,
   "id": "eac7ffc0",
   "metadata": {},
   "outputs": [],
   "source": [
    "df_nlp[:2]"
   ]
  },
  {
   "cell_type": "markdown",
   "id": "e079e7a5",
   "metadata": {},
   "source": [
    "## 3. Fuzzywuzzy Ratios Calculation & Filtering"
   ]
  },
  {
   "cell_type": "markdown",
   "id": "29e8e1f8",
   "metadata": {},
   "source": [
    "In this step, we apply the fuzzywuzzy method \"token_sort_ratio\" to identify product names similarities. What's Fuzzywuzzy? --> library that uses Levenshtein Distance to calculate the differences between sequences and patterns"
   ]
  },
  {
   "cell_type": "code",
   "execution_count": 22,
   "id": "7d06377a",
   "metadata": {},
   "outputs": [],
   "source": [
    "# uselful columns selection (item selected just for 'product_name' not be treated as array)\n",
    "df_fuzzy = df_nlp.loc[:, ['product_name']]\n",
    "df_fuzzy = df_fuzzy.drop_duplicates('product_name').reset_index(drop=True)"
   ]
  },
  {
   "cell_type": "code",
   "execution_count": 23,
   "id": "8d5ea8b3",
   "metadata": {},
   "outputs": [],
   "source": [
    "def fuzzy_ratios(df, item_name, method):\n",
    "    \"\"\"\n",
    "    Calculates the fuzzy match between a set of products\n",
    "    Inputs:\n",
    "    - df: dataframe with all the data\n",
    "    - item_name: product name column\n",
    "    - method: fuzzywuzzy method to apply (ratio, partial_ratio, or sort_ratio)\n",
    "    \n",
    "    Returns a dataframe like: |product|match|fuzzy_ratio|\n",
    "    \"\"\"\n",
    "    df_temp = df.copy()\n",
    "    # fuzzy comparisson column\n",
    "    df_temp['match'] = df_temp[item_name]\n",
    "    # creating matrix\n",
    "    cross_tab = pd.crosstab(df_temp[item_name], df_temp['match'])\n",
    "    # calculating the fuzzy ratio between the product names\n",
    "    cross_tab = cross_tab.apply(lambda col: [method(col.name, x) for x in col.index])\n",
    "    # melting the matrix back to a pandas dataframe\n",
    "    fuzzy_df = cross_tab.reset_index().melt(id_vars=[item_name], value_name='fuzz_ratio')\n",
    "    # sort by: product name\n",
    "    fuzzy_df = fuzzy_df.sort_values(by=item_name).reset_index(drop=True)\n",
    "    return fuzzy_df"
   ]
  },
  {
   "cell_type": "markdown",
   "id": "71f9ed49",
   "metadata": {},
   "source": [
    "### 3.1 Calculation similarity ratios betwen products --> fuzz.token_sort_ratio() method"
   ]
  },
  {
   "cell_type": "code",
   "execution_count": 24,
   "id": "5a668037",
   "metadata": {},
   "outputs": [],
   "source": [
    "fuzzy = fuzzy_ratios(df=df_fuzzy, item_name='product_name', method=fuzz.token_sort_ratio)"
   ]
  },
  {
   "cell_type": "code",
   "execution_count": 25,
   "id": "d691611c",
   "metadata": {},
   "outputs": [
    {
     "data": {
      "text/plain": [
       "(18412681, 3)"
      ]
     },
     "execution_count": 25,
     "metadata": {},
     "output_type": "execute_result"
    }
   ],
   "source": [
    "# the result is a HUGE dataframe\n",
    "fuzzy.shape"
   ]
  },
  {
   "cell_type": "code",
   "execution_count": 26,
   "id": "e3cd69c9",
   "metadata": {},
   "outputs": [
    {
     "data": {
      "text/html": [
       "<div>\n",
       "<style scoped>\n",
       "    .dataframe tbody tr th:only-of-type {\n",
       "        vertical-align: middle;\n",
       "    }\n",
       "\n",
       "    .dataframe tbody tr th {\n",
       "        vertical-align: top;\n",
       "    }\n",
       "\n",
       "    .dataframe thead th {\n",
       "        text-align: right;\n",
       "    }\n",
       "</style>\n",
       "<table border=\"1\" class=\"dataframe\">\n",
       "  <thead>\n",
       "    <tr style=\"text-align: right;\">\n",
       "      <th></th>\n",
       "      <th>product_name</th>\n",
       "      <th>match</th>\n",
       "      <th>fuzz_ratio</th>\n",
       "    </tr>\n",
       "  </thead>\n",
       "  <tbody>\n",
       "    <tr>\n",
       "      <th>0</th>\n",
       "      <td>1.5 lt chardolini</td>\n",
       "      <td>1.5 lt chardolini</td>\n",
       "      <td>100</td>\n",
       "    </tr>\n",
       "    <tr>\n",
       "      <th>1</th>\n",
       "      <td>1.5 lt chardolini</td>\n",
       "      <td>milkybar 100g</td>\n",
       "      <td>27</td>\n",
       "    </tr>\n",
       "    <tr>\n",
       "      <th>2</th>\n",
       "      <td>1.5 lt chardolini</td>\n",
       "      <td>casillero del diablo cab sau 75cl</td>\n",
       "      <td>36</td>\n",
       "    </tr>\n",
       "    <tr>\n",
       "      <th>3</th>\n",
       "      <td>1.5 lt chardolini</td>\n",
       "      <td>skittle giant fruit sweet price marked bag 125g</td>\n",
       "      <td>34</td>\n",
       "    </tr>\n",
       "    <tr>\n",
       "      <th>4</th>\n",
       "      <td>1.5 lt chardolini</td>\n",
       "      <td>calypso strawberry lemonade light 16oz 473ml</td>\n",
       "      <td>36</td>\n",
       "    </tr>\n",
       "  </tbody>\n",
       "</table>\n",
       "</div>"
      ],
      "text/plain": [
       "        product_name                                            match  \\\n",
       "0  1.5 lt chardolini                                1.5 lt chardolini   \n",
       "1  1.5 lt chardolini                                   milkybar 100g    \n",
       "2  1.5 lt chardolini                casillero del diablo cab sau 75cl   \n",
       "3  1.5 lt chardolini  skittle giant fruit sweet price marked bag 125g   \n",
       "4  1.5 lt chardolini     calypso strawberry lemonade light 16oz 473ml   \n",
       "\n",
       "   fuzz_ratio  \n",
       "0         100  \n",
       "1          27  \n",
       "2          36  \n",
       "3          34  \n",
       "4          36  "
      ]
     },
     "execution_count": 26,
     "metadata": {},
     "output_type": "execute_result"
    }
   ],
   "source": [
    "fuzzy.head()"
   ]
  },
  {
   "cell_type": "markdown",
   "id": "c8cd4ea5",
   "metadata": {},
   "source": [
    "### 3.2 Filtering matches by a similarity threshold"
   ]
  },
  {
   "cell_type": "markdown",
   "id": "284ab0ee",
   "metadata": {},
   "source": [
    "According to the literature, a threshold ratio of 80-85 for the fuzzy similarity ratio is a good filter. Below that means that the products don't share much information."
   ]
  },
  {
   "cell_type": "code",
   "execution_count": 27,
   "id": "e2609f4a",
   "metadata": {},
   "outputs": [
    {
     "name": "stdout",
     "output_type": "stream",
     "text": [
      "Threshold: 82\n"
     ]
    }
   ],
   "source": [
    "print(f'Threshold: {threshold_}')"
   ]
  },
  {
   "cell_type": "code",
   "execution_count": 28,
   "id": "c48d934b",
   "metadata": {},
   "outputs": [],
   "source": [
    "# filtering the data by the default threshold\n",
    "fuzzy_thl = fuzzy[fuzzy['fuzz_ratio'] > threshold_].reset_index(drop=True)"
   ]
  },
  {
   "cell_type": "code",
   "execution_count": 29,
   "id": "a405f041",
   "metadata": {},
   "outputs": [
    {
     "data": {
      "text/plain": [
       "(11057, 3)"
      ]
     },
     "execution_count": 29,
     "metadata": {},
     "output_type": "execute_result"
    }
   ],
   "source": [
    "# filtering the dataframe above calms our mind down\n",
    "fuzzy_thl.shape"
   ]
  },
  {
   "cell_type": "code",
   "execution_count": 30,
   "id": "d57b54b0",
   "metadata": {},
   "outputs": [],
   "source": [
    "# copy of the table to join\n",
    "fuzzy_thl_copy = fuzzy_thl.copy()"
   ]
  },
  {
   "cell_type": "code",
   "execution_count": 31,
   "id": "a80fbbcc",
   "metadata": {},
   "outputs": [],
   "source": [
    "# sorting just to keep my head \"calm\"\n",
    "fuzzy_thl = fuzzy_thl.sort_values(by=['product_name', 'fuzz_ratio']).reset_index(drop=True)\n",
    "fuzzy_thl_copy = fuzzy_thl_copy.sort_values(by=['product_name', 'fuzz_ratio']).reset_index(drop=True)"
   ]
  },
  {
   "cell_type": "code",
   "execution_count": 32,
   "id": "e133e500",
   "metadata": {},
   "outputs": [
    {
     "data": {
      "text/html": [
       "<div>\n",
       "<style scoped>\n",
       "    .dataframe tbody tr th:only-of-type {\n",
       "        vertical-align: middle;\n",
       "    }\n",
       "\n",
       "    .dataframe tbody tr th {\n",
       "        vertical-align: top;\n",
       "    }\n",
       "\n",
       "    .dataframe thead th {\n",
       "        text-align: right;\n",
       "    }\n",
       "</style>\n",
       "<table border=\"1\" class=\"dataframe\">\n",
       "  <thead>\n",
       "    <tr style=\"text-align: right;\">\n",
       "      <th></th>\n",
       "      <th>product_name</th>\n",
       "      <th>match</th>\n",
       "      <th>fuzz_ratio</th>\n",
       "    </tr>\n",
       "  </thead>\n",
       "  <tbody>\n",
       "    <tr>\n",
       "      <th>0</th>\n",
       "      <td>1.5 lt chardolini</td>\n",
       "      <td>1.5 lt chardolini</td>\n",
       "      <td>100</td>\n",
       "    </tr>\n",
       "    <tr>\n",
       "      <th>1</th>\n",
       "      <td>1.75l coca cola</td>\n",
       "      <td>coca cola 1.5l 1.</td>\n",
       "      <td>90</td>\n",
       "    </tr>\n",
       "    <tr>\n",
       "      <th>2</th>\n",
       "      <td>1.75l coca cola</td>\n",
       "      <td>coca cola 1.5ltr</td>\n",
       "      <td>90</td>\n",
       "    </tr>\n",
       "    <tr>\n",
       "      <th>3</th>\n",
       "      <td>1.75l coca cola</td>\n",
       "      <td>coca cola 1.75ltr</td>\n",
       "      <td>94</td>\n",
       "    </tr>\n",
       "    <tr>\n",
       "      <th>4</th>\n",
       "      <td>1.75l coca cola</td>\n",
       "      <td>coca cola 1.75</td>\n",
       "      <td>97</td>\n",
       "    </tr>\n",
       "    <tr>\n",
       "      <th>5</th>\n",
       "      <td>1.75l coca cola</td>\n",
       "      <td>1.75l coca cola</td>\n",
       "      <td>100</td>\n",
       "    </tr>\n",
       "    <tr>\n",
       "      <th>6</th>\n",
       "      <td>100 g buttery flapjack</td>\n",
       "      <td>100 g buttery flapjack</td>\n",
       "      <td>100</td>\n",
       "    </tr>\n",
       "    <tr>\n",
       "      <th>7</th>\n",
       "      <td>10pk carling can</td>\n",
       "      <td>10pk carling can</td>\n",
       "      <td>100</td>\n",
       "    </tr>\n",
       "    <tr>\n",
       "      <th>8</th>\n",
       "      <td>12 inch hot chicago town stuffed crust pizza p...</td>\n",
       "      <td>chicago town stuffed crust pepperoni pizza 490g</td>\n",
       "      <td>85</td>\n",
       "    </tr>\n",
       "    <tr>\n",
       "      <th>9</th>\n",
       "      <td>12 inch hot chicago town stuffed crust pizza p...</td>\n",
       "      <td>12 inch hot chicago town stuffed crust pizza p...</td>\n",
       "      <td>100</td>\n",
       "    </tr>\n",
       "  </tbody>\n",
       "</table>\n",
       "</div>"
      ],
      "text/plain": [
       "                                        product_name  \\\n",
       "0                                  1.5 lt chardolini   \n",
       "1                                    1.75l coca cola   \n",
       "2                                    1.75l coca cola   \n",
       "3                                    1.75l coca cola   \n",
       "4                                    1.75l coca cola   \n",
       "5                                    1.75l coca cola   \n",
       "6                             100 g buttery flapjack   \n",
       "7                                   10pk carling can   \n",
       "8  12 inch hot chicago town stuffed crust pizza p...   \n",
       "9  12 inch hot chicago town stuffed crust pizza p...   \n",
       "\n",
       "                                               match  fuzz_ratio  \n",
       "0                                  1.5 lt chardolini         100  \n",
       "1                                  coca cola 1.5l 1.          90  \n",
       "2                                   coca cola 1.5ltr          90  \n",
       "3                                  coca cola 1.75ltr          94  \n",
       "4                                     coca cola 1.75          97  \n",
       "5                                    1.75l coca cola         100  \n",
       "6                             100 g buttery flapjack         100  \n",
       "7                                   10pk carling can         100  \n",
       "8    chicago town stuffed crust pepperoni pizza 490g          85  \n",
       "9  12 inch hot chicago town stuffed crust pizza p...         100  "
      ]
     },
     "execution_count": 32,
     "metadata": {},
     "output_type": "execute_result"
    }
   ],
   "source": [
    "fuzzy_thl.head(10)"
   ]
  },
  {
   "cell_type": "markdown",
   "id": "818e0fff",
   "metadata": {},
   "source": [
    "## 4. Extending product similarities"
   ]
  },
  {
   "cell_type": "markdown",
   "id": "e492689c",
   "metadata": {},
   "source": [
    "IDEA: Extend the products to which a product can be similar to. How? If product A is similar to B and C; and B is similar to F and G; and C is similar to A and D; then A must share relevant similarities with: B, C, D, F, and G."
   ]
  },
  {
   "cell_type": "markdown",
   "id": "884782a1",
   "metadata": {},
   "source": [
    "### 4.1 Pre-work: join between the same table"
   ]
  },
  {
   "cell_type": "code",
   "execution_count": 33,
   "id": "50bc7f6a",
   "metadata": {},
   "outputs": [],
   "source": [
    "# rename to create have clarity of columns when merging\n",
    "fuzzy_thl_copy.rename(columns={'product_name': 'joined_by_match', 'match': 'extend_match', \\\n",
    "                               'fuzz_ratio': 'extend_fuzz_ratio'}, inplace=True)"
   ]
  },
  {
   "cell_type": "code",
   "execution_count": 34,
   "id": "ad21b920",
   "metadata": {},
   "outputs": [],
   "source": [
    "merged_df = fuzzy_thl.merge(fuzzy_thl_copy, left_on='match', right_on='joined_by_match', how='inner')"
   ]
  },
  {
   "cell_type": "code",
   "execution_count": 35,
   "id": "6156dc52",
   "metadata": {},
   "outputs": [
    {
     "data": {
      "text/html": [
       "<div>\n",
       "<style scoped>\n",
       "    .dataframe tbody tr th:only-of-type {\n",
       "        vertical-align: middle;\n",
       "    }\n",
       "\n",
       "    .dataframe tbody tr th {\n",
       "        vertical-align: top;\n",
       "    }\n",
       "\n",
       "    .dataframe thead th {\n",
       "        text-align: right;\n",
       "    }\n",
       "</style>\n",
       "<table border=\"1\" class=\"dataframe\">\n",
       "  <thead>\n",
       "    <tr style=\"text-align: right;\">\n",
       "      <th></th>\n",
       "      <th>product_name</th>\n",
       "      <th>match</th>\n",
       "      <th>fuzz_ratio</th>\n",
       "      <th>joined_by_match</th>\n",
       "      <th>extend_match</th>\n",
       "      <th>extend_fuzz_ratio</th>\n",
       "    </tr>\n",
       "  </thead>\n",
       "  <tbody>\n",
       "    <tr>\n",
       "      <th>0</th>\n",
       "      <td>1.5 lt chardolini</td>\n",
       "      <td>1.5 lt chardolini</td>\n",
       "      <td>100</td>\n",
       "      <td>1.5 lt chardolini</td>\n",
       "      <td>1.5 lt chardolini</td>\n",
       "      <td>100</td>\n",
       "    </tr>\n",
       "    <tr>\n",
       "      <th>1</th>\n",
       "      <td>1.75l coca cola</td>\n",
       "      <td>coca cola 1.5l 1.</td>\n",
       "      <td>90</td>\n",
       "      <td>coca cola 1.5l 1.</td>\n",
       "      <td>coca cola 1.75ltr</td>\n",
       "      <td>85</td>\n",
       "    </tr>\n",
       "    <tr>\n",
       "      <th>2</th>\n",
       "      <td>1.75l coca cola</td>\n",
       "      <td>coca cola 1.5l 1.</td>\n",
       "      <td>90</td>\n",
       "      <td>coca cola 1.5l 1.</td>\n",
       "      <td>coca cola 1.75</td>\n",
       "      <td>87</td>\n",
       "    </tr>\n",
       "    <tr>\n",
       "      <th>3</th>\n",
       "      <td>1.75l coca cola</td>\n",
       "      <td>coca cola 1.5l 1.</td>\n",
       "      <td>90</td>\n",
       "      <td>coca cola 1.5l 1.</td>\n",
       "      <td>coca cola 1.5ltr</td>\n",
       "      <td>88</td>\n",
       "    </tr>\n",
       "    <tr>\n",
       "      <th>4</th>\n",
       "      <td>1.75l coca cola</td>\n",
       "      <td>coca cola 1.5l 1.</td>\n",
       "      <td>90</td>\n",
       "      <td>coca cola 1.5l 1.</td>\n",
       "      <td>1.75l coca cola</td>\n",
       "      <td>90</td>\n",
       "    </tr>\n",
       "  </tbody>\n",
       "</table>\n",
       "</div>"
      ],
      "text/plain": [
       "        product_name              match  fuzz_ratio    joined_by_match  \\\n",
       "0  1.5 lt chardolini  1.5 lt chardolini         100  1.5 lt chardolini   \n",
       "1    1.75l coca cola  coca cola 1.5l 1.          90  coca cola 1.5l 1.   \n",
       "2    1.75l coca cola  coca cola 1.5l 1.          90  coca cola 1.5l 1.   \n",
       "3    1.75l coca cola  coca cola 1.5l 1.          90  coca cola 1.5l 1.   \n",
       "4    1.75l coca cola  coca cola 1.5l 1.          90  coca cola 1.5l 1.   \n",
       "\n",
       "        extend_match  extend_fuzz_ratio  \n",
       "0  1.5 lt chardolini                100  \n",
       "1  coca cola 1.75ltr                 85  \n",
       "2     coca cola 1.75                 87  \n",
       "3   coca cola 1.5ltr                 88  \n",
       "4    1.75l coca cola                 90  "
      ]
     },
     "execution_count": 35,
     "metadata": {},
     "output_type": "execute_result"
    }
   ],
   "source": [
    "merged_df.head()"
   ]
  },
  {
   "cell_type": "markdown",
   "id": "fe687b77",
   "metadata": {},
   "source": [
    "### 4.2 Formatting the dataframe --> clarity"
   ]
  },
  {
   "cell_type": "markdown",
   "id": "4ddba97e",
   "metadata": {},
   "source": [
    "The fuzzy ratio of the candidate can be interpretated like this:\n",
    "\n",
    "\"The candidate A fuzzy similarity ratio with a product C, that is similar to B, and B is directly related to A, is the mean between the similarity of A-B and B-C\"."
   ]
  },
  {
   "cell_type": "code",
   "execution_count": 36,
   "id": "c284a43a",
   "metadata": {},
   "outputs": [],
   "source": [
    "# correcting the extend_fuzz_ratio measure\n",
    "merged_df['extend_fuzz_ratio'] = merged_df[['fuzz_ratio', 'extend_fuzz_ratio']].mean(axis=1)"
   ]
  },
  {
   "cell_type": "code",
   "execution_count": 37,
   "id": "ceb0de0d",
   "metadata": {},
   "outputs": [],
   "source": [
    "# removing duplicated column (equal to match)\n",
    "merged_df.drop('joined_by_match', axis=1, inplace=True)"
   ]
  },
  {
   "cell_type": "code",
   "execution_count": 38,
   "id": "ba52e9f1",
   "metadata": {},
   "outputs": [],
   "source": [
    "# all similars to same column (extending in number of rows): match & extend_match --> match\n",
    "merged_df = merged_df.melt(id_vars=['product_name', 'fuzz_ratio', 'extend_fuzz_ratio'], value_name='candidate')\n",
    "merged_df = merged_df.sort_values(by='product_name').reset_index(drop=True)"
   ]
  },
  {
   "cell_type": "code",
   "execution_count": 39,
   "id": "3b2d7991",
   "metadata": {},
   "outputs": [],
   "source": [
    "# keeping the correct ratio if variable is 'match' or 'extend_match' --> melt issue\n",
    "merged_df['ratio'] = np.where(merged_df['variable'] == 'match', merged_df['fuzz_ratio'], \\\n",
    "                                                               merged_df['extend_fuzz_ratio'])"
   ]
  },
  {
   "cell_type": "code",
   "execution_count": 40,
   "id": "0fddcd7d",
   "metadata": {},
   "outputs": [],
   "source": [
    "# droping extra columns\n",
    "merged_df.drop(['fuzz_ratio', 'extend_fuzz_ratio'], axis=1, inplace=True)\n",
    "merged_df.rename(columns={'ratio': 'fuzz_ratio'}, inplace=True)"
   ]
  },
  {
   "cell_type": "code",
   "execution_count": 41,
   "id": "f1d7d775",
   "metadata": {},
   "outputs": [],
   "source": [
    "# removing duplicated entries --> extend product is the same as the first match\n",
    "merged_df = merged_df.drop_duplicates().reset_index(drop=True)"
   ]
  },
  {
   "cell_type": "code",
   "execution_count": 42,
   "id": "6e40bd9c",
   "metadata": {},
   "outputs": [
    {
     "data": {
      "text/html": [
       "<div>\n",
       "<style scoped>\n",
       "    .dataframe tbody tr th:only-of-type {\n",
       "        vertical-align: middle;\n",
       "    }\n",
       "\n",
       "    .dataframe tbody tr th {\n",
       "        vertical-align: top;\n",
       "    }\n",
       "\n",
       "    .dataframe thead th {\n",
       "        text-align: right;\n",
       "    }\n",
       "</style>\n",
       "<table border=\"1\" class=\"dataframe\">\n",
       "  <thead>\n",
       "    <tr style=\"text-align: right;\">\n",
       "      <th></th>\n",
       "      <th>product_name</th>\n",
       "      <th>variable</th>\n",
       "      <th>candidate</th>\n",
       "      <th>fuzz_ratio</th>\n",
       "    </tr>\n",
       "  </thead>\n",
       "  <tbody>\n",
       "    <tr>\n",
       "      <th>0</th>\n",
       "      <td>1.5 lt chardolini</td>\n",
       "      <td>match</td>\n",
       "      <td>1.5 lt chardolini</td>\n",
       "      <td>100.0</td>\n",
       "    </tr>\n",
       "    <tr>\n",
       "      <th>1</th>\n",
       "      <td>1.5 lt chardolini</td>\n",
       "      <td>extend_match</td>\n",
       "      <td>1.5 lt chardolini</td>\n",
       "      <td>100.0</td>\n",
       "    </tr>\n",
       "    <tr>\n",
       "      <th>2</th>\n",
       "      <td>1.75l coca cola</td>\n",
       "      <td>extend_match</td>\n",
       "      <td>1.75l coca cola</td>\n",
       "      <td>97.0</td>\n",
       "    </tr>\n",
       "    <tr>\n",
       "      <th>3</th>\n",
       "      <td>1.75l coca cola</td>\n",
       "      <td>extend_match</td>\n",
       "      <td>coca cola 1.75ltr</td>\n",
       "      <td>93.5</td>\n",
       "    </tr>\n",
       "    <tr>\n",
       "      <th>4</th>\n",
       "      <td>1.75l coca cola</td>\n",
       "      <td>extend_match</td>\n",
       "      <td>coca cola 1.5ltr</td>\n",
       "      <td>92.0</td>\n",
       "    </tr>\n",
       "  </tbody>\n",
       "</table>\n",
       "</div>"
      ],
      "text/plain": [
       "        product_name      variable          candidate  fuzz_ratio\n",
       "0  1.5 lt chardolini         match  1.5 lt chardolini       100.0\n",
       "1  1.5 lt chardolini  extend_match  1.5 lt chardolini       100.0\n",
       "2    1.75l coca cola  extend_match    1.75l coca cola        97.0\n",
       "3    1.75l coca cola  extend_match  coca cola 1.75ltr        93.5\n",
       "4    1.75l coca cola  extend_match   coca cola 1.5ltr        92.0"
      ]
     },
     "execution_count": 42,
     "metadata": {},
     "output_type": "execute_result"
    }
   ],
   "source": [
    "merged_df.head()"
   ]
  },
  {
   "cell_type": "markdown",
   "id": "a76471c7",
   "metadata": {},
   "source": [
    "## 5. Identifying package similarity "
   ]
  },
  {
   "cell_type": "markdown",
   "id": "8ecc9225",
   "metadata": {},
   "source": [
    "A useful method to explore a deeper level of relatedness."
   ]
  },
  {
   "cell_type": "markdown",
   "id": "44dbf1e1",
   "metadata": {},
   "source": [
    "### 5.1 Regex to identify the package"
   ]
  },
  {
   "cell_type": "code",
   "execution_count": 43,
   "id": "ad75ee1b",
   "metadata": {},
   "outputs": [],
   "source": [
    "def package_extract(df, column, regex_):\n",
    "    \"\"\"\n",
    "    Extracts the package from a product name. Uses a regular expression for these.\n",
    "    \n",
    "    Inputs:\n",
    "    - df: dataframe\n",
    "    - column: product name column where to look for packages\n",
    "    - regex_: regular expression formula to match patterns\n",
    "    \n",
    "    Output: a column with the package of the specified product name column\n",
    "    \"\"\"\n",
    "    packs = df[column].str.extract(regex_)\n",
    "    packs['package'] = packs[packs.columns[0:]].apply(lambda x: ','.join(x.dropna()), axis=1)\n",
    "    packs = packs.loc[:, ['package']]\n",
    "    return packs.loc[:, ['package']]"
   ]
  },
  {
   "cell_type": "markdown",
   "id": "6bf838cd",
   "metadata": {},
   "source": [
    "NOTE: products like '7 up 500ml' have issues, or that contain 500ml or 500 ml (all products that end in ..0 something)"
   ]
  },
  {
   "cell_type": "code",
   "execution_count": 44,
   "id": "b3bcbc55",
   "metadata": {},
   "outputs": [],
   "source": [
    "reg_package = r'(\\d+x\\d+\\w+)|(\\d+ x \\d+\\w+)|(\\d+\\.+\\d+\\w+)|(\\d+\\.+\\d+ \\w+)|(\\d+ ml)|(\\d+ g)|(\\d+\\w+)|(\\d+ \\w+)'"
   ]
  },
  {
   "cell_type": "code",
   "execution_count": 45,
   "id": "04ad3c24",
   "metadata": {},
   "outputs": [],
   "source": [
    "def clean_group(group_df, regex_, threshold_=85):\n",
    "    \"\"\"\n",
    "    From a group of products which are similar, compares if they share the same/similar package. For this, uses \n",
    "    \"package_extract\" function to extract the package of the \"leader\" product, and its similars; and then uses\n",
    "    fuzzywuzzy to compare the similarity of the packages. Finally, keeps the packages with similarity over a threshold\n",
    "    of 75 or the one specified by the user.\n",
    "    \n",
    "    Inputs:\n",
    "    - group_df: dataframe with a group of similar products\n",
    "    - regex_: regex formula to extract the package\n",
    "    - threshold_: threshold of similarity to compare package\n",
    "    \n",
    "    Output: a clean group of similar candidates\n",
    "    \"\"\"\n",
    "    group_df['package'] = package_extract(group_df, 'product_name', regex_)\n",
    "    group_df['package_candidate'] = package_extract(group_df, 'candidate', regex_)\n",
    "    group_df['package_ratio'] = group_df.apply(lambda x: fuzz.token_sort_ratio(x['package'], x['package_candidate']), axis=1)\n",
    "    group_df = group_df[group_df['package_ratio'] >= threshold_].copy()\n",
    "    group_df = group_df.loc[:, ['product_name', 'candidate', 'fuzz_ratio']]\n",
    "    group_df.reset_index(drop=True, inplace=True)\n",
    "    return group_df\n"
   ]
  },
  {
   "cell_type": "markdown",
   "id": "74fe688c",
   "metadata": {},
   "source": [
    "## 6. Identifying groups of products with high similarity"
   ]
  },
  {
   "cell_type": "markdown",
   "id": "45c05f04",
   "metadata": {},
   "source": [
    "Idea: get groups of products that might be the same product (high similarity). Important to verify if the products are duplicated into more than a group."
   ]
  },
  {
   "cell_type": "markdown",
   "id": "587197c7",
   "metadata": {},
   "source": [
    "Steps:\n",
    "    \n",
    "* Identify the product group\n",
    "* Keep in the group products with similar package (fuzzy)\n",
    "* Get every group candidate\n",
    "* For each candidate:\n",
    "    * Verify if is part of a group\n",
    "    * Yes: concat all the products and re-create the group; remove the group from the catalog_df\n",
    "    * No: keep the group as it is\n",
    "    * Once finished for all, add the group with new ID"
   ]
  },
  {
   "cell_type": "code",
   "execution_count": 46,
   "id": "1ae5cbbc",
   "metadata": {},
   "outputs": [],
   "source": [
    "def group_selection(df, product):\n",
    "    \"\"\"\n",
    "    Por a single product, identifies the products to which is related (all products in \"candidate\" column), and\n",
    "    remove duplicated rows. The ratio is also included to keep the knowledge of the similarity ratio that let \n",
    "    them into the group.\n",
    "    \n",
    "    Inputs:\n",
    "    - df: dataframe with threshold 80, with all matches and links (for all products)\n",
    "    - product: the name of the product to work with\n",
    "    \n",
    "    Output: single product similarity group dataframe\n",
    "    \"\"\"\n",
    "    # we select all the rows that match the product\n",
    "    df_temp = df[df['product_name'] == product].copy()\n",
    "    # remove duplicates: to see all the products to which a product is similar\n",
    "    group = df_temp.drop_duplicates(subset=['product_name', 'candidate']).reset_index(drop=True)\n",
    "    return group"
   ]
  },
  {
   "cell_type": "code",
   "execution_count": 47,
   "id": "0d247082",
   "metadata": {},
   "outputs": [],
   "source": [
    "def create_product_df(groups_df, product, product_group_list):\n",
    "    \n",
    "    if groups_df.shape[0] == 0:\n",
    "        group_id = 0\n",
    "    else:\n",
    "        group_id = groups_df['group_id'].max() + 1\n",
    "    df_temp = pd.DataFrame({\n",
    "        'group_id': group_id,\n",
    "        'leader': product,\n",
    "        'member': product_group_list\n",
    "        })\n",
    "    return df_temp"
   ]
  },
  {
   "cell_type": "code",
   "execution_count": 48,
   "id": "e708cf8a",
   "metadata": {},
   "outputs": [],
   "source": [
    "def create_track_temp_df(track_df, applicants_list):\n",
    "    if track_df.shape[0] == 0:\n",
    "        group_id = 0\n",
    "    else:\n",
    "        group_id = track_df['group_id'].max() + 1\n",
    "    df_temp = pd.DataFrame({\n",
    "        'group_id': group_id,\n",
    "        'member': applicants_list\n",
    "        })\n",
    "    return df_temp"
   ]
  },
  {
   "cell_type": "code",
   "execution_count": 49,
   "id": "08797094",
   "metadata": {},
   "outputs": [],
   "source": [
    "def group_concat_procedure(groups_df, track_df, product_, applicants_list):\n",
    "    # verify if any of the applicants is already assigned to a group, if not:\n",
    "    if track_df[track_df['member'].isin(applicants_list)].shape[0] == 0:\n",
    "        # create df for the group\n",
    "        concat_df = create_product_df(groups_df, product_, applicants_list)\n",
    "        # concat to the global groups df\n",
    "        groups_df = pd.concat([groups_df, concat_df], axis=0).reset_index(drop=True)\n",
    "        # create track applicants df\n",
    "        df_track_temp = create_track_temp_df(track_df, applicants_list)\n",
    "        # concat new group to track groups df\n",
    "        track_df = pd.concat([track_df, df_track_temp], axis=0).reset_index(drop=True)\n",
    "    else:\n",
    "        # get the group ids where any of the candidates is assigned\n",
    "        group_ids_list = list(track_df[track_df['member'].isin(applicants_list)]['group_id'].unique())\n",
    "        # locate where the group is\n",
    "        select_df = groups_df[groups_df['group_id'].isin(group_ids_list)]\n",
    "        # list of actual members of the group\n",
    "        already_members = list(pd.unique(select_df[['leader', 'member']].values.ravel('K')))\n",
    "        # union of already members + apliccants list --> idea: get a unique selection of a wider spectrum\n",
    "        concatenated_list = list(set(already_members + applicants_list))\n",
    "        # remove group from global groups dataframe\n",
    "        groups_df = groups_df[~groups_df['group_id'].isin(group_ids_list)].copy()\n",
    "        # remove group from track groups dataframe\n",
    "        track_df = track_df[~track_df['group_id'].isin(group_ids_list)]\n",
    "        # re-create and add the modified group to the global groups df\n",
    "        concat_df = create_product_df(groups_df, product_, concatenated_list)\n",
    "        groups_df = pd.concat([groups_df, concat_df], axis=0).reset_index(drop=True)\n",
    "        # re-create and add the modified group to the track groups df\n",
    "        df_track_temp = create_track_temp_df(track_df, applicants_list)\n",
    "        track_df = pd.concat([track_df, df_track_temp], axis=0).reset_index(drop=True)\n",
    "    return groups_df, track_df"
   ]
  },
  {
   "cell_type": "code",
   "execution_count": 50,
   "id": "67b60de8",
   "metadata": {},
   "outputs": [],
   "source": [
    "merged_df.drop('variable', axis=1, inplace=True)"
   ]
  },
  {
   "cell_type": "markdown",
   "id": "91874be5",
   "metadata": {},
   "source": [
    "### 6.1 Selecting the similarity group of a product"
   ]
  },
  {
   "cell_type": "code",
   "execution_count": 51,
   "id": "b8b93fb3",
   "metadata": {},
   "outputs": [],
   "source": [
    "# dataframe definition\n",
    "groups_df = pd.DataFrame(columns=['group_id', 'leader', 'member'])\n",
    "track_df = pd.DataFrame(columns=['group_id', 'member'])"
   ]
  },
  {
   "cell_type": "code",
   "execution_count": 52,
   "id": "e8315681",
   "metadata": {},
   "outputs": [],
   "source": [
    "# all products \n",
    "products_list = merged_df['product_name'].unique()"
   ]
  },
  {
   "cell_type": "code",
   "execution_count": 53,
   "id": "8ef0e7b1",
   "metadata": {},
   "outputs": [],
   "source": [
    "for product_ in products_list:\n",
    "    # select the group of similars to product_\n",
    "    candidate_group = group_selection(merged_df, product_)\n",
    "    # remove products without package similarity (fuzzy: threshold specified)\n",
    "    clean_candidate_group = clean_group(candidate_group, reg_package, threshold_=85)\n",
    "    # get all the products in the applicant group\n",
    "    applicants_list = list(pd.unique(clean_candidate_group[['product_name', 'candidate']].values.ravel('K')))\n",
    "    # integration to global groups df\n",
    "    groups_df, track_df = group_concat_procedure(groups_df, track_df, product_, applicants_list)"
   ]
  },
  {
   "cell_type": "code",
   "execution_count": 54,
   "id": "c55cd370",
   "metadata": {},
   "outputs": [
    {
     "data": {
      "text/html": [
       "<div>\n",
       "<style scoped>\n",
       "    .dataframe tbody tr th:only-of-type {\n",
       "        vertical-align: middle;\n",
       "    }\n",
       "\n",
       "    .dataframe tbody tr th {\n",
       "        vertical-align: top;\n",
       "    }\n",
       "\n",
       "    .dataframe thead th {\n",
       "        text-align: right;\n",
       "    }\n",
       "</style>\n",
       "<table border=\"1\" class=\"dataframe\">\n",
       "  <thead>\n",
       "    <tr style=\"text-align: right;\">\n",
       "      <th></th>\n",
       "      <th>group_id</th>\n",
       "      <th>leader</th>\n",
       "      <th>member</th>\n",
       "    </tr>\n",
       "  </thead>\n",
       "  <tbody>\n",
       "    <tr>\n",
       "      <th>0</th>\n",
       "      <td>0</td>\n",
       "      <td>1.5 lt chardolini</td>\n",
       "      <td>1.5 lt chardolini</td>\n",
       "    </tr>\n",
       "    <tr>\n",
       "      <th>1</th>\n",
       "      <td>2</td>\n",
       "      <td>100 g buttery flapjack</td>\n",
       "      <td>100 g buttery flapjack</td>\n",
       "    </tr>\n",
       "    <tr>\n",
       "      <th>2</th>\n",
       "      <td>3</td>\n",
       "      <td>10pk carling can</td>\n",
       "      <td>10pk carling can</td>\n",
       "    </tr>\n",
       "    <tr>\n",
       "      <th>3</th>\n",
       "      <td>4</td>\n",
       "      <td>12 inch hot chicago town stuffed crust pizza p...</td>\n",
       "      <td>12 inch hot chicago town stuffed crust pizza p...</td>\n",
       "    </tr>\n",
       "    <tr>\n",
       "      <th>4</th>\n",
       "      <td>5</td>\n",
       "      <td>12 pizza meal deal</td>\n",
       "      <td>12 pizza meal deal</td>\n",
       "    </tr>\n",
       "    <tr>\n",
       "      <th>...</th>\n",
       "      <td>...</td>\n",
       "      <td>...</td>\n",
       "      <td>...</td>\n",
       "    </tr>\n",
       "    <tr>\n",
       "      <th>4306</th>\n",
       "      <td>3818</td>\n",
       "      <td>young admiral pie 300g</td>\n",
       "      <td>young admiral pie 300g</td>\n",
       "    </tr>\n",
       "    <tr>\n",
       "      <th>4307</th>\n",
       "      <td>3819</td>\n",
       "      <td>yp pea spinach soup 600g</td>\n",
       "      <td>yp pea spinach soup 600g</td>\n",
       "    </tr>\n",
       "    <tr>\n",
       "      <th>4308</th>\n",
       "      <td>3820</td>\n",
       "      <td>zoflora 3in1 disinfectant 120ml</td>\n",
       "      <td>zoflora 3in1 disinfectant 120ml</td>\n",
       "    </tr>\n",
       "    <tr>\n",
       "      <th>4309</th>\n",
       "      <td>3821</td>\n",
       "      <td>zyweic 4 pack</td>\n",
       "      <td>zyweic 4 pack</td>\n",
       "    </tr>\n",
       "    <tr>\n",
       "      <th>4310</th>\n",
       "      <td>3822</td>\n",
       "      <td>zywiec 1856 polish 4x500ml</td>\n",
       "      <td>zywiec 1856 polish 4x500ml</td>\n",
       "    </tr>\n",
       "  </tbody>\n",
       "</table>\n",
       "<p>4311 rows × 3 columns</p>\n",
       "</div>"
      ],
      "text/plain": [
       "     group_id                                             leader  \\\n",
       "0           0                                  1.5 lt chardolini   \n",
       "1           2                             100 g buttery flapjack   \n",
       "2           3                                   10pk carling can   \n",
       "3           4  12 inch hot chicago town stuffed crust pizza p...   \n",
       "4           5                                 12 pizza meal deal   \n",
       "...       ...                                                ...   \n",
       "4306     3818                             young admiral pie 300g   \n",
       "4307     3819                           yp pea spinach soup 600g   \n",
       "4308     3820                    zoflora 3in1 disinfectant 120ml   \n",
       "4309     3821                                      zyweic 4 pack   \n",
       "4310     3822                         zywiec 1856 polish 4x500ml   \n",
       "\n",
       "                                                 member  \n",
       "0                                     1.5 lt chardolini  \n",
       "1                                100 g buttery flapjack  \n",
       "2                                      10pk carling can  \n",
       "3     12 inch hot chicago town stuffed crust pizza p...  \n",
       "4                                    12 pizza meal deal  \n",
       "...                                                 ...  \n",
       "4306                             young admiral pie 300g  \n",
       "4307                           yp pea spinach soup 600g  \n",
       "4308                    zoflora 3in1 disinfectant 120ml  \n",
       "4309                                      zyweic 4 pack  \n",
       "4310                         zywiec 1856 polish 4x500ml  \n",
       "\n",
       "[4311 rows x 3 columns]"
      ]
     },
     "execution_count": 54,
     "metadata": {},
     "output_type": "execute_result"
    }
   ],
   "source": [
    "groups_df"
   ]
  },
  {
   "cell_type": "code",
   "execution_count": 55,
   "id": "7934bbea",
   "metadata": {},
   "outputs": [
    {
     "data": {
      "text/html": [
       "<div>\n",
       "<style scoped>\n",
       "    .dataframe tbody tr th:only-of-type {\n",
       "        vertical-align: middle;\n",
       "    }\n",
       "\n",
       "    .dataframe tbody tr th {\n",
       "        vertical-align: top;\n",
       "    }\n",
       "\n",
       "    .dataframe thead th {\n",
       "        text-align: right;\n",
       "    }\n",
       "</style>\n",
       "<table border=\"1\" class=\"dataframe\">\n",
       "  <thead>\n",
       "    <tr style=\"text-align: right;\">\n",
       "      <th></th>\n",
       "      <th>group_id</th>\n",
       "      <th>member</th>\n",
       "    </tr>\n",
       "  </thead>\n",
       "  <tbody>\n",
       "    <tr>\n",
       "      <th>0</th>\n",
       "      <td>0</td>\n",
       "      <td>1.5 lt chardolini</td>\n",
       "    </tr>\n",
       "    <tr>\n",
       "      <th>1</th>\n",
       "      <td>2</td>\n",
       "      <td>100 g buttery flapjack</td>\n",
       "    </tr>\n",
       "    <tr>\n",
       "      <th>2</th>\n",
       "      <td>3</td>\n",
       "      <td>10pk carling can</td>\n",
       "    </tr>\n",
       "    <tr>\n",
       "      <th>3</th>\n",
       "      <td>4</td>\n",
       "      <td>12 inch hot chicago town stuffed crust pizza p...</td>\n",
       "    </tr>\n",
       "    <tr>\n",
       "      <th>4</th>\n",
       "      <td>5</td>\n",
       "      <td>12 pizza meal deal</td>\n",
       "    </tr>\n",
       "    <tr>\n",
       "      <th>...</th>\n",
       "      <td>...</td>\n",
       "      <td>...</td>\n",
       "    </tr>\n",
       "    <tr>\n",
       "      <th>4142</th>\n",
       "      <td>3818</td>\n",
       "      <td>young admiral pie 300g</td>\n",
       "    </tr>\n",
       "    <tr>\n",
       "      <th>4143</th>\n",
       "      <td>3819</td>\n",
       "      <td>yp pea spinach soup 600g</td>\n",
       "    </tr>\n",
       "    <tr>\n",
       "      <th>4144</th>\n",
       "      <td>3820</td>\n",
       "      <td>zoflora 3in1 disinfectant 120ml</td>\n",
       "    </tr>\n",
       "    <tr>\n",
       "      <th>4145</th>\n",
       "      <td>3821</td>\n",
       "      <td>zyweic 4 pack</td>\n",
       "    </tr>\n",
       "    <tr>\n",
       "      <th>4146</th>\n",
       "      <td>3822</td>\n",
       "      <td>zywiec 1856 polish 4x500ml</td>\n",
       "    </tr>\n",
       "  </tbody>\n",
       "</table>\n",
       "<p>4147 rows × 2 columns</p>\n",
       "</div>"
      ],
      "text/plain": [
       "     group_id                                             member\n",
       "0           0                                  1.5 lt chardolini\n",
       "1           2                             100 g buttery flapjack\n",
       "2           3                                   10pk carling can\n",
       "3           4  12 inch hot chicago town stuffed crust pizza p...\n",
       "4           5                                 12 pizza meal deal\n",
       "...       ...                                                ...\n",
       "4142     3818                             young admiral pie 300g\n",
       "4143     3819                           yp pea spinach soup 600g\n",
       "4144     3820                    zoflora 3in1 disinfectant 120ml\n",
       "4145     3821                                      zyweic 4 pack\n",
       "4146     3822                         zywiec 1856 polish 4x500ml\n",
       "\n",
       "[4147 rows x 2 columns]"
      ]
     },
     "execution_count": 55,
     "metadata": {},
     "output_type": "execute_result"
    }
   ],
   "source": [
    "track_df"
   ]
  },
  {
   "cell_type": "markdown",
   "id": "1a4f90bc",
   "metadata": {},
   "source": [
    "## 7. Validation"
   ]
  },
  {
   "cell_type": "markdown",
   "id": "15c8dfc4",
   "metadata": {},
   "source": [
    "### 7.1 Leaders leadeing more than 1 group"
   ]
  },
  {
   "cell_type": "code",
   "execution_count": 56,
   "id": "18625ba7",
   "metadata": {},
   "outputs": [
    {
     "data": {
      "text/html": [
       "<div>\n",
       "<style scoped>\n",
       "    .dataframe tbody tr th:only-of-type {\n",
       "        vertical-align: middle;\n",
       "    }\n",
       "\n",
       "    .dataframe tbody tr th {\n",
       "        vertical-align: top;\n",
       "    }\n",
       "\n",
       "    .dataframe thead th {\n",
       "        text-align: right;\n",
       "    }\n",
       "</style>\n",
       "<table border=\"1\" class=\"dataframe\">\n",
       "  <thead>\n",
       "    <tr style=\"text-align: right;\">\n",
       "      <th></th>\n",
       "      <th>group_id</th>\n",
       "      <th>leader</th>\n",
       "    </tr>\n",
       "  </thead>\n",
       "  <tbody>\n",
       "  </tbody>\n",
       "</table>\n",
       "</div>"
      ],
      "text/plain": [
       "Empty DataFrame\n",
       "Columns: [group_id, leader]\n",
       "Index: []"
      ]
     },
     "execution_count": 56,
     "metadata": {},
     "output_type": "execute_result"
    }
   ],
   "source": [
    "leaders_df = groups_df[['group_id', 'leader']].drop_duplicates().reset_index(drop=True)\n",
    "leaders_df[leaders_df['leader'].duplicated() == True]"
   ]
  },
  {
   "cell_type": "markdown",
   "id": "dce3fdb9",
   "metadata": {},
   "source": [
    "### 7.2 Products (members) belonging to more than 1 group"
   ]
  },
  {
   "cell_type": "code",
   "execution_count": 57,
   "id": "f599cdc6",
   "metadata": {},
   "outputs": [
    {
     "data": {
      "text/html": [
       "<div>\n",
       "<style scoped>\n",
       "    .dataframe tbody tr th:only-of-type {\n",
       "        vertical-align: middle;\n",
       "    }\n",
       "\n",
       "    .dataframe tbody tr th {\n",
       "        vertical-align: top;\n",
       "    }\n",
       "\n",
       "    .dataframe thead th {\n",
       "        text-align: right;\n",
       "    }\n",
       "</style>\n",
       "<table border=\"1\" class=\"dataframe\">\n",
       "  <thead>\n",
       "    <tr style=\"text-align: right;\">\n",
       "      <th></th>\n",
       "      <th>index</th>\n",
       "      <th>group_id</th>\n",
       "      <th>member</th>\n",
       "    </tr>\n",
       "  </thead>\n",
       "  <tbody>\n",
       "    <tr>\n",
       "      <th>0</th>\n",
       "      <td>857</td>\n",
       "      <td>815</td>\n",
       "      <td>1.75l coca cola</td>\n",
       "    </tr>\n",
       "    <tr>\n",
       "      <th>1</th>\n",
       "      <td>848</td>\n",
       "      <td>815</td>\n",
       "      <td>coca cola 1.75</td>\n",
       "    </tr>\n",
       "    <tr>\n",
       "      <th>2</th>\n",
       "      <td>861</td>\n",
       "      <td>818</td>\n",
       "      <td>coca cola 1.5 ltr</td>\n",
       "    </tr>\n",
       "    <tr>\n",
       "      <th>3</th>\n",
       "      <td>860</td>\n",
       "      <td>818</td>\n",
       "      <td>cocacola 1.5 ltr</td>\n",
       "    </tr>\n",
       "    <tr>\n",
       "      <th>4</th>\n",
       "      <td>863</td>\n",
       "      <td>819</td>\n",
       "      <td>coca cola cherry  1.5lt</td>\n",
       "    </tr>\n",
       "    <tr>\n",
       "      <th>5</th>\n",
       "      <td>862</td>\n",
       "      <td>819</td>\n",
       "      <td>cocacola cherry 1.5l</td>\n",
       "    </tr>\n",
       "    <tr>\n",
       "      <th>6</th>\n",
       "      <td>2815</td>\n",
       "      <td>2565</td>\n",
       "      <td>monster energy mango loco  500ml</td>\n",
       "    </tr>\n",
       "    <tr>\n",
       "      <th>7</th>\n",
       "      <td>2810</td>\n",
       "      <td>2565</td>\n",
       "      <td>monster juiced mango loco 500ml</td>\n",
       "    </tr>\n",
       "    <tr>\n",
       "      <th>8</th>\n",
       "      <td>2807</td>\n",
       "      <td>2565</td>\n",
       "      <td>monster mango loco 500 ml</td>\n",
       "    </tr>\n",
       "    <tr>\n",
       "      <th>9</th>\n",
       "      <td>2804</td>\n",
       "      <td>2565</td>\n",
       "      <td>monster mango loco 500ml</td>\n",
       "    </tr>\n",
       "    <tr>\n",
       "      <th>10</th>\n",
       "      <td>2806</td>\n",
       "      <td>2565</td>\n",
       "      <td>monster mango loco 500ml can</td>\n",
       "    </tr>\n",
       "    <tr>\n",
       "      <th>11</th>\n",
       "      <td>2816</td>\n",
       "      <td>2565</td>\n",
       "      <td>monster monster mango loco 500ml</td>\n",
       "    </tr>\n",
       "    <tr>\n",
       "      <th>12</th>\n",
       "      <td>2829</td>\n",
       "      <td>2566</td>\n",
       "      <td>monster energy 500ml</td>\n",
       "    </tr>\n",
       "    <tr>\n",
       "      <th>13</th>\n",
       "      <td>2826</td>\n",
       "      <td>2566</td>\n",
       "      <td>monster energy drink 500ml</td>\n",
       "    </tr>\n",
       "    <tr>\n",
       "      <th>14</th>\n",
       "      <td>2828</td>\n",
       "      <td>2566</td>\n",
       "      <td>monster energy drink 500ml</td>\n",
       "    </tr>\n",
       "    <tr>\n",
       "      <th>15</th>\n",
       "      <td>2825</td>\n",
       "      <td>2566</td>\n",
       "      <td>monster energy zero sugar 500ml</td>\n",
       "    </tr>\n",
       "    <tr>\n",
       "      <th>16</th>\n",
       "      <td>2827</td>\n",
       "      <td>2566</td>\n",
       "      <td>monster mango loco energy drink 500ml</td>\n",
       "    </tr>\n",
       "    <tr>\n",
       "      <th>17</th>\n",
       "      <td>2822</td>\n",
       "      <td>2566</td>\n",
       "      <td>monster monarch energy drink 500ml pm</td>\n",
       "    </tr>\n",
       "    <tr>\n",
       "      <th>18</th>\n",
       "      <td>2823</td>\n",
       "      <td>2566</td>\n",
       "      <td>monster zero sugar 500ml</td>\n",
       "    </tr>\n",
       "    <tr>\n",
       "      <th>19</th>\n",
       "      <td>2824</td>\n",
       "      <td>2566</td>\n",
       "      <td>monster zero sugar energy drink 500ml</td>\n",
       "    </tr>\n",
       "  </tbody>\n",
       "</table>\n",
       "</div>"
      ],
      "text/plain": [
       "    index group_id                                 member\n",
       "0     857      815                        1.75l coca cola\n",
       "1     848      815                         coca cola 1.75\n",
       "2     861      818                      coca cola 1.5 ltr\n",
       "3     860      818                       cocacola 1.5 ltr\n",
       "4     863      819                coca cola cherry  1.5lt\n",
       "5     862      819                   cocacola cherry 1.5l\n",
       "6    2815     2565       monster energy mango loco  500ml\n",
       "7    2810     2565        monster juiced mango loco 500ml\n",
       "8    2807     2565              monster mango loco 500 ml\n",
       "9    2804     2565               monster mango loco 500ml\n",
       "10   2806     2565           monster mango loco 500ml can\n",
       "11   2816     2565       monster monster mango loco 500ml\n",
       "12   2829     2566                   monster energy 500ml\n",
       "13   2826     2566             monster energy drink 500ml\n",
       "14   2828     2566            monster energy drink 500ml \n",
       "15   2825     2566        monster energy zero sugar 500ml\n",
       "16   2827     2566  monster mango loco energy drink 500ml\n",
       "17   2822     2566  monster monarch energy drink 500ml pm\n",
       "18   2823     2566               monster zero sugar 500ml\n",
       "19   2824     2566  monster zero sugar energy drink 500ml"
      ]
     },
     "execution_count": 57,
     "metadata": {},
     "output_type": "execute_result"
    }
   ],
   "source": [
    "members_df = groups_df[['group_id', 'member']].drop_duplicates().reset_index(drop=True)\n",
    "numb_df = members_df[members_df['member'].duplicated() == True].sort_values(by=['group_id', 'member'])\n",
    "numb_df.reset_index()"
   ]
  },
  {
   "cell_type": "code",
   "execution_count": 58,
   "id": "19386510",
   "metadata": {},
   "outputs": [
    {
     "data": {
      "text/plain": [
       "array(['monster energy drink 4pack x 500ml'], dtype=object)"
      ]
     },
     "execution_count": 58,
     "metadata": {},
     "output_type": "execute_result"
    }
   ],
   "source": [
    "groups_df[groups_df['group_id'] == 2526]['member'].unique()"
   ]
  },
  {
   "cell_type": "code",
   "execution_count": 59,
   "id": "41492447",
   "metadata": {},
   "outputs": [
    {
     "data": {
      "text/html": [
       "<div>\n",
       "<style scoped>\n",
       "    .dataframe tbody tr th:only-of-type {\n",
       "        vertical-align: middle;\n",
       "    }\n",
       "\n",
       "    .dataframe tbody tr th {\n",
       "        vertical-align: top;\n",
       "    }\n",
       "\n",
       "    .dataframe thead th {\n",
       "        text-align: right;\n",
       "    }\n",
       "</style>\n",
       "<table border=\"1\" class=\"dataframe\">\n",
       "  <thead>\n",
       "    <tr style=\"text-align: right;\">\n",
       "      <th></th>\n",
       "      <th>group_id</th>\n",
       "      <th>leader</th>\n",
       "      <th>member</th>\n",
       "    </tr>\n",
       "  </thead>\n",
       "  <tbody>\n",
       "    <tr>\n",
       "      <th>2814</th>\n",
       "      <td>2565</td>\n",
       "      <td>monster ultra white 500ml can</td>\n",
       "      <td>monster energy drink 500ml</td>\n",
       "    </tr>\n",
       "    <tr>\n",
       "      <th>2826</th>\n",
       "      <td>2566</td>\n",
       "      <td>monster zero sugar energy drink 500ml</td>\n",
       "      <td>monster energy drink 500ml</td>\n",
       "    </tr>\n",
       "  </tbody>\n",
       "</table>\n",
       "</div>"
      ],
      "text/plain": [
       "     group_id                                 leader  \\\n",
       "2814     2565          monster ultra white 500ml can   \n",
       "2826     2566  monster zero sugar energy drink 500ml   \n",
       "\n",
       "                          member  \n",
       "2814  monster energy drink 500ml  \n",
       "2826  monster energy drink 500ml  "
      ]
     },
     "execution_count": 59,
     "metadata": {},
     "output_type": "execute_result"
    }
   ],
   "source": [
    "groups_df[groups_df['member'] == 'monster energy drink 500ml']"
   ]
  },
  {
   "cell_type": "code",
   "execution_count": 60,
   "id": "69276a01",
   "metadata": {},
   "outputs": [
    {
     "data": {
      "text/plain": [
       "array([], dtype=object)"
      ]
     },
     "execution_count": 60,
     "metadata": {},
     "output_type": "execute_result"
    }
   ],
   "source": [
    "track_df[track_df['member'].duplicated() == True]['member'].unique()"
   ]
  },
  {
   "cell_type": "code",
   "execution_count": 61,
   "id": "59367dcb",
   "metadata": {},
   "outputs": [
    {
     "data": {
      "text/html": [
       "<div>\n",
       "<style scoped>\n",
       "    .dataframe tbody tr th:only-of-type {\n",
       "        vertical-align: middle;\n",
       "    }\n",
       "\n",
       "    .dataframe tbody tr th {\n",
       "        vertical-align: top;\n",
       "    }\n",
       "\n",
       "    .dataframe thead th {\n",
       "        text-align: right;\n",
       "    }\n",
       "</style>\n",
       "<table border=\"1\" class=\"dataframe\">\n",
       "  <thead>\n",
       "    <tr style=\"text-align: right;\">\n",
       "      <th></th>\n",
       "      <th>group_id</th>\n",
       "      <th>member</th>\n",
       "    </tr>\n",
       "  </thead>\n",
       "  <tbody>\n",
       "    <tr>\n",
       "      <th>44</th>\n",
       "      <td>51</td>\n",
       "      <td>absolut swedish vodka 70cl</td>\n",
       "    </tr>\n",
       "  </tbody>\n",
       "</table>\n",
       "</div>"
      ],
      "text/plain": [
       "   group_id                      member\n",
       "44       51  absolut swedish vodka 70cl"
      ]
     },
     "execution_count": 61,
     "metadata": {},
     "output_type": "execute_result"
    }
   ],
   "source": [
    "track_df[track_df['member'] == 'absolut swedish vodka 70cl']"
   ]
  },
  {
   "cell_type": "code",
   "execution_count": null,
   "id": "19b7c8c0",
   "metadata": {},
   "outputs": [],
   "source": []
  },
  {
   "cell_type": "code",
   "execution_count": 62,
   "id": "4cc13571",
   "metadata": {},
   "outputs": [
    {
     "data": {
      "text/html": [
       "<div>\n",
       "<style scoped>\n",
       "    .dataframe tbody tr th:only-of-type {\n",
       "        vertical-align: middle;\n",
       "    }\n",
       "\n",
       "    .dataframe tbody tr th {\n",
       "        vertical-align: top;\n",
       "    }\n",
       "\n",
       "    .dataframe thead th {\n",
       "        text-align: right;\n",
       "    }\n",
       "</style>\n",
       "<table border=\"1\" class=\"dataframe\">\n",
       "  <thead>\n",
       "    <tr style=\"text-align: right;\">\n",
       "      <th></th>\n",
       "      <th>group_id</th>\n",
       "      <th>leader</th>\n",
       "      <th>member</th>\n",
       "    </tr>\n",
       "  </thead>\n",
       "  <tbody>\n",
       "    <tr>\n",
       "      <th>831</th>\n",
       "      <td>794</td>\n",
       "      <td>coca cola 1.75</td>\n",
       "      <td>coca cola 1.75</td>\n",
       "    </tr>\n",
       "    <tr>\n",
       "      <th>832</th>\n",
       "      <td>794</td>\n",
       "      <td>coca cola 1.75</td>\n",
       "      <td>1.75l coca cola</td>\n",
       "    </tr>\n",
       "    <tr>\n",
       "      <th>833</th>\n",
       "      <td>796</td>\n",
       "      <td>coca cola 10 x 330ml</td>\n",
       "      <td>coca cola 10 x 330ml</td>\n",
       "    </tr>\n",
       "    <tr>\n",
       "      <th>834</th>\n",
       "      <td>797</td>\n",
       "      <td>coca cola 10x330ml can pack</td>\n",
       "      <td>coca cola 10x330ml can pack</td>\n",
       "    </tr>\n",
       "    <tr>\n",
       "      <th>835</th>\n",
       "      <td>802</td>\n",
       "      <td>coca cola cherry 500ml bottle</td>\n",
       "      <td>coca cola 500ml bottle</td>\n",
       "    </tr>\n",
       "    <tr>\n",
       "      <th>836</th>\n",
       "      <td>802</td>\n",
       "      <td>coca cola cherry 500ml bottle</td>\n",
       "      <td>coca cola cherry 500ml bottle</td>\n",
       "    </tr>\n",
       "    <tr>\n",
       "      <th>837</th>\n",
       "      <td>803</td>\n",
       "      <td>coca cola classic  1.5lt</td>\n",
       "      <td>coca cola classic  1.5lt</td>\n",
       "    </tr>\n",
       "    <tr>\n",
       "      <th>838</th>\n",
       "      <td>807</td>\n",
       "      <td>coca cola diet coke</td>\n",
       "      <td>coca cola diet coke</td>\n",
       "    </tr>\n",
       "    <tr>\n",
       "      <th>839</th>\n",
       "      <td>808</td>\n",
       "      <td>coca cola frozen</td>\n",
       "      <td>coca cola frozen</td>\n",
       "    </tr>\n",
       "    <tr>\n",
       "      <th>840</th>\n",
       "      <td>809</td>\n",
       "      <td>coca cola multipack  6x330ml</td>\n",
       "      <td>coca cola multipack  6x330ml</td>\n",
       "    </tr>\n",
       "    <tr>\n",
       "      <th>841</th>\n",
       "      <td>810</td>\n",
       "      <td>coca cola original 1.75ltr</td>\n",
       "      <td>coca cola original 1.5ltr</td>\n",
       "    </tr>\n",
       "    <tr>\n",
       "      <th>842</th>\n",
       "      <td>810</td>\n",
       "      <td>coca cola original 1.75ltr</td>\n",
       "      <td>coca cola original 1.5litre</td>\n",
       "    </tr>\n",
       "    <tr>\n",
       "      <th>843</th>\n",
       "      <td>810</td>\n",
       "      <td>coca cola original 1.75ltr</td>\n",
       "      <td>coca cola original 1.75ltr</td>\n",
       "    </tr>\n",
       "    <tr>\n",
       "      <th>844</th>\n",
       "      <td>810</td>\n",
       "      <td>coca cola original 1.75ltr</td>\n",
       "      <td>coca cola original 1.75litre</td>\n",
       "    </tr>\n",
       "    <tr>\n",
       "      <th>845</th>\n",
       "      <td>814</td>\n",
       "      <td>coca cola pack of 6 can</td>\n",
       "      <td>coca cola pack of 6 can</td>\n",
       "    </tr>\n",
       "    <tr>\n",
       "      <th>846</th>\n",
       "      <td>815</td>\n",
       "      <td>coca cola zero 1.75ltr</td>\n",
       "      <td>coca cola 1.5ltr</td>\n",
       "    </tr>\n",
       "    <tr>\n",
       "      <th>847</th>\n",
       "      <td>815</td>\n",
       "      <td>coca cola zero 1.75ltr</td>\n",
       "      <td>coca cola cherry  1.5lt</td>\n",
       "    </tr>\n",
       "    <tr>\n",
       "      <th>848</th>\n",
       "      <td>815</td>\n",
       "      <td>coca cola zero 1.75ltr</td>\n",
       "      <td>coca cola 1.75</td>\n",
       "    </tr>\n",
       "    <tr>\n",
       "      <th>849</th>\n",
       "      <td>815</td>\n",
       "      <td>coca cola zero 1.75ltr</td>\n",
       "      <td>coca cola 1.75ltr</td>\n",
       "    </tr>\n",
       "    <tr>\n",
       "      <th>850</th>\n",
       "      <td>815</td>\n",
       "      <td>coca cola zero 1.75ltr</td>\n",
       "      <td>coca cola 1.5l 1.</td>\n",
       "    </tr>\n",
       "    <tr>\n",
       "      <th>851</th>\n",
       "      <td>815</td>\n",
       "      <td>coca cola zero 1.75ltr</td>\n",
       "      <td>cocacola 1.5 ltr</td>\n",
       "    </tr>\n",
       "    <tr>\n",
       "      <th>852</th>\n",
       "      <td>815</td>\n",
       "      <td>coca cola zero 1.75ltr</td>\n",
       "      <td>coca cola zero 1.75ltr</td>\n",
       "    </tr>\n",
       "    <tr>\n",
       "      <th>853</th>\n",
       "      <td>815</td>\n",
       "      <td>coca cola zero 1.75ltr</td>\n",
       "      <td>cocacola cherry 1.5l</td>\n",
       "    </tr>\n",
       "    <tr>\n",
       "      <th>854</th>\n",
       "      <td>815</td>\n",
       "      <td>coca cola zero 1.75ltr</td>\n",
       "      <td>cherry coca cola 1.75litre</td>\n",
       "    </tr>\n",
       "    <tr>\n",
       "      <th>855</th>\n",
       "      <td>815</td>\n",
       "      <td>coca cola zero 1.75ltr</td>\n",
       "      <td>cherry coca cola 1.5litre</td>\n",
       "    </tr>\n",
       "    <tr>\n",
       "      <th>856</th>\n",
       "      <td>815</td>\n",
       "      <td>coca cola zero 1.75ltr</td>\n",
       "      <td>coca cola 1.5 ltr</td>\n",
       "    </tr>\n",
       "    <tr>\n",
       "      <th>857</th>\n",
       "      <td>815</td>\n",
       "      <td>coca cola zero 1.75ltr</td>\n",
       "      <td>1.75l coca cola</td>\n",
       "    </tr>\n",
       "    <tr>\n",
       "      <th>858</th>\n",
       "      <td>816</td>\n",
       "      <td>coca cola zero 500ml</td>\n",
       "      <td>coca cola zero 500ml</td>\n",
       "    </tr>\n",
       "    <tr>\n",
       "      <th>859</th>\n",
       "      <td>816</td>\n",
       "      <td>coca cola zero 500ml</td>\n",
       "      <td>coca cola 500ml</td>\n",
       "    </tr>\n",
       "    <tr>\n",
       "      <th>860</th>\n",
       "      <td>818</td>\n",
       "      <td>cocacola 1.5 ltr</td>\n",
       "      <td>cocacola 1.5 ltr</td>\n",
       "    </tr>\n",
       "    <tr>\n",
       "      <th>861</th>\n",
       "      <td>818</td>\n",
       "      <td>cocacola 1.5 ltr</td>\n",
       "      <td>coca cola 1.5 ltr</td>\n",
       "    </tr>\n",
       "    <tr>\n",
       "      <th>862</th>\n",
       "      <td>819</td>\n",
       "      <td>cocacola cherry 1.5l</td>\n",
       "      <td>cocacola cherry 1.5l</td>\n",
       "    </tr>\n",
       "    <tr>\n",
       "      <th>863</th>\n",
       "      <td>819</td>\n",
       "      <td>cocacola cherry 1.5l</td>\n",
       "      <td>coca cola cherry  1.5lt</td>\n",
       "    </tr>\n",
       "    <tr>\n",
       "      <th>864</th>\n",
       "      <td>820</td>\n",
       "      <td>cocacola original taste 1.75l</td>\n",
       "      <td>coca cola original taste 1.5l</td>\n",
       "    </tr>\n",
       "    <tr>\n",
       "      <th>865</th>\n",
       "      <td>820</td>\n",
       "      <td>cocacola original taste 1.75l</td>\n",
       "      <td>cocacola original taste 1.5l</td>\n",
       "    </tr>\n",
       "    <tr>\n",
       "      <th>866</th>\n",
       "      <td>820</td>\n",
       "      <td>cocacola original taste 1.75l</td>\n",
       "      <td>cocacola original taste 1.75l</td>\n",
       "    </tr>\n",
       "    <tr>\n",
       "      <th>867</th>\n",
       "      <td>821</td>\n",
       "      <td>cocacola original taste 10 x 330ml</td>\n",
       "      <td>cocacola original taste 10 x 330ml</td>\n",
       "    </tr>\n",
       "    <tr>\n",
       "      <th>868</th>\n",
       "      <td>823</td>\n",
       "      <td>cocacola original taste 500ml</td>\n",
       "      <td>coca cola original taste cherry 500ml</td>\n",
       "    </tr>\n",
       "    <tr>\n",
       "      <th>869</th>\n",
       "      <td>823</td>\n",
       "      <td>cocacola original taste 500ml</td>\n",
       "      <td>coca cola original 500ml</td>\n",
       "    </tr>\n",
       "    <tr>\n",
       "      <th>870</th>\n",
       "      <td>823</td>\n",
       "      <td>cocacola original taste 500ml</td>\n",
       "      <td>cocacola original taste 500ml</td>\n",
       "    </tr>\n",
       "    <tr>\n",
       "      <th>871</th>\n",
       "      <td>824</td>\n",
       "      <td>cocacola original taste can 330ml</td>\n",
       "      <td>cocacola original taste 330ml</td>\n",
       "    </tr>\n",
       "    <tr>\n",
       "      <th>872</th>\n",
       "      <td>824</td>\n",
       "      <td>cocacola original taste can 330ml</td>\n",
       "      <td>cocacola original taste can 330ml</td>\n",
       "    </tr>\n",
       "    <tr>\n",
       "      <th>873</th>\n",
       "      <td>824</td>\n",
       "      <td>cocacola original taste can 330ml</td>\n",
       "      <td>cocacola original taste 330ml</td>\n",
       "    </tr>\n",
       "    <tr>\n",
       "      <th>874</th>\n",
       "      <td>825</td>\n",
       "      <td>cocacola zero sugar 1.75l</td>\n",
       "      <td>cocacola zero sugar 1.75l</td>\n",
       "    </tr>\n",
       "    <tr>\n",
       "      <th>885</th>\n",
       "      <td>840</td>\n",
       "      <td>coke coca cola contour pet 500ml</td>\n",
       "      <td>coca cola contour pet 500 ml</td>\n",
       "    </tr>\n",
       "    <tr>\n",
       "      <th>886</th>\n",
       "      <td>840</td>\n",
       "      <td>coke coca cola contour pet 500ml</td>\n",
       "      <td>coca cola contour pet 500ml</td>\n",
       "    </tr>\n",
       "    <tr>\n",
       "      <th>887</th>\n",
       "      <td>840</td>\n",
       "      <td>coke coca cola contour pet 500ml</td>\n",
       "      <td>coke coca cola contour pet 500ml</td>\n",
       "    </tr>\n",
       "    <tr>\n",
       "      <th>888</th>\n",
       "      <td>841</td>\n",
       "      <td>coke coca cola zero sugar pet 500ml</td>\n",
       "      <td>coca cola zero sugar pet 500 ml</td>\n",
       "    </tr>\n",
       "    <tr>\n",
       "      <th>889</th>\n",
       "      <td>841</td>\n",
       "      <td>coke coca cola zero sugar pet 500ml</td>\n",
       "      <td>coke coca cola zero sugar pet 500ml</td>\n",
       "    </tr>\n",
       "    <tr>\n",
       "      <th>891</th>\n",
       "      <td>847</td>\n",
       "      <td>coke diet coke can 330ml</td>\n",
       "      <td>coca cola can 330ml</td>\n",
       "    </tr>\n",
       "    <tr>\n",
       "      <th>894</th>\n",
       "      <td>847</td>\n",
       "      <td>coke diet coke can 330ml</td>\n",
       "      <td>coca cola can cherry 330ml</td>\n",
       "    </tr>\n",
       "    <tr>\n",
       "      <th>895</th>\n",
       "      <td>847</td>\n",
       "      <td>coke diet coke can 330ml</td>\n",
       "      <td>coca cola diet can 330ml</td>\n",
       "    </tr>\n",
       "    <tr>\n",
       "      <th>896</th>\n",
       "      <td>847</td>\n",
       "      <td>coke diet coke can 330ml</td>\n",
       "      <td>coca cola classic cherry  330ml</td>\n",
       "    </tr>\n",
       "    <tr>\n",
       "      <th>897</th>\n",
       "      <td>847</td>\n",
       "      <td>coke diet coke can 330ml</td>\n",
       "      <td>coca cola can 330 ml</td>\n",
       "    </tr>\n",
       "    <tr>\n",
       "      <th>899</th>\n",
       "      <td>847</td>\n",
       "      <td>coke diet coke can 330ml</td>\n",
       "      <td>coke coca cola can 330ml</td>\n",
       "    </tr>\n",
       "    <tr>\n",
       "      <th>900</th>\n",
       "      <td>847</td>\n",
       "      <td>coke diet coke can 330ml</td>\n",
       "      <td>coca cola classic  330ml</td>\n",
       "    </tr>\n",
       "    <tr>\n",
       "      <th>2109</th>\n",
       "      <td>1950</td>\n",
       "      <td>jack daniel 70cl 1 and 2 coca cola 1.5ltr</td>\n",
       "      <td>jack daniel 70cl 1 and 2 coca cola 1.5ltr</td>\n",
       "    </tr>\n",
       "  </tbody>\n",
       "</table>\n",
       "</div>"
      ],
      "text/plain": [
       "     group_id                                     leader  \\\n",
       "831       794                             coca cola 1.75   \n",
       "832       794                             coca cola 1.75   \n",
       "833       796                       coca cola 10 x 330ml   \n",
       "834       797                coca cola 10x330ml can pack   \n",
       "835       802              coca cola cherry 500ml bottle   \n",
       "836       802              coca cola cherry 500ml bottle   \n",
       "837       803                   coca cola classic  1.5lt   \n",
       "838       807                        coca cola diet coke   \n",
       "839       808                           coca cola frozen   \n",
       "840       809               coca cola multipack  6x330ml   \n",
       "841       810                 coca cola original 1.75ltr   \n",
       "842       810                 coca cola original 1.75ltr   \n",
       "843       810                 coca cola original 1.75ltr   \n",
       "844       810                 coca cola original 1.75ltr   \n",
       "845       814                    coca cola pack of 6 can   \n",
       "846       815                     coca cola zero 1.75ltr   \n",
       "847       815                     coca cola zero 1.75ltr   \n",
       "848       815                     coca cola zero 1.75ltr   \n",
       "849       815                     coca cola zero 1.75ltr   \n",
       "850       815                     coca cola zero 1.75ltr   \n",
       "851       815                     coca cola zero 1.75ltr   \n",
       "852       815                     coca cola zero 1.75ltr   \n",
       "853       815                     coca cola zero 1.75ltr   \n",
       "854       815                     coca cola zero 1.75ltr   \n",
       "855       815                     coca cola zero 1.75ltr   \n",
       "856       815                     coca cola zero 1.75ltr   \n",
       "857       815                     coca cola zero 1.75ltr   \n",
       "858       816                       coca cola zero 500ml   \n",
       "859       816                       coca cola zero 500ml   \n",
       "860       818                           cocacola 1.5 ltr   \n",
       "861       818                           cocacola 1.5 ltr   \n",
       "862       819                       cocacola cherry 1.5l   \n",
       "863       819                       cocacola cherry 1.5l   \n",
       "864       820              cocacola original taste 1.75l   \n",
       "865       820              cocacola original taste 1.75l   \n",
       "866       820              cocacola original taste 1.75l   \n",
       "867       821         cocacola original taste 10 x 330ml   \n",
       "868       823              cocacola original taste 500ml   \n",
       "869       823              cocacola original taste 500ml   \n",
       "870       823              cocacola original taste 500ml   \n",
       "871       824          cocacola original taste can 330ml   \n",
       "872       824          cocacola original taste can 330ml   \n",
       "873       824          cocacola original taste can 330ml   \n",
       "874       825                  cocacola zero sugar 1.75l   \n",
       "885       840           coke coca cola contour pet 500ml   \n",
       "886       840           coke coca cola contour pet 500ml   \n",
       "887       840           coke coca cola contour pet 500ml   \n",
       "888       841        coke coca cola zero sugar pet 500ml   \n",
       "889       841        coke coca cola zero sugar pet 500ml   \n",
       "891       847                   coke diet coke can 330ml   \n",
       "894       847                   coke diet coke can 330ml   \n",
       "895       847                   coke diet coke can 330ml   \n",
       "896       847                   coke diet coke can 330ml   \n",
       "897       847                   coke diet coke can 330ml   \n",
       "899       847                   coke diet coke can 330ml   \n",
       "900       847                   coke diet coke can 330ml   \n",
       "2109     1950  jack daniel 70cl 1 and 2 coca cola 1.5ltr   \n",
       "\n",
       "                                         member  \n",
       "831                              coca cola 1.75  \n",
       "832                             1.75l coca cola  \n",
       "833                        coca cola 10 x 330ml  \n",
       "834                 coca cola 10x330ml can pack  \n",
       "835                      coca cola 500ml bottle  \n",
       "836               coca cola cherry 500ml bottle  \n",
       "837                    coca cola classic  1.5lt  \n",
       "838                         coca cola diet coke  \n",
       "839                            coca cola frozen  \n",
       "840                coca cola multipack  6x330ml  \n",
       "841                   coca cola original 1.5ltr  \n",
       "842                 coca cola original 1.5litre  \n",
       "843                  coca cola original 1.75ltr  \n",
       "844                coca cola original 1.75litre  \n",
       "845                     coca cola pack of 6 can  \n",
       "846                            coca cola 1.5ltr  \n",
       "847                     coca cola cherry  1.5lt  \n",
       "848                              coca cola 1.75  \n",
       "849                           coca cola 1.75ltr  \n",
       "850                           coca cola 1.5l 1.  \n",
       "851                            cocacola 1.5 ltr  \n",
       "852                      coca cola zero 1.75ltr  \n",
       "853                        cocacola cherry 1.5l  \n",
       "854                  cherry coca cola 1.75litre  \n",
       "855                   cherry coca cola 1.5litre  \n",
       "856                           coca cola 1.5 ltr  \n",
       "857                             1.75l coca cola  \n",
       "858                        coca cola zero 500ml  \n",
       "859                             coca cola 500ml  \n",
       "860                            cocacola 1.5 ltr  \n",
       "861                           coca cola 1.5 ltr  \n",
       "862                        cocacola cherry 1.5l  \n",
       "863                     coca cola cherry  1.5lt  \n",
       "864               coca cola original taste 1.5l  \n",
       "865                cocacola original taste 1.5l  \n",
       "866               cocacola original taste 1.75l  \n",
       "867          cocacola original taste 10 x 330ml  \n",
       "868       coca cola original taste cherry 500ml  \n",
       "869                    coca cola original 500ml  \n",
       "870               cocacola original taste 500ml  \n",
       "871               cocacola original taste 330ml  \n",
       "872           cocacola original taste can 330ml  \n",
       "873              cocacola original taste 330ml   \n",
       "874                   cocacola zero sugar 1.75l  \n",
       "885                coca cola contour pet 500 ml  \n",
       "886                 coca cola contour pet 500ml  \n",
       "887            coke coca cola contour pet 500ml  \n",
       "888             coca cola zero sugar pet 500 ml  \n",
       "889         coke coca cola zero sugar pet 500ml  \n",
       "891                         coca cola can 330ml  \n",
       "894                  coca cola can cherry 330ml  \n",
       "895                    coca cola diet can 330ml  \n",
       "896             coca cola classic cherry  330ml  \n",
       "897                        coca cola can 330 ml  \n",
       "899                    coke coca cola can 330ml  \n",
       "900                    coca cola classic  330ml  \n",
       "2109  jack daniel 70cl 1 and 2 coca cola 1.5ltr  "
      ]
     },
     "execution_count": 62,
     "metadata": {},
     "output_type": "execute_result"
    }
   ],
   "source": [
    "groups_df[(groups_df['leader'].str.contains('coca'))|(groups_df['member'].str.contains('coca'))]"
   ]
  },
  {
   "cell_type": "code",
   "execution_count": 63,
   "id": "1a93e9f6",
   "metadata": {},
   "outputs": [
    {
     "data": {
      "text/html": [
       "<div>\n",
       "<style scoped>\n",
       "    .dataframe tbody tr th:only-of-type {\n",
       "        vertical-align: middle;\n",
       "    }\n",
       "\n",
       "    .dataframe tbody tr th {\n",
       "        vertical-align: top;\n",
       "    }\n",
       "\n",
       "    .dataframe thead th {\n",
       "        text-align: right;\n",
       "    }\n",
       "</style>\n",
       "<table border=\"1\" class=\"dataframe\">\n",
       "  <thead>\n",
       "    <tr style=\"text-align: right;\">\n",
       "      <th></th>\n",
       "      <th>group_id</th>\n",
       "      <th>leader</th>\n",
       "      <th>member</th>\n",
       "    </tr>\n",
       "  </thead>\n",
       "  <tbody>\n",
       "    <tr>\n",
       "      <th>0</th>\n",
       "      <td>0</td>\n",
       "      <td>1.5 lt chardolini</td>\n",
       "      <td>1.5 lt chardolini</td>\n",
       "    </tr>\n",
       "    <tr>\n",
       "      <th>1</th>\n",
       "      <td>2</td>\n",
       "      <td>100 g buttery flapjack</td>\n",
       "      <td>100 g buttery flapjack</td>\n",
       "    </tr>\n",
       "    <tr>\n",
       "      <th>2</th>\n",
       "      <td>3</td>\n",
       "      <td>10pk carling can</td>\n",
       "      <td>10pk carling can</td>\n",
       "    </tr>\n",
       "    <tr>\n",
       "      <th>3</th>\n",
       "      <td>4</td>\n",
       "      <td>12 inch hot chicago town stuffed crust pizza p...</td>\n",
       "      <td>12 inch hot chicago town stuffed crust pizza p...</td>\n",
       "    </tr>\n",
       "    <tr>\n",
       "      <th>4</th>\n",
       "      <td>5</td>\n",
       "      <td>12 pizza meal deal</td>\n",
       "      <td>12 pizza meal deal</td>\n",
       "    </tr>\n",
       "  </tbody>\n",
       "</table>\n",
       "</div>"
      ],
      "text/plain": [
       "  group_id                                             leader  \\\n",
       "0        0                                  1.5 lt chardolini   \n",
       "1        2                             100 g buttery flapjack   \n",
       "2        3                                   10pk carling can   \n",
       "3        4  12 inch hot chicago town stuffed crust pizza p...   \n",
       "4        5                                 12 pizza meal deal   \n",
       "\n",
       "                                              member  \n",
       "0                                  1.5 lt chardolini  \n",
       "1                             100 g buttery flapjack  \n",
       "2                                   10pk carling can  \n",
       "3  12 inch hot chicago town stuffed crust pizza p...  \n",
       "4                                 12 pizza meal deal  "
      ]
     },
     "execution_count": 63,
     "metadata": {},
     "output_type": "execute_result"
    }
   ],
   "source": [
    "groups_df.head()"
   ]
  },
  {
   "cell_type": "markdown",
   "id": "e7b405f6",
   "metadata": {},
   "source": [
    "## 8. Adding products without similars"
   ]
  },
  {
   "cell_type": "markdown",
   "id": "dbfbb1ae",
   "metadata": {},
   "source": [
    "Note: df_fuzzy has all products"
   ]
  },
  {
   "cell_type": "code",
   "execution_count": 64,
   "id": "406bd984",
   "metadata": {},
   "outputs": [
    {
     "data": {
      "text/html": [
       "<div>\n",
       "<style scoped>\n",
       "    .dataframe tbody tr th:only-of-type {\n",
       "        vertical-align: middle;\n",
       "    }\n",
       "\n",
       "    .dataframe tbody tr th {\n",
       "        vertical-align: top;\n",
       "    }\n",
       "\n",
       "    .dataframe thead th {\n",
       "        text-align: right;\n",
       "    }\n",
       "</style>\n",
       "<table border=\"1\" class=\"dataframe\">\n",
       "  <thead>\n",
       "    <tr style=\"text-align: right;\">\n",
       "      <th></th>\n",
       "      <th>product_name</th>\n",
       "    </tr>\n",
       "  </thead>\n",
       "  <tbody>\n",
       "    <tr>\n",
       "      <th>0</th>\n",
       "      <td>smirnoff red 70 cl</td>\n",
       "    </tr>\n",
       "    <tr>\n",
       "      <th>1</th>\n",
       "      <td>sensation sensation thai sweet chilli 150g</td>\n",
       "    </tr>\n",
       "    <tr>\n",
       "      <th>2</th>\n",
       "      <td>evian mineral water 1.5 ltr</td>\n",
       "    </tr>\n",
       "    <tr>\n",
       "      <th>3</th>\n",
       "      <td>kronenbourg 1664 4 pack</td>\n",
       "    </tr>\n",
       "    <tr>\n",
       "      <th>4</th>\n",
       "      <td>foster lager beer 4 x 568ml can  for 5.75</td>\n",
       "    </tr>\n",
       "  </tbody>\n",
       "</table>\n",
       "</div>"
      ],
      "text/plain": [
       "                                 product_name\n",
       "0                          smirnoff red 70 cl\n",
       "1  sensation sensation thai sweet chilli 150g\n",
       "2                 evian mineral water 1.5 ltr\n",
       "3                     kronenbourg 1664 4 pack\n",
       "4   foster lager beer 4 x 568ml can  for 5.75"
      ]
     },
     "execution_count": 64,
     "metadata": {},
     "output_type": "execute_result"
    }
   ],
   "source": [
    "df_fuzzy.head()"
   ]
  },
  {
   "cell_type": "markdown",
   "id": "455b5b3e",
   "metadata": {},
   "source": [
    "### 8.1 List of unique names (all)"
   ]
  },
  {
   "cell_type": "code",
   "execution_count": 65,
   "id": "802584b2",
   "metadata": {},
   "outputs": [],
   "source": [
    "all_products = list(set(df_fuzzy['product_name']))"
   ]
  },
  {
   "cell_type": "code",
   "execution_count": 66,
   "id": "94d7c081",
   "metadata": {},
   "outputs": [],
   "source": [
    "matched_products = list(set(groups_df['member']))"
   ]
  },
  {
   "cell_type": "markdown",
   "id": "5b0f3c74",
   "metadata": {},
   "source": [
    "### 8.2 Check products not classified into a group"
   ]
  },
  {
   "cell_type": "code",
   "execution_count": 67,
   "id": "eb1515d8",
   "metadata": {},
   "outputs": [],
   "source": [
    "not_matched = []\n",
    "for prod_ in all_products:\n",
    "    if prod_ not in matched_products:\n",
    "        not_matched.append(prod_)"
   ]
  },
  {
   "cell_type": "code",
   "execution_count": 68,
   "id": "b2b433e7",
   "metadata": {},
   "outputs": [
    {
     "data": {
      "text/plain": [
       "[]"
      ]
     },
     "execution_count": 68,
     "metadata": {},
     "output_type": "execute_result"
    }
   ],
   "source": [
    "not_matched"
   ]
  },
  {
   "cell_type": "code",
   "execution_count": 69,
   "id": "c07658df",
   "metadata": {},
   "outputs": [
    {
     "data": {
      "text/plain": [
       "(4291, 4291)"
      ]
     },
     "execution_count": 69,
     "metadata": {},
     "output_type": "execute_result"
    }
   ],
   "source": [
    "# we have all of the products because we never remove the comparison of the product with itself\n",
    "len(all_products), len(matched_products)"
   ]
  },
  {
   "cell_type": "markdown",
   "id": "9c9bcb0f",
   "metadata": {},
   "source": [
    "## 9. Outputs"
   ]
  },
  {
   "cell_type": "code",
   "execution_count": 70,
   "id": "5afd069a",
   "metadata": {},
   "outputs": [
    {
     "data": {
      "text/html": [
       "<div>\n",
       "<style scoped>\n",
       "    .dataframe tbody tr th:only-of-type {\n",
       "        vertical-align: middle;\n",
       "    }\n",
       "\n",
       "    .dataframe tbody tr th {\n",
       "        vertical-align: top;\n",
       "    }\n",
       "\n",
       "    .dataframe thead th {\n",
       "        text-align: right;\n",
       "    }\n",
       "</style>\n",
       "<table border=\"1\" class=\"dataframe\">\n",
       "  <thead>\n",
       "    <tr style=\"text-align: right;\">\n",
       "      <th></th>\n",
       "      <th>group_id</th>\n",
       "      <th>leader</th>\n",
       "      <th>member</th>\n",
       "    </tr>\n",
       "  </thead>\n",
       "  <tbody>\n",
       "    <tr>\n",
       "      <th>0</th>\n",
       "      <td>0</td>\n",
       "      <td>1.5 lt chardolini</td>\n",
       "      <td>1.5 lt chardolini</td>\n",
       "    </tr>\n",
       "    <tr>\n",
       "      <th>1</th>\n",
       "      <td>2</td>\n",
       "      <td>100 g buttery flapjack</td>\n",
       "      <td>100 g buttery flapjack</td>\n",
       "    </tr>\n",
       "    <tr>\n",
       "      <th>2</th>\n",
       "      <td>3</td>\n",
       "      <td>10pk carling can</td>\n",
       "      <td>10pk carling can</td>\n",
       "    </tr>\n",
       "    <tr>\n",
       "      <th>3</th>\n",
       "      <td>4</td>\n",
       "      <td>12 inch hot chicago town stuffed crust pizza p...</td>\n",
       "      <td>12 inch hot chicago town stuffed crust pizza p...</td>\n",
       "    </tr>\n",
       "    <tr>\n",
       "      <th>4</th>\n",
       "      <td>5</td>\n",
       "      <td>12 pizza meal deal</td>\n",
       "      <td>12 pizza meal deal</td>\n",
       "    </tr>\n",
       "    <tr>\n",
       "      <th>...</th>\n",
       "      <td>...</td>\n",
       "      <td>...</td>\n",
       "      <td>...</td>\n",
       "    </tr>\n",
       "    <tr>\n",
       "      <th>4306</th>\n",
       "      <td>3818</td>\n",
       "      <td>young admiral pie 300g</td>\n",
       "      <td>young admiral pie 300g</td>\n",
       "    </tr>\n",
       "    <tr>\n",
       "      <th>4307</th>\n",
       "      <td>3819</td>\n",
       "      <td>yp pea spinach soup 600g</td>\n",
       "      <td>yp pea spinach soup 600g</td>\n",
       "    </tr>\n",
       "    <tr>\n",
       "      <th>4308</th>\n",
       "      <td>3820</td>\n",
       "      <td>zoflora 3in1 disinfectant 120ml</td>\n",
       "      <td>zoflora 3in1 disinfectant 120ml</td>\n",
       "    </tr>\n",
       "    <tr>\n",
       "      <th>4309</th>\n",
       "      <td>3821</td>\n",
       "      <td>zyweic 4 pack</td>\n",
       "      <td>zyweic 4 pack</td>\n",
       "    </tr>\n",
       "    <tr>\n",
       "      <th>4310</th>\n",
       "      <td>3822</td>\n",
       "      <td>zywiec 1856 polish 4x500ml</td>\n",
       "      <td>zywiec 1856 polish 4x500ml</td>\n",
       "    </tr>\n",
       "  </tbody>\n",
       "</table>\n",
       "<p>4311 rows × 3 columns</p>\n",
       "</div>"
      ],
      "text/plain": [
       "     group_id                                             leader  \\\n",
       "0           0                                  1.5 lt chardolini   \n",
       "1           2                             100 g buttery flapjack   \n",
       "2           3                                   10pk carling can   \n",
       "3           4  12 inch hot chicago town stuffed crust pizza p...   \n",
       "4           5                                 12 pizza meal deal   \n",
       "...       ...                                                ...   \n",
       "4306     3818                             young admiral pie 300g   \n",
       "4307     3819                           yp pea spinach soup 600g   \n",
       "4308     3820                    zoflora 3in1 disinfectant 120ml   \n",
       "4309     3821                                      zyweic 4 pack   \n",
       "4310     3822                         zywiec 1856 polish 4x500ml   \n",
       "\n",
       "                                                 member  \n",
       "0                                     1.5 lt chardolini  \n",
       "1                                100 g buttery flapjack  \n",
       "2                                      10pk carling can  \n",
       "3     12 inch hot chicago town stuffed crust pizza p...  \n",
       "4                                    12 pizza meal deal  \n",
       "...                                                 ...  \n",
       "4306                             young admiral pie 300g  \n",
       "4307                           yp pea spinach soup 600g  \n",
       "4308                    zoflora 3in1 disinfectant 120ml  \n",
       "4309                                      zyweic 4 pack  \n",
       "4310                         zywiec 1856 polish 4x500ml  \n",
       "\n",
       "[4311 rows x 3 columns]"
      ]
     },
     "execution_count": 70,
     "metadata": {},
     "output_type": "execute_result"
    }
   ],
   "source": [
    "groups_df"
   ]
  },
  {
   "cell_type": "code",
   "execution_count": 71,
   "id": "9ef9b7b3",
   "metadata": {},
   "outputs": [],
   "source": [
    "groups_df.to_csv('product_groups_{}.csv'.format(threshold_), index=False)"
   ]
  },
  {
   "cell_type": "markdown",
   "id": "faf97b5f",
   "metadata": {},
   "source": [
    "### Example"
   ]
  },
  {
   "cell_type": "markdown",
   "id": "382bb5be",
   "metadata": {},
   "source": [
    "#### First product"
   ]
  },
  {
   "cell_type": "code",
   "execution_count": 72,
   "id": "1c728798",
   "metadata": {},
   "outputs": [],
   "source": [
    "product_ = products_list[54]\n",
    "temp = group_selection(merged_df, product_)\n",
    "# 6.2 Group cleaning --> package similarity (edge case: when products don't specify package)\n",
    "temp_clean = clean_group(temp, reg_package, threshold_=85)\n",
    "# 6.3 Get all the products in the applicant group\n",
    "group_products_list = list(pd.unique(temp_clean[['product_name', 'candidate']].values.ravel('K')))\n",
    "# 6.4 Integrate the group to global groups df\n",
    "concat_df = create_product_df(groups_df, product_, group_products_list)\n",
    "groups_df = pd.concat([groups_df, concat_df], axis=0).reset_index(drop=True)\n",
    "# 6.5 Integrate the group to track members df\n",
    "df_temp = create_track_temp_df(track_df, group_products_list)\n",
    "track_df = pd.concat([track_df, df_temp], axis=0).reset_index(drop=True)"
   ]
  },
  {
   "cell_type": "markdown",
   "id": "5c99b318",
   "metadata": {},
   "source": [
    "### 6.5 Second product"
   ]
  },
  {
   "cell_type": "code",
   "execution_count": 73,
   "id": "f181da28",
   "metadata": {},
   "outputs": [],
   "source": [
    "product_2 = products_list[56]\n",
    "temp2 = group_selection(merged_df, product_2)\n",
    "temp2_clean = clean_group(temp2, reg_package, threshold_=85)\n",
    "applicants_list2 = list(pd.unique(temp2_clean[['product_name', 'candidate']].values.ravel('K')))"
   ]
  },
  {
   "cell_type": "code",
   "execution_count": 74,
   "id": "676358ad",
   "metadata": {},
   "outputs": [],
   "source": [
    "groups_df, track_df = group_concat_procedure(groups_df, track_df, product_2, applicants_list)"
   ]
  },
  {
   "cell_type": "code",
   "execution_count": null,
   "id": "f9b4756b",
   "metadata": {},
   "outputs": [],
   "source": []
  },
  {
   "cell_type": "code",
   "execution_count": null,
   "id": "bf2e38d2",
   "metadata": {},
   "outputs": [],
   "source": []
  },
  {
   "cell_type": "code",
   "execution_count": null,
   "id": "0469c1b9",
   "metadata": {},
   "outputs": [],
   "source": []
  },
  {
   "cell_type": "code",
   "execution_count": null,
   "id": "d3806e28",
   "metadata": {},
   "outputs": [],
   "source": []
  }
 ],
 "metadata": {
  "kernelspec": {
   "display_name": "Python 3 (ipykernel)",
   "language": "python",
   "name": "python3"
  },
  "language_info": {
   "codemirror_mode": {
    "name": "ipython",
    "version": 3
   },
   "file_extension": ".py",
   "mimetype": "text/x-python",
   "name": "python",
   "nbconvert_exporter": "python",
   "pygments_lexer": "ipython3",
   "version": "3.9.13"
  }
 },
 "nbformat": 4,
 "nbformat_minor": 5
}
