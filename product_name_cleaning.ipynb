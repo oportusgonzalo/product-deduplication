{
 "cells": [
  {
   "cell_type": "code",
   "execution_count": 317,
   "id": "1ee9d786",
   "metadata": {},
   "outputs": [],
   "source": [
    "import pandas as pd\n",
    "import numpy as np\n",
    "import re\n",
    "import Levenshtein as lev\n",
    "from fuzzywuzzy import fuzz\n",
    "import time\n",
    "import sys\n",
    "\n",
    "from static import *\n",
    "\n",
    "# To calculate: TF-IDF & Cosine Similarity\n",
    "from sklearn.feature_extraction.text import TfidfVectorizer\n",
    "from scipy.sparse import csr_matrix\n",
    "import sparse_dot_topn.sparse_dot_topn as ct\n",
    "\n",
    "import warnings\n",
    "warnings.filterwarnings(\"ignore\")"
   ]
  },
  {
   "cell_type": "code",
   "execution_count": 318,
   "id": "629467ca",
   "metadata": {},
   "outputs": [],
   "source": [
    "# useful functions import\n",
    "from static import *"
   ]
  },
  {
   "cell_type": "code",
   "execution_count": 319,
   "id": "25d5e6b9",
   "metadata": {},
   "outputs": [
    {
     "name": "stderr",
     "output_type": "stream",
     "text": [
      "[nltk_data] Downloading package stopwords to\n",
      "[nltk_data]     /Users/gonzalooportus/nltk_data...\n",
      "[nltk_data]   Package stopwords is already up-to-date!\n"
     ]
    }
   ],
   "source": [
    "import nltk.corpus\n",
    "nltk.download('stopwords')\n",
    "from nltk.corpus import stopwords"
   ]
  },
  {
   "cell_type": "markdown",
   "id": "05930792",
   "metadata": {},
   "source": [
    "# CODE"
   ]
  },
  {
   "cell_type": "code",
   "execution_count": 320,
   "id": "2870cf77",
   "metadata": {},
   "outputs": [],
   "source": [
    "# Initial time\n",
    "t_initial = time.time()"
   ]
  },
  {
   "cell_type": "markdown",
   "id": "d9c721dc",
   "metadata": {},
   "source": [
    "## 1. Pre-processing"
   ]
  },
  {
   "cell_type": "code",
   "execution_count": 321,
   "id": "c903970f",
   "metadata": {},
   "outputs": [],
   "source": [
    "# parameters definition\n",
    "country = 'cr'\n",
    "parent_chain = 'booker' # lower case and \"clean\"\n",
    "parent_chain_column = 'parent_chain_name'\n",
    "item_column = 'sku_name'\n",
    "language_ = 'es'\n",
    "threshold_products = 85\n",
    "threshold_package = 75\n",
    "parent_chain_use = False"
   ]
  },
  {
   "cell_type": "code",
   "execution_count": 322,
   "id": "02bcc9ec",
   "metadata": {},
   "outputs": [],
   "source": [
    "# reading raw data\n",
    "data = pd.read_csv('data/CR_products.csv')"
   ]
  },
  {
   "cell_type": "code",
   "execution_count": 323,
   "id": "6dad2377",
   "metadata": {},
   "outputs": [],
   "source": [
    "if parent_chain_use:\n",
    "    # cleaning parent chain name as it has duplicated entries\n",
    "    df = clean_text(data, parent_chain_column, '{}_{}'.format(parent_chain_column, 'norm'))\n",
    "    # chain selection and columns to work on\n",
    "    df_nlp = df[df['parent_chain_name_norm'] == parent_chain]\n",
    "    df_nlp = df_nlp.loc[:, ['parent_chain_name_norm', item_column]].reset_index(drop=True)\n",
    "else:\n",
    "    df_nlp = data.loc[:, [item_column]].drop_duplicates().reset_index(drop=True)"
   ]
  },
  {
   "cell_type": "code",
   "execution_count": 324,
   "id": "3bd1a9ec",
   "metadata": {},
   "outputs": [],
   "source": [
    "# item name standardization\n",
    "df_nlp.rename(columns={'sku_name': 'item_name'}, inplace=True)"
   ]
  },
  {
   "cell_type": "code",
   "execution_count": 325,
   "id": "baee2ac8",
   "metadata": {},
   "outputs": [
    {
     "name": "stdout",
     "output_type": "stream",
     "text": [
      "Initial products: 2782\n"
     ]
    }
   ],
   "source": [
    "print(f\"Initial products: {len(list(set(df_nlp['item_name'].unique())))}\")"
   ]
  },
  {
   "cell_type": "markdown",
   "id": "63524601",
   "metadata": {},
   "source": [
    "## 2. NLP Aplication"
   ]
  },
  {
   "cell_type": "code",
   "execution_count": 326,
   "id": "185780a4",
   "metadata": {},
   "outputs": [],
   "source": [
    "if language_ == 'en':\n",
    "    stop_words = stopwords.words('english')\n",
    "elif language_ == 'es':\n",
    "    stop_words = stopwords.words('spanish')"
   ]
  },
  {
   "cell_type": "code",
   "execution_count": 327,
   "id": "66abde9c",
   "metadata": {},
   "outputs": [],
   "source": [
    "regex_clean = r'(pm \\d+\\w+)|(pm \\d+\\.\\d+)|(pm\\d+\\.\\d+)|(\\d+ pmp)|(pm\\d+)|( \\.+)|(pmp\\d+.\\d+)|(\\d+pmp)|(pmp \\d+)|(\\d+.\\d+ pm)'\n"
   ]
  },
  {
   "cell_type": "code",
   "execution_count": 328,
   "id": "5f179847",
   "metadata": {},
   "outputs": [],
   "source": [
    "df_nlp = nlp_cleaning(df_nlp, stop_words, regex_clean)"
   ]
  },
  {
   "cell_type": "code",
   "execution_count": 329,
   "id": "b3faa349",
   "metadata": {},
   "outputs": [
    {
     "name": "stdout",
     "output_type": "stream",
     "text": [
      "Percentage of unique products after NLP: 0.458\n"
     ]
    }
   ],
   "source": [
    "print(f'Percentage of unique products after NLP: {round(len(df_nlp.product_name.unique())/len(df_nlp.item_name.unique()), 3)}')"
   ]
  },
  {
   "cell_type": "code",
   "execution_count": 330,
   "id": "69989f5d",
   "metadata": {},
   "outputs": [
    {
     "data": {
      "text/html": [
       "<div>\n",
       "<style scoped>\n",
       "    .dataframe tbody tr th:only-of-type {\n",
       "        vertical-align: middle;\n",
       "    }\n",
       "\n",
       "    .dataframe tbody tr th {\n",
       "        vertical-align: top;\n",
       "    }\n",
       "\n",
       "    .dataframe thead th {\n",
       "        text-align: right;\n",
       "    }\n",
       "</style>\n",
       "<table border=\"1\" class=\"dataframe\">\n",
       "  <thead>\n",
       "    <tr style=\"text-align: right;\">\n",
       "      <th></th>\n",
       "      <th>item_name</th>\n",
       "      <th>item_name_norm</th>\n",
       "      <th>item_name_norm_stop</th>\n",
       "      <th>item_name_token</th>\n",
       "      <th>item_name_token_lemma</th>\n",
       "      <th>product_name</th>\n",
       "    </tr>\n",
       "  </thead>\n",
       "  <tbody>\n",
       "    <tr>\n",
       "      <th>0</th>\n",
       "      <td>Chocolate Guayabita Gallito 35 g 0293</td>\n",
       "      <td>chocolate guayabita gallito 35 g 0293</td>\n",
       "      <td>chocolate guayabita gallito 35 g 0293</td>\n",
       "      <td>[chocolate, guayabita, gallito, 35, g, 0293]</td>\n",
       "      <td>[chocolate, guayabita, gallito, 35, g, 0293]</td>\n",
       "      <td>chocolate guayabita gallito 35 g 0293</td>\n",
       "    </tr>\n",
       "    <tr>\n",
       "      <th>1</th>\n",
       "      <td>2 Dos Pinos Trits Pie Limón 100 g 25% Desc</td>\n",
       "      <td>2 dos pinos trits pie limn 100 g 25% desc</td>\n",
       "      <td>2 dos pinos trits pie limn 100 g 25% desc</td>\n",
       "      <td>[2, dos, pinos, trits, pie, limn, 100, g, 25, ...</td>\n",
       "      <td>[2, do, pinos, trits, pie, limn, 100, g, 25, %...</td>\n",
       "      <td>2 do pinos trits pie limn 100 g 25 % desc</td>\n",
       "    </tr>\n",
       "  </tbody>\n",
       "</table>\n",
       "</div>"
      ],
      "text/plain": [
       "                                      item_name  \\\n",
       "0         Chocolate Guayabita Gallito 35 g 0293   \n",
       "1  2 Dos Pinos Trits Pie Limón 100 g 25% Desc     \n",
       "\n",
       "                              item_name_norm  \\\n",
       "0      chocolate guayabita gallito 35 g 0293   \n",
       "1  2 dos pinos trits pie limn 100 g 25% desc   \n",
       "\n",
       "                         item_name_norm_stop  \\\n",
       "0      chocolate guayabita gallito 35 g 0293   \n",
       "1  2 dos pinos trits pie limn 100 g 25% desc   \n",
       "\n",
       "                                     item_name_token  \\\n",
       "0       [chocolate, guayabita, gallito, 35, g, 0293]   \n",
       "1  [2, dos, pinos, trits, pie, limn, 100, g, 25, ...   \n",
       "\n",
       "                               item_name_token_lemma  \\\n",
       "0       [chocolate, guayabita, gallito, 35, g, 0293]   \n",
       "1  [2, do, pinos, trits, pie, limn, 100, g, 25, %...   \n",
       "\n",
       "                                product_name  \n",
       "0      chocolate guayabita gallito 35 g 0293  \n",
       "1  2 do pinos trits pie limn 100 g 25 % desc  "
      ]
     },
     "execution_count": 330,
     "metadata": {},
     "output_type": "execute_result"
    }
   ],
   "source": [
    "df_nlp[:2]"
   ]
  },
  {
   "cell_type": "markdown",
   "id": "6293c892",
   "metadata": {},
   "source": [
    "### Creating mapping between source item_name & product_name (post NLP)"
   ]
  },
  {
   "cell_type": "code",
   "execution_count": 331,
   "id": "e7fcbf6a",
   "metadata": {},
   "outputs": [],
   "source": [
    "df_back_propagation = df_nlp.loc[:, ['item_name', 'product_name']]"
   ]
  },
  {
   "cell_type": "code",
   "execution_count": 332,
   "id": "06831268",
   "metadata": {},
   "outputs": [],
   "source": [
    "df_back_propagation.to_csv(f'back_propagation/groups_{country}_back_propagation.csv', index=False)"
   ]
  },
  {
   "cell_type": "markdown",
   "id": "6b7da2e5",
   "metadata": {},
   "source": [
    "## 3. TF-IDF Application"
   ]
  },
  {
   "cell_type": "markdown",
   "id": "7ee8f7b7",
   "metadata": {},
   "source": [
    "### Creating a tf-idf matrix"
   ]
  },
  {
   "cell_type": "code",
   "execution_count": 333,
   "id": "787d905e",
   "metadata": {},
   "outputs": [],
   "source": [
    "# preparing set for TF-IDF\n",
    "df_tf = df_nlp.loc[:, ['product_name']]\n",
    "df_tf = df_tf.drop_duplicates().reset_index(drop=True)\n",
    "df_tf['id'] = range(1, len(df_tf) + 1)"
   ]
  },
  {
   "cell_type": "markdown",
   "id": "a3b50386",
   "metadata": {},
   "source": [
    "### Applying method"
   ]
  },
  {
   "cell_type": "code",
   "execution_count": 334,
   "id": "2c9bb307",
   "metadata": {},
   "outputs": [],
   "source": [
    "# create object\n",
    "tfidf_vectorizer = TfidfVectorizer(ngram_range=(1,2), max_df=0.9, min_df=2, token_pattern='(\\S+)')"
   ]
  },
  {
   "cell_type": "code",
   "execution_count": 335,
   "id": "f53866e7",
   "metadata": {},
   "outputs": [],
   "source": [
    "# get tf-idf values\n",
    "tf_idf_matrix = tfidf_vectorizer.fit_transform(df_tf['product_name'])"
   ]
  },
  {
   "cell_type": "code",
   "execution_count": 336,
   "id": "a5ca3581",
   "metadata": {},
   "outputs": [
    {
     "data": {
      "text/plain": [
       "(1273, 2026)"
      ]
     },
     "execution_count": 336,
     "metadata": {},
     "output_type": "execute_result"
    }
   ],
   "source": [
    "tf_idf_matrix.shape"
   ]
  },
  {
   "cell_type": "markdown",
   "id": "4862f4f9",
   "metadata": {},
   "source": [
    "## 4. Computing cosine similarity"
   ]
  },
  {
   "cell_type": "code",
   "execution_count": 337,
   "id": "33bddfd8",
   "metadata": {},
   "outputs": [],
   "source": [
    "matches = cosine_similarity(tf_idf_matrix, tf_idf_matrix.transpose(), 25, 0)"
   ]
  },
  {
   "cell_type": "code",
   "execution_count": 338,
   "id": "d4da2f78",
   "metadata": {},
   "outputs": [
    {
     "data": {
      "text/plain": [
       "(1273, 1273)"
      ]
     },
     "execution_count": 338,
     "metadata": {},
     "output_type": "execute_result"
    }
   ],
   "source": [
    "matches.shape"
   ]
  },
  {
   "cell_type": "markdown",
   "id": "3c784f93",
   "metadata": {},
   "source": [
    "### Create a match table to show the similarity scores"
   ]
  },
  {
   "cell_type": "code",
   "execution_count": 339,
   "id": "92fb059b",
   "metadata": {},
   "outputs": [],
   "source": [
    "matches_df = pd.DataFrame()\n",
    "matches_df = get_matches_df(matches, df_tf['product_name'], top=False)"
   ]
  },
  {
   "cell_type": "code",
   "execution_count": 340,
   "id": "8f378ed7",
   "metadata": {},
   "outputs": [],
   "source": [
    "matches_df = matches_df.drop_duplicates().reset_index(drop=True)"
   ]
  },
  {
   "cell_type": "code",
   "execution_count": 341,
   "id": "a794090f",
   "metadata": {},
   "outputs": [
    {
     "data": {
      "text/plain": [
       "(1273, 1273)"
      ]
     },
     "execution_count": 341,
     "metadata": {},
     "output_type": "execute_result"
    }
   ],
   "source": [
    "matches.shape"
   ]
  },
  {
   "cell_type": "code",
   "execution_count": 342,
   "id": "994c565f",
   "metadata": {},
   "outputs": [
    {
     "data": {
      "text/html": [
       "<div>\n",
       "<style scoped>\n",
       "    .dataframe tbody tr th:only-of-type {\n",
       "        vertical-align: middle;\n",
       "    }\n",
       "\n",
       "    .dataframe tbody tr th {\n",
       "        vertical-align: top;\n",
       "    }\n",
       "\n",
       "    .dataframe thead th {\n",
       "        text-align: right;\n",
       "    }\n",
       "</style>\n",
       "<table border=\"1\" class=\"dataframe\">\n",
       "  <thead>\n",
       "    <tr style=\"text-align: right;\">\n",
       "      <th></th>\n",
       "      <th>product_name</th>\n",
       "      <th>match</th>\n",
       "      <th>similarity_score</th>\n",
       "    </tr>\n",
       "  </thead>\n",
       "  <tbody>\n",
       "    <tr>\n",
       "      <th>0</th>\n",
       "      <td>chocolate guayabita gallito 35 g 0293</td>\n",
       "      <td>chocolate guayabita gallito 35 g 0293</td>\n",
       "      <td>1.000000</td>\n",
       "    </tr>\n",
       "    <tr>\n",
       "      <th>1</th>\n",
       "      <td>chocolate guayabita gallito 35 g 0293</td>\n",
       "      <td>chocolate guayabita gallito 35 g 0293 1</td>\n",
       "      <td>0.981587</td>\n",
       "    </tr>\n",
       "    <tr>\n",
       "      <th>2</th>\n",
       "      <td>chocolate guayabita gallito 35 g 0293</td>\n",
       "      <td>3 gallito chocolate guayabita 35 g 33 % desc</td>\n",
       "      <td>0.394446</td>\n",
       "    </tr>\n",
       "    <tr>\n",
       "      <th>3</th>\n",
       "      <td>chocolate guayabita gallito 35 g 0293</td>\n",
       "      <td>chocolate guayabita gallito 117 g 0263</td>\n",
       "      <td>0.372202</td>\n",
       "    </tr>\n",
       "    <tr>\n",
       "      <th>4</th>\n",
       "      <td>chocolate guayabita gallito 35 g 0293</td>\n",
       "      <td>chocolate guayabita gallito 117 g 0263 5</td>\n",
       "      <td>0.359773</td>\n",
       "    </tr>\n",
       "  </tbody>\n",
       "</table>\n",
       "</div>"
      ],
      "text/plain": [
       "                            product_name  \\\n",
       "0  chocolate guayabita gallito 35 g 0293   \n",
       "1  chocolate guayabita gallito 35 g 0293   \n",
       "2  chocolate guayabita gallito 35 g 0293   \n",
       "3  chocolate guayabita gallito 35 g 0293   \n",
       "4  chocolate guayabita gallito 35 g 0293   \n",
       "\n",
       "                                          match  similarity_score  \n",
       "0         chocolate guayabita gallito 35 g 0293          1.000000  \n",
       "1       chocolate guayabita gallito 35 g 0293 1          0.981587  \n",
       "2  3 gallito chocolate guayabita 35 g 33 % desc          0.394446  \n",
       "3        chocolate guayabita gallito 117 g 0263          0.372202  \n",
       "4      chocolate guayabita gallito 117 g 0263 5          0.359773  "
      ]
     },
     "execution_count": 342,
     "metadata": {},
     "output_type": "execute_result"
    }
   ],
   "source": [
    "matches_df.head()"
   ]
  },
  {
   "cell_type": "markdown",
   "id": "beaf6136",
   "metadata": {},
   "source": [
    "### Products without a match"
   ]
  },
  {
   "cell_type": "code",
   "execution_count": 343,
   "id": "b844e753",
   "metadata": {},
   "outputs": [],
   "source": [
    "prod_list = list(df_tf.product_name.unique())\n",
    "match_list = list(pd.unique(matches_df[['product_name', 'match']].values.ravel('K')))"
   ]
  },
  {
   "cell_type": "code",
   "execution_count": 344,
   "id": "61a88414",
   "metadata": {},
   "outputs": [],
   "source": [
    "not_match = []\n",
    "for prod_ in prod_list:\n",
    "    if prod_ not in match_list:\n",
    "        not_match.append(prod_)"
   ]
  },
  {
   "cell_type": "code",
   "execution_count": 345,
   "id": "148450f0",
   "metadata": {},
   "outputs": [
    {
     "name": "stdout",
     "output_type": "stream",
     "text": [
      "Number of products without match: 0\n",
      "Percentage of products without match: 0.0\n"
     ]
    }
   ],
   "source": [
    "print(f'Number of products without match: {len(not_match)}')\n",
    "print(f'Percentage of products without match: {round(len(not_match)/len(prod_list), 6)}')"
   ]
  },
  {
   "cell_type": "markdown",
   "id": "6a1da8db",
   "metadata": {},
   "source": [
    "### Who are they?"
   ]
  },
  {
   "cell_type": "code",
   "execution_count": 346,
   "id": "e542cd97",
   "metadata": {},
   "outputs": [
    {
     "data": {
      "text/plain": [
       "[]"
      ]
     },
     "execution_count": 346,
     "metadata": {},
     "output_type": "execute_result"
    }
   ],
   "source": [
    "not_match[:4]"
   ]
  },
  {
   "cell_type": "markdown",
   "id": "eb597e41",
   "metadata": {},
   "source": [
    "## 5. Grouping products"
   ]
  },
  {
   "cell_type": "markdown",
   "id": "88d37335",
   "metadata": {},
   "source": [
    "### 5.1 Fuzzy ratios calculation"
   ]
  },
  {
   "cell_type": "code",
   "execution_count": 347,
   "id": "72588a1d",
   "metadata": {},
   "outputs": [],
   "source": [
    "matches_df['fuzz_ratio'] = matches_df.apply(lambda x: fuzz.token_sort_ratio(x['product_name'], x['match']), axis=1)"
   ]
  },
  {
   "cell_type": "code",
   "execution_count": 348,
   "id": "292d387a",
   "metadata": {},
   "outputs": [
    {
     "data": {
      "text/html": [
       "<div>\n",
       "<style scoped>\n",
       "    .dataframe tbody tr th:only-of-type {\n",
       "        vertical-align: middle;\n",
       "    }\n",
       "\n",
       "    .dataframe tbody tr th {\n",
       "        vertical-align: top;\n",
       "    }\n",
       "\n",
       "    .dataframe thead th {\n",
       "        text-align: right;\n",
       "    }\n",
       "</style>\n",
       "<table border=\"1\" class=\"dataframe\">\n",
       "  <thead>\n",
       "    <tr style=\"text-align: right;\">\n",
       "      <th></th>\n",
       "      <th>product_name</th>\n",
       "      <th>match</th>\n",
       "      <th>similarity_score</th>\n",
       "      <th>fuzz_ratio</th>\n",
       "    </tr>\n",
       "  </thead>\n",
       "  <tbody>\n",
       "    <tr>\n",
       "      <th>0</th>\n",
       "      <td>chocolate guayabita gallito 35 g 0293</td>\n",
       "      <td>chocolate guayabita gallito 35 g 0293</td>\n",
       "      <td>1.000000</td>\n",
       "      <td>100</td>\n",
       "    </tr>\n",
       "    <tr>\n",
       "      <th>1</th>\n",
       "      <td>chocolate guayabita gallito 35 g 0293</td>\n",
       "      <td>chocolate guayabita gallito 35 g 0293 1</td>\n",
       "      <td>0.981587</td>\n",
       "      <td>97</td>\n",
       "    </tr>\n",
       "    <tr>\n",
       "      <th>2</th>\n",
       "      <td>chocolate guayabita gallito 35 g 0293</td>\n",
       "      <td>3 gallito chocolate guayabita 35 g 33 % desc</td>\n",
       "      <td>0.394446</td>\n",
       "      <td>86</td>\n",
       "    </tr>\n",
       "    <tr>\n",
       "      <th>3</th>\n",
       "      <td>chocolate guayabita gallito 35 g 0293</td>\n",
       "      <td>chocolate guayabita gallito 117 g 0263</td>\n",
       "      <td>0.372202</td>\n",
       "      <td>91</td>\n",
       "    </tr>\n",
       "    <tr>\n",
       "      <th>4</th>\n",
       "      <td>chocolate guayabita gallito 35 g 0293</td>\n",
       "      <td>chocolate guayabita gallito 117 g 0263 5</td>\n",
       "      <td>0.359773</td>\n",
       "      <td>91</td>\n",
       "    </tr>\n",
       "  </tbody>\n",
       "</table>\n",
       "</div>"
      ],
      "text/plain": [
       "                            product_name  \\\n",
       "0  chocolate guayabita gallito 35 g 0293   \n",
       "1  chocolate guayabita gallito 35 g 0293   \n",
       "2  chocolate guayabita gallito 35 g 0293   \n",
       "3  chocolate guayabita gallito 35 g 0293   \n",
       "4  chocolate guayabita gallito 35 g 0293   \n",
       "\n",
       "                                          match  similarity_score  fuzz_ratio  \n",
       "0         chocolate guayabita gallito 35 g 0293          1.000000         100  \n",
       "1       chocolate guayabita gallito 35 g 0293 1          0.981587          97  \n",
       "2  3 gallito chocolate guayabita 35 g 33 % desc          0.394446          86  \n",
       "3        chocolate guayabita gallito 117 g 0263          0.372202          91  \n",
       "4      chocolate guayabita gallito 117 g 0263 5          0.359773          91  "
      ]
     },
     "execution_count": 348,
     "metadata": {},
     "output_type": "execute_result"
    }
   ],
   "source": [
    "matches_df.head()"
   ]
  },
  {
   "cell_type": "markdown",
   "id": "29f46ebc",
   "metadata": {},
   "source": [
    "### 5.2 Keeping products with high similarity"
   ]
  },
  {
   "cell_type": "code",
   "execution_count": 349,
   "id": "5cdc99aa",
   "metadata": {},
   "outputs": [
    {
     "name": "stdout",
     "output_type": "stream",
     "text": [
      "Product Threshold: 85\n"
     ]
    }
   ],
   "source": [
    "print(f'Product Threshold: {threshold_products}')"
   ]
  },
  {
   "cell_type": "code",
   "execution_count": 350,
   "id": "aa7c5e64",
   "metadata": {},
   "outputs": [],
   "source": [
    "df_similars = matches_df[matches_df['fuzz_ratio'] >= threshold_products].\\\n",
    "                        drop_duplicates(subset=['product_name', 'match']).reset_index(drop=True)"
   ]
  },
  {
   "cell_type": "markdown",
   "id": "fc76a450",
   "metadata": {},
   "source": [
    "### 5.3 Logic to aggregate"
   ]
  },
  {
   "cell_type": "code",
   "execution_count": 351,
   "id": "b4ecedd7",
   "metadata": {},
   "outputs": [],
   "source": [
    "df_similars = df_similars.sort_values(by=['product_name', 'match']).reset_index(drop=True)"
   ]
  },
  {
   "cell_type": "markdown",
   "id": "4c2441b4",
   "metadata": {},
   "source": [
    "### a) Extending similarities"
   ]
  },
  {
   "cell_type": "code",
   "execution_count": 353,
   "id": "4716273a",
   "metadata": {},
   "outputs": [],
   "source": [
    "df_similars_copy = df_similars.drop(columns=['similarity_score', 'fuzz_ratio'], axis=1).copy()"
   ]
  },
  {
   "cell_type": "code",
   "execution_count": 354,
   "id": "be143efc",
   "metadata": {},
   "outputs": [],
   "source": [
    "df_similars_copy.rename(columns={'match': 'extended_match', 'product_name': 'match'}, inplace=True)"
   ]
  },
  {
   "cell_type": "code",
   "execution_count": 355,
   "id": "161b0e8c",
   "metadata": {},
   "outputs": [],
   "source": [
    "# extending\n",
    "df_similars_mrg = df_similars.merge(df_similars_copy, how='inner', on='match')"
   ]
  },
  {
   "cell_type": "code",
   "execution_count": 357,
   "id": "c184609b",
   "metadata": {},
   "outputs": [],
   "source": [
    "df_similars_mrg.drop('similarity_score', axis=1, inplace=True)"
   ]
  },
  {
   "cell_type": "code",
   "execution_count": 358,
   "id": "a83aa0c0",
   "metadata": {},
   "outputs": [],
   "source": [
    "# melt dataframe\n",
    "df_melt = df_similars_mrg.melt(id_vars=['product_name', 'fuzz_ratio'], var_name='which_match', value_name='candidate')"
   ]
  },
  {
   "cell_type": "code",
   "execution_count": 359,
   "id": "f01c61b9",
   "metadata": {},
   "outputs": [],
   "source": [
    "df_melt = df_melt.drop('which_match', axis=1)[['product_name', 'candidate', 'fuzz_ratio']]"
   ]
  },
  {
   "cell_type": "code",
   "execution_count": 360,
   "id": "c7f82911",
   "metadata": {},
   "outputs": [],
   "source": [
    "df_similars_ext = df_melt.drop_duplicates(['product_name', 'candidate']).sort_values(by=['product_name', 'candidate'])\\\n",
    "            .reset_index(drop=True)\n"
   ]
  },
  {
   "cell_type": "code",
   "execution_count": 361,
   "id": "47b1c68a",
   "metadata": {},
   "outputs": [
    {
     "data": {
      "text/html": [
       "<div>\n",
       "<style scoped>\n",
       "    .dataframe tbody tr th:only-of-type {\n",
       "        vertical-align: middle;\n",
       "    }\n",
       "\n",
       "    .dataframe tbody tr th {\n",
       "        vertical-align: top;\n",
       "    }\n",
       "\n",
       "    .dataframe thead th {\n",
       "        text-align: right;\n",
       "    }\n",
       "</style>\n",
       "<table border=\"1\" class=\"dataframe\">\n",
       "  <thead>\n",
       "    <tr style=\"text-align: right;\">\n",
       "      <th></th>\n",
       "      <th>product_name</th>\n",
       "      <th>candidate</th>\n",
       "      <th>fuzz_ratio</th>\n",
       "    </tr>\n",
       "  </thead>\n",
       "  <tbody>\n",
       "    <tr>\n",
       "      <th>0</th>\n",
       "      <td>1 do pinos helado combinado 1 tosty mix snack ...</td>\n",
       "      <td>1 do pinos helado combinado 1 tosty mix snack ...</td>\n",
       "      <td>100</td>\n",
       "    </tr>\n",
       "    <tr>\n",
       "      <th>1</th>\n",
       "      <td>1 do pinos helado combinado 1 tosty mix snack ...</td>\n",
       "      <td>1 do pinos helado combinado 1 tosty mix snack ...</td>\n",
       "      <td>90</td>\n",
       "    </tr>\n",
       "    <tr>\n",
       "      <th>2</th>\n",
       "      <td>1 do pinos helado combinado 1 tosty mix snack ...</td>\n",
       "      <td>1 do pinos helado combinado 1 tosty mix snack ...</td>\n",
       "      <td>90</td>\n",
       "    </tr>\n",
       "    <tr>\n",
       "      <th>3</th>\n",
       "      <td>1 do pinos helado combinado 1 tosty mix snack ...</td>\n",
       "      <td>1 do pinos helado combinado 1 tosty mix snack ...</td>\n",
       "      <td>100</td>\n",
       "    </tr>\n",
       "    <tr>\n",
       "      <th>4</th>\n",
       "      <td>1 helado combinado do pinos 14 gl 499 grs1 pas...</td>\n",
       "      <td>1 helado combinado do pinos 14 gl 499 grs1 pas...</td>\n",
       "      <td>100</td>\n",
       "    </tr>\n",
       "  </tbody>\n",
       "</table>\n",
       "</div>"
      ],
      "text/plain": [
       "                                        product_name  \\\n",
       "0  1 do pinos helado combinado 1 tosty mix snack ...   \n",
       "1  1 do pinos helado combinado 1 tosty mix snack ...   \n",
       "2  1 do pinos helado combinado 1 tosty mix snack ...   \n",
       "3  1 do pinos helado combinado 1 tosty mix snack ...   \n",
       "4  1 helado combinado do pinos 14 gl 499 grs1 pas...   \n",
       "\n",
       "                                           candidate  fuzz_ratio  \n",
       "0  1 do pinos helado combinado 1 tosty mix snack ...         100  \n",
       "1  1 do pinos helado combinado 1 tosty mix snack ...          90  \n",
       "2  1 do pinos helado combinado 1 tosty mix snack ...          90  \n",
       "3  1 do pinos helado combinado 1 tosty mix snack ...         100  \n",
       "4  1 helado combinado do pinos 14 gl 499 grs1 pas...         100  "
      ]
     },
     "execution_count": 361,
     "metadata": {},
     "output_type": "execute_result"
    }
   ],
   "source": [
    "df_similars_ext.head()"
   ]
  },
  {
   "cell_type": "markdown",
   "id": "4a56e4d3",
   "metadata": {},
   "source": [
    "### b) Package similarity"
   ]
  },
  {
   "cell_type": "code",
   "execution_count": 362,
   "id": "16355439",
   "metadata": {},
   "outputs": [],
   "source": [
    "reg_package = r'(\\d+x\\d+\\w+)|(\\d+ x \\d+\\w+)|(\\d+\\.+\\d+\\w+)|(\\d+\\.+\\d+ \\w+)|(\\d+ ml)|(\\d+ g)|(\\d+\\w+)|(\\d+ \\w+)'"
   ]
  },
  {
   "cell_type": "code",
   "execution_count": 363,
   "id": "53c3dbe7",
   "metadata": {},
   "outputs": [],
   "source": [
    "# extracting package\n",
    "df_similars_ext['package'] = package_extract(df_similars_ext, 'product_name', reg_package)\n",
    "df_similars_ext['package_candidate'] = package_extract(df_similars_ext, 'candidate', reg_package)"
   ]
  },
  {
   "cell_type": "code",
   "execution_count": 364,
   "id": "7cb61bf6",
   "metadata": {},
   "outputs": [],
   "source": [
    "# package similarity\n",
    "df_similars_ext['package_ratio'] = df_similars_ext.apply(lambda x: fuzz.token_sort_ratio(x['package'],\\\n",
    "                                                                                x['package_candidate']), axis=1)"
   ]
  },
  {
   "cell_type": "code",
   "execution_count": 365,
   "id": "9da2b571",
   "metadata": {},
   "outputs": [
    {
     "data": {
      "text/html": [
       "<div>\n",
       "<style scoped>\n",
       "    .dataframe tbody tr th:only-of-type {\n",
       "        vertical-align: middle;\n",
       "    }\n",
       "\n",
       "    .dataframe tbody tr th {\n",
       "        vertical-align: top;\n",
       "    }\n",
       "\n",
       "    .dataframe thead th {\n",
       "        text-align: right;\n",
       "    }\n",
       "</style>\n",
       "<table border=\"1\" class=\"dataframe\">\n",
       "  <thead>\n",
       "    <tr style=\"text-align: right;\">\n",
       "      <th></th>\n",
       "      <th>product_name</th>\n",
       "      <th>candidate</th>\n",
       "      <th>fuzz_ratio</th>\n",
       "      <th>package</th>\n",
       "      <th>package_candidate</th>\n",
       "      <th>package_ratio</th>\n",
       "    </tr>\n",
       "  </thead>\n",
       "  <tbody>\n",
       "    <tr>\n",
       "      <th>0</th>\n",
       "      <td>1 do pinos helado combinado 1 tosty mix snack ...</td>\n",
       "      <td>1 do pinos helado combinado 1 tosty mix snack ...</td>\n",
       "      <td>100</td>\n",
       "      <td>1 do</td>\n",
       "      <td>1 do</td>\n",
       "      <td>100</td>\n",
       "    </tr>\n",
       "    <tr>\n",
       "      <th>1</th>\n",
       "      <td>1 do pinos helado combinado 1 tosty mix snack ...</td>\n",
       "      <td>1 do pinos helado combinado 1 tosty mix snack ...</td>\n",
       "      <td>90</td>\n",
       "      <td>1 do</td>\n",
       "      <td>1 do</td>\n",
       "      <td>100</td>\n",
       "    </tr>\n",
       "    <tr>\n",
       "      <th>2</th>\n",
       "      <td>1 do pinos helado combinado 1 tosty mix snack ...</td>\n",
       "      <td>1 do pinos helado combinado 1 tosty mix snack ...</td>\n",
       "      <td>90</td>\n",
       "      <td>1 do</td>\n",
       "      <td>1 do</td>\n",
       "      <td>100</td>\n",
       "    </tr>\n",
       "    <tr>\n",
       "      <th>3</th>\n",
       "      <td>1 do pinos helado combinado 1 tosty mix snack ...</td>\n",
       "      <td>1 do pinos helado combinado 1 tosty mix snack ...</td>\n",
       "      <td>100</td>\n",
       "      <td>1 do</td>\n",
       "      <td>1 do</td>\n",
       "      <td>100</td>\n",
       "    </tr>\n",
       "    <tr>\n",
       "      <th>4</th>\n",
       "      <td>1 helado combinado do pinos 14 gl 499 grs1 pas...</td>\n",
       "      <td>1 helado combinado do pinos 14 gl 499 grs1 pas...</td>\n",
       "      <td>100</td>\n",
       "      <td>1 helado</td>\n",
       "      <td>1 helado</td>\n",
       "      <td>100</td>\n",
       "    </tr>\n",
       "  </tbody>\n",
       "</table>\n",
       "</div>"
      ],
      "text/plain": [
       "                                        product_name  \\\n",
       "0  1 do pinos helado combinado 1 tosty mix snack ...   \n",
       "1  1 do pinos helado combinado 1 tosty mix snack ...   \n",
       "2  1 do pinos helado combinado 1 tosty mix snack ...   \n",
       "3  1 do pinos helado combinado 1 tosty mix snack ...   \n",
       "4  1 helado combinado do pinos 14 gl 499 grs1 pas...   \n",
       "\n",
       "                                           candidate  fuzz_ratio   package  \\\n",
       "0  1 do pinos helado combinado 1 tosty mix snack ...         100      1 do   \n",
       "1  1 do pinos helado combinado 1 tosty mix snack ...          90      1 do   \n",
       "2  1 do pinos helado combinado 1 tosty mix snack ...          90      1 do   \n",
       "3  1 do pinos helado combinado 1 tosty mix snack ...         100      1 do   \n",
       "4  1 helado combinado do pinos 14 gl 499 grs1 pas...         100  1 helado   \n",
       "\n",
       "  package_candidate  package_ratio  \n",
       "0              1 do            100  \n",
       "1              1 do            100  \n",
       "2              1 do            100  \n",
       "3              1 do            100  \n",
       "4          1 helado            100  "
      ]
     },
     "execution_count": 365,
     "metadata": {},
     "output_type": "execute_result"
    }
   ],
   "source": [
    "df_similars_ext.head()"
   ]
  },
  {
   "cell_type": "markdown",
   "id": "b0afbbc8",
   "metadata": {},
   "source": [
    "### c) Tansforming product names into integers (easier to compare)"
   ]
  },
  {
   "cell_type": "code",
   "execution_count": 366,
   "id": "9a680728",
   "metadata": {},
   "outputs": [],
   "source": [
    "product_index_dict = dict(zip(df_tf['product_name'], df_tf.index))\n",
    "index_product_dict = dict(zip(df_tf.index, df_tf['product_name']))"
   ]
  },
  {
   "cell_type": "code",
   "execution_count": 367,
   "id": "9d3a79dc",
   "metadata": {},
   "outputs": [],
   "source": [
    "for col in ['product_name', 'candidate']:\n",
    "    df_similars_ext[col] = df_similars_ext[col].map(product_index_dict)"
   ]
  },
  {
   "cell_type": "code",
   "execution_count": 368,
   "id": "90ee3584",
   "metadata": {},
   "outputs": [
    {
     "data": {
      "text/html": [
       "<div>\n",
       "<style scoped>\n",
       "    .dataframe tbody tr th:only-of-type {\n",
       "        vertical-align: middle;\n",
       "    }\n",
       "\n",
       "    .dataframe tbody tr th {\n",
       "        vertical-align: top;\n",
       "    }\n",
       "\n",
       "    .dataframe thead th {\n",
       "        text-align: right;\n",
       "    }\n",
       "</style>\n",
       "<table border=\"1\" class=\"dataframe\">\n",
       "  <thead>\n",
       "    <tr style=\"text-align: right;\">\n",
       "      <th></th>\n",
       "      <th>product_name</th>\n",
       "      <th>candidate</th>\n",
       "      <th>fuzz_ratio</th>\n",
       "      <th>package</th>\n",
       "      <th>package_candidate</th>\n",
       "      <th>package_ratio</th>\n",
       "    </tr>\n",
       "  </thead>\n",
       "  <tbody>\n",
       "    <tr>\n",
       "      <th>0</th>\n",
       "      <td>489</td>\n",
       "      <td>489</td>\n",
       "      <td>100</td>\n",
       "      <td>1 do</td>\n",
       "      <td>1 do</td>\n",
       "      <td>100</td>\n",
       "    </tr>\n",
       "    <tr>\n",
       "      <th>1</th>\n",
       "      <td>489</td>\n",
       "      <td>825</td>\n",
       "      <td>90</td>\n",
       "      <td>1 do</td>\n",
       "      <td>1 do</td>\n",
       "      <td>100</td>\n",
       "    </tr>\n",
       "    <tr>\n",
       "      <th>2</th>\n",
       "      <td>825</td>\n",
       "      <td>489</td>\n",
       "      <td>90</td>\n",
       "      <td>1 do</td>\n",
       "      <td>1 do</td>\n",
       "      <td>100</td>\n",
       "    </tr>\n",
       "    <tr>\n",
       "      <th>3</th>\n",
       "      <td>825</td>\n",
       "      <td>825</td>\n",
       "      <td>100</td>\n",
       "      <td>1 do</td>\n",
       "      <td>1 do</td>\n",
       "      <td>100</td>\n",
       "    </tr>\n",
       "    <tr>\n",
       "      <th>4</th>\n",
       "      <td>853</td>\n",
       "      <td>853</td>\n",
       "      <td>100</td>\n",
       "      <td>1 helado</td>\n",
       "      <td>1 helado</td>\n",
       "      <td>100</td>\n",
       "    </tr>\n",
       "  </tbody>\n",
       "</table>\n",
       "</div>"
      ],
      "text/plain": [
       "   product_name  candidate  fuzz_ratio   package package_candidate  \\\n",
       "0           489        489         100      1 do              1 do   \n",
       "1           489        825          90      1 do              1 do   \n",
       "2           825        489          90      1 do              1 do   \n",
       "3           825        825         100      1 do              1 do   \n",
       "4           853        853         100  1 helado          1 helado   \n",
       "\n",
       "   package_ratio  \n",
       "0            100  \n",
       "1            100  \n",
       "2            100  \n",
       "3            100  \n",
       "4            100  "
      ]
     },
     "execution_count": 368,
     "metadata": {},
     "output_type": "execute_result"
    }
   ],
   "source": [
    "df_similars_ext.head()"
   ]
  },
  {
   "cell_type": "markdown",
   "id": "4d86081e",
   "metadata": {},
   "source": [
    "### d) Package filter + Column selection"
   ]
  },
  {
   "cell_type": "code",
   "execution_count": 369,
   "id": "1130f746",
   "metadata": {},
   "outputs": [
    {
     "name": "stdout",
     "output_type": "stream",
     "text": [
      "Package Threshold: 75\n"
     ]
    }
   ],
   "source": [
    "print(f'Package Threshold: {threshold_package}')"
   ]
  },
  {
   "cell_type": "code",
   "execution_count": 370,
   "id": "a5624502",
   "metadata": {},
   "outputs": [],
   "source": [
    "df_clean = df_similars_ext[df_similars_ext['package_ratio'] > threshold_package].reset_index(drop=True)"
   ]
  },
  {
   "cell_type": "code",
   "execution_count": 371,
   "id": "f7cff373",
   "metadata": {},
   "outputs": [],
   "source": [
    "df_clean = df_clean.loc[:, ['product_name', 'candidate']]"
   ]
  },
  {
   "cell_type": "code",
   "execution_count": 372,
   "id": "10a8f5a9",
   "metadata": {},
   "outputs": [
    {
     "data": {
      "text/html": [
       "<div>\n",
       "<style scoped>\n",
       "    .dataframe tbody tr th:only-of-type {\n",
       "        vertical-align: middle;\n",
       "    }\n",
       "\n",
       "    .dataframe tbody tr th {\n",
       "        vertical-align: top;\n",
       "    }\n",
       "\n",
       "    .dataframe thead th {\n",
       "        text-align: right;\n",
       "    }\n",
       "</style>\n",
       "<table border=\"1\" class=\"dataframe\">\n",
       "  <thead>\n",
       "    <tr style=\"text-align: right;\">\n",
       "      <th></th>\n",
       "      <th>product_name</th>\n",
       "      <th>candidate</th>\n",
       "    </tr>\n",
       "  </thead>\n",
       "  <tbody>\n",
       "    <tr>\n",
       "      <th>0</th>\n",
       "      <td>489</td>\n",
       "      <td>489</td>\n",
       "    </tr>\n",
       "    <tr>\n",
       "      <th>1</th>\n",
       "      <td>489</td>\n",
       "      <td>825</td>\n",
       "    </tr>\n",
       "    <tr>\n",
       "      <th>2</th>\n",
       "      <td>825</td>\n",
       "      <td>489</td>\n",
       "    </tr>\n",
       "    <tr>\n",
       "      <th>3</th>\n",
       "      <td>825</td>\n",
       "      <td>825</td>\n",
       "    </tr>\n",
       "    <tr>\n",
       "      <th>4</th>\n",
       "      <td>853</td>\n",
       "      <td>853</td>\n",
       "    </tr>\n",
       "  </tbody>\n",
       "</table>\n",
       "</div>"
      ],
      "text/plain": [
       "   product_name  candidate\n",
       "0           489        489\n",
       "1           489        825\n",
       "2           825        489\n",
       "3           825        825\n",
       "4           853        853"
      ]
     },
     "execution_count": 372,
     "metadata": {},
     "output_type": "execute_result"
    }
   ],
   "source": [
    "df_clean.head()"
   ]
  },
  {
   "cell_type": "markdown",
   "id": "ccce2606",
   "metadata": {},
   "source": [
    "### e ) Functions"
   ]
  },
  {
   "cell_type": "code",
   "execution_count": 373,
   "id": "6b4e0375",
   "metadata": {},
   "outputs": [],
   "source": [
    "def product_name_replacement(df, dic_):\n",
    "    df['product_name'] = df['product_name'].map(dic_)\n",
    "    df['candidate'] = df['candidate'].map(dic_)\n",
    "    return df"
   ]
  },
  {
   "cell_type": "markdown",
   "id": "914dbda0",
   "metadata": {},
   "source": [
    "### f) Procedure: for each product"
   ]
  },
  {
   "cell_type": "code",
   "execution_count": 374,
   "id": "c2ad9b33",
   "metadata": {},
   "outputs": [],
   "source": [
    "clean_leaders = df_clean['product_name'].unique()"
   ]
  },
  {
   "cell_type": "code",
   "execution_count": 375,
   "id": "aec27d3e",
   "metadata": {},
   "outputs": [
    {
     "data": {
      "text/plain": [
       "(1273, 1273)"
      ]
     },
     "execution_count": 375,
     "metadata": {},
     "output_type": "execute_result"
    }
   ],
   "source": [
    "len(clean_leaders), len(df_similars['match'].unique())"
   ]
  },
  {
   "cell_type": "code",
   "execution_count": 376,
   "id": "23838aab",
   "metadata": {},
   "outputs": [
    {
     "data": {
      "text/html": [
       "<div>\n",
       "<style scoped>\n",
       "    .dataframe tbody tr th:only-of-type {\n",
       "        vertical-align: middle;\n",
       "    }\n",
       "\n",
       "    .dataframe tbody tr th {\n",
       "        vertical-align: top;\n",
       "    }\n",
       "\n",
       "    .dataframe thead th {\n",
       "        text-align: right;\n",
       "    }\n",
       "</style>\n",
       "<table border=\"1\" class=\"dataframe\">\n",
       "  <thead>\n",
       "    <tr style=\"text-align: right;\">\n",
       "      <th></th>\n",
       "      <th>product_name</th>\n",
       "      <th>candidate</th>\n",
       "    </tr>\n",
       "  </thead>\n",
       "  <tbody>\n",
       "    <tr>\n",
       "      <th>0</th>\n",
       "      <td>489</td>\n",
       "      <td>489</td>\n",
       "    </tr>\n",
       "    <tr>\n",
       "      <th>1</th>\n",
       "      <td>489</td>\n",
       "      <td>825</td>\n",
       "    </tr>\n",
       "    <tr>\n",
       "      <th>2</th>\n",
       "      <td>825</td>\n",
       "      <td>489</td>\n",
       "    </tr>\n",
       "    <tr>\n",
       "      <th>3</th>\n",
       "      <td>825</td>\n",
       "      <td>825</td>\n",
       "    </tr>\n",
       "    <tr>\n",
       "      <th>4</th>\n",
       "      <td>853</td>\n",
       "      <td>853</td>\n",
       "    </tr>\n",
       "  </tbody>\n",
       "</table>\n",
       "</div>"
      ],
      "text/plain": [
       "   product_name  candidate\n",
       "0           489        489\n",
       "1           489        825\n",
       "2           825        489\n",
       "3           825        825\n",
       "4           853        853"
      ]
     },
     "execution_count": 376,
     "metadata": {},
     "output_type": "execute_result"
    }
   ],
   "source": [
    "df_clean.head()"
   ]
  },
  {
   "cell_type": "code",
   "execution_count": 377,
   "id": "20ea0181",
   "metadata": {},
   "outputs": [],
   "source": [
    "# time before\n",
    "t_bef_group = time.time()"
   ]
  },
  {
   "cell_type": "code",
   "execution_count": 378,
   "id": "69b0f8f9",
   "metadata": {},
   "outputs": [],
   "source": [
    "# dataframe definition\n",
    "groups_df = pd.DataFrame(columns=['group_id', 'leader', 'member'])\n",
    "track_df = pd.DataFrame(columns=['group_id', 'member'])\n",
    "\n",
    "for leader in clean_leaders:\n",
    "    select_df = df_clean[df_clean['product_name'] == leader] \n",
    "    applicants_list = list(pd.unique(select_df[['product_name', 'candidate']].values.ravel('K')))\n",
    "    groups_df, track_df = verify_and_concat_groups(groups_df, track_df, leader, applicants_list)"
   ]
  },
  {
   "cell_type": "code",
   "execution_count": 379,
   "id": "38279163",
   "metadata": {},
   "outputs": [
    {
     "name": "stdout",
     "output_type": "stream",
     "text": [
      "Time to run procedure: 0.095 minutes!\n"
     ]
    }
   ],
   "source": [
    "# time run\n",
    "t_run = time.time()-t_bef_group\n",
    "print(f'Time to run procedure: {round(t_run/60, 3)} minutes!')"
   ]
  },
  {
   "cell_type": "code",
   "execution_count": 380,
   "id": "e21244b9",
   "metadata": {},
   "outputs": [
    {
     "name": "stdout",
     "output_type": "stream",
     "text": [
      "Number of groups: 701\n"
     ]
    }
   ],
   "source": [
    "print(f'Number of groups: {len(groups_df[\"group_id\"].unique())}')"
   ]
  },
  {
   "cell_type": "code",
   "execution_count": 381,
   "id": "fea8232e",
   "metadata": {},
   "outputs": [],
   "source": [
    "# replacing product names\n",
    "groups_df['leader'] = groups_df['leader'].map(index_product_dict)\n",
    "groups_df['member'] = groups_df['member'].map(index_product_dict)"
   ]
  },
  {
   "cell_type": "code",
   "execution_count": 382,
   "id": "1d49f322",
   "metadata": {},
   "outputs": [
    {
     "data": {
      "text/html": [
       "<div>\n",
       "<style scoped>\n",
       "    .dataframe tbody tr th:only-of-type {\n",
       "        vertical-align: middle;\n",
       "    }\n",
       "\n",
       "    .dataframe tbody tr th {\n",
       "        vertical-align: top;\n",
       "    }\n",
       "\n",
       "    .dataframe thead th {\n",
       "        text-align: right;\n",
       "    }\n",
       "</style>\n",
       "<table border=\"1\" class=\"dataframe\">\n",
       "  <thead>\n",
       "    <tr style=\"text-align: right;\">\n",
       "      <th></th>\n",
       "      <th>group_id</th>\n",
       "      <th>leader</th>\n",
       "      <th>member</th>\n",
       "    </tr>\n",
       "  </thead>\n",
       "  <tbody>\n",
       "    <tr>\n",
       "      <th>0</th>\n",
       "      <td>0</td>\n",
       "      <td>1 do pinos helado combinado 1 tosty mix snack ...</td>\n",
       "      <td>1 do pinos helado combinado 1 tosty mix snack ...</td>\n",
       "    </tr>\n",
       "    <tr>\n",
       "      <th>1</th>\n",
       "      <td>0</td>\n",
       "      <td>1 do pinos helado combinado 1 tosty mix snack ...</td>\n",
       "      <td>1 do pinos helado combinado 1 tosty mix snack ...</td>\n",
       "    </tr>\n",
       "    <tr>\n",
       "      <th>2</th>\n",
       "      <td>1</td>\n",
       "      <td>1 helado do pinos chocolate 14 gl 499 grs1 pas...</td>\n",
       "      <td>1 helado combinado do pinos 14 gl 499 grs1 pas...</td>\n",
       "    </tr>\n",
       "    <tr>\n",
       "      <th>3</th>\n",
       "      <td>1</td>\n",
       "      <td>1 helado do pinos chocolate 14 gl 499 grs1 pas...</td>\n",
       "      <td>1 helado do pinos chocochips 14 gl 499 grs1 pa...</td>\n",
       "    </tr>\n",
       "    <tr>\n",
       "      <th>4</th>\n",
       "      <td>1</td>\n",
       "      <td>1 helado do pinos chocolate 14 gl 499 grs1 pas...</td>\n",
       "      <td>1 helado combinado do pinos 14 gl 499 grs1 pas...</td>\n",
       "    </tr>\n",
       "  </tbody>\n",
       "</table>\n",
       "</div>"
      ],
      "text/plain": [
       "  group_id                                             leader  \\\n",
       "0        0  1 do pinos helado combinado 1 tosty mix snack ...   \n",
       "1        0  1 do pinos helado combinado 1 tosty mix snack ...   \n",
       "2        1  1 helado do pinos chocolate 14 gl 499 grs1 pas...   \n",
       "3        1  1 helado do pinos chocolate 14 gl 499 grs1 pas...   \n",
       "4        1  1 helado do pinos chocolate 14 gl 499 grs1 pas...   \n",
       "\n",
       "                                              member  \n",
       "0  1 do pinos helado combinado 1 tosty mix snack ...  \n",
       "1  1 do pinos helado combinado 1 tosty mix snack ...  \n",
       "2  1 helado combinado do pinos 14 gl 499 grs1 pas...  \n",
       "3  1 helado do pinos chocochips 14 gl 499 grs1 pa...  \n",
       "4  1 helado combinado do pinos 14 gl 499 grs1 pas...  "
      ]
     },
     "execution_count": 382,
     "metadata": {},
     "output_type": "execute_result"
    }
   ],
   "source": [
    "groups_df.head()"
   ]
  },
  {
   "cell_type": "code",
   "execution_count": 383,
   "id": "830aa246",
   "metadata": {},
   "outputs": [
    {
     "name": "stdout",
     "output_type": "stream",
     "text": [
      "Time to run it all: 0.273 minutes!\n"
     ]
    }
   ],
   "source": [
    "# Complete run time\n",
    "t_complete = time.time()-t_initial\n",
    "print(f'Time to run it all: {round(t_complete/60, 3)} minutes!')"
   ]
  },
  {
   "cell_type": "markdown",
   "id": "6352f704",
   "metadata": {},
   "source": [
    "## 6. Validation"
   ]
  },
  {
   "cell_type": "markdown",
   "id": "104b2b8b",
   "metadata": {},
   "source": [
    "### 6.1 Products added"
   ]
  },
  {
   "cell_type": "code",
   "execution_count": 384,
   "id": "cc8dda7a",
   "metadata": {},
   "outputs": [
    {
     "data": {
      "text/plain": [
       "1273"
      ]
     },
     "execution_count": 384,
     "metadata": {},
     "output_type": "execute_result"
    }
   ],
   "source": [
    "original_products = df_tf['product_name'].unique()\n",
    "len(original_products)"
   ]
  },
  {
   "cell_type": "code",
   "execution_count": 385,
   "id": "7284bb38",
   "metadata": {},
   "outputs": [
    {
     "data": {
      "text/plain": [
       "1273"
      ]
     },
     "execution_count": 385,
     "metadata": {},
     "output_type": "execute_result"
    }
   ],
   "source": [
    "added_products = pd.unique(groups_df[['leader', 'member']].values.ravel('K'))\n",
    "len(added_products)"
   ]
  },
  {
   "cell_type": "code",
   "execution_count": 386,
   "id": "7c5b2f70",
   "metadata": {},
   "outputs": [],
   "source": [
    "not_added = []\n",
    "for prod_ in original_products:\n",
    "    if prod_ not in added_products:\n",
    "        not_added.append(prod_)"
   ]
  },
  {
   "cell_type": "code",
   "execution_count": 387,
   "id": "05863699",
   "metadata": {},
   "outputs": [
    {
     "name": "stdout",
     "output_type": "stream",
     "text": [
      "Number of products without group: 0\n"
     ]
    }
   ],
   "source": [
    "print(f'Number of products without group: {len(not_added)}')"
   ]
  },
  {
   "cell_type": "markdown",
   "id": "63210cb7",
   "metadata": {},
   "source": [
    "### Who are they?"
   ]
  },
  {
   "cell_type": "code",
   "execution_count": 388,
   "id": "0f2625ef",
   "metadata": {},
   "outputs": [
    {
     "data": {
      "text/plain": [
       "[]"
      ]
     },
     "execution_count": 388,
     "metadata": {},
     "output_type": "execute_result"
    }
   ],
   "source": [
    "not_added[-10:]"
   ]
  },
  {
   "cell_type": "markdown",
   "id": "b86aa0f4",
   "metadata": {},
   "source": [
    "### 6.2 Duplicated leaders / members ?? (in 2 or more groups)"
   ]
  },
  {
   "cell_type": "code",
   "execution_count": 389,
   "id": "52858cfd",
   "metadata": {},
   "outputs": [],
   "source": [
    "# uniques: group_id - leader\n",
    "leaders_df = groups_df[['group_id', 'leader']].drop_duplicates().reset_index(drop=True)"
   ]
  },
  {
   "cell_type": "code",
   "execution_count": 390,
   "id": "2c0fdf8b",
   "metadata": {},
   "outputs": [
    {
     "data": {
      "text/html": [
       "<div>\n",
       "<style scoped>\n",
       "    .dataframe tbody tr th:only-of-type {\n",
       "        vertical-align: middle;\n",
       "    }\n",
       "\n",
       "    .dataframe tbody tr th {\n",
       "        vertical-align: top;\n",
       "    }\n",
       "\n",
       "    .dataframe thead th {\n",
       "        text-align: right;\n",
       "    }\n",
       "</style>\n",
       "<table border=\"1\" class=\"dataframe\">\n",
       "  <thead>\n",
       "    <tr style=\"text-align: right;\">\n",
       "      <th></th>\n",
       "      <th>group_id</th>\n",
       "      <th>leader</th>\n",
       "    </tr>\n",
       "  </thead>\n",
       "  <tbody>\n",
       "  </tbody>\n",
       "</table>\n",
       "</div>"
      ],
      "text/plain": [
       "Empty DataFrame\n",
       "Columns: [group_id, leader]\n",
       "Index: []"
      ]
     },
     "execution_count": 390,
     "metadata": {},
     "output_type": "execute_result"
    }
   ],
   "source": [
    "# duplicated leaders\n",
    "leaders_df[leaders_df['leader'].duplicated() == True]"
   ]
  },
  {
   "cell_type": "code",
   "execution_count": 391,
   "id": "600cf754",
   "metadata": {},
   "outputs": [],
   "source": [
    "# uniques: group_id - member\n",
    "members_df = groups_df[['group_id', 'member']].drop_duplicates().reset_index(drop=True)"
   ]
  },
  {
   "cell_type": "code",
   "execution_count": 392,
   "id": "e4a6a8d7",
   "metadata": {},
   "outputs": [
    {
     "data": {
      "text/html": [
       "<div>\n",
       "<style scoped>\n",
       "    .dataframe tbody tr th:only-of-type {\n",
       "        vertical-align: middle;\n",
       "    }\n",
       "\n",
       "    .dataframe tbody tr th {\n",
       "        vertical-align: top;\n",
       "    }\n",
       "\n",
       "    .dataframe thead th {\n",
       "        text-align: right;\n",
       "    }\n",
       "</style>\n",
       "<table border=\"1\" class=\"dataframe\">\n",
       "  <thead>\n",
       "    <tr style=\"text-align: right;\">\n",
       "      <th></th>\n",
       "      <th>group_id</th>\n",
       "      <th>member</th>\n",
       "    </tr>\n",
       "  </thead>\n",
       "  <tbody>\n",
       "  </tbody>\n",
       "</table>\n",
       "</div>"
      ],
      "text/plain": [
       "Empty DataFrame\n",
       "Columns: [group_id, member]\n",
       "Index: []"
      ]
     },
     "execution_count": 392,
     "metadata": {},
     "output_type": "execute_result"
    }
   ],
   "source": [
    "# duplicated members\n",
    "members_df[members_df['member'].duplicated() == True]"
   ]
  },
  {
   "cell_type": "markdown",
   "id": "d1fca215",
   "metadata": {},
   "source": [
    "### 6.3 Adding not matched products"
   ]
  },
  {
   "cell_type": "markdown",
   "id": "4de57532",
   "metadata": {},
   "source": [
    "Products not added to the groups dataframe are because previously they demonstrated low similarity on the clusters generated with TF-IDF + Cosine Similarity layer. This why they are added as \"individual groups\"."
   ]
  },
  {
   "cell_type": "code",
   "execution_count": 393,
   "id": "9d2680f8",
   "metadata": {},
   "outputs": [],
   "source": [
    "max_id = groups_df['group_id'].max()"
   ]
  },
  {
   "cell_type": "code",
   "execution_count": 394,
   "id": "70089615",
   "metadata": {},
   "outputs": [],
   "source": [
    "not_added_df = pd.DataFrame(data={\n",
    "                    'group_id': range(max_id, max_id + len(not_added)),\n",
    "                    'leader': not_added,\n",
    "                    'member': not_added})"
   ]
  },
  {
   "cell_type": "code",
   "execution_count": 395,
   "id": "5b492523",
   "metadata": {},
   "outputs": [],
   "source": [
    "# concat to groups_df\n",
    "groups_df = pd.concat([groups_df, not_added_df], axis=0).reset_index(drop=True)"
   ]
  },
  {
   "cell_type": "code",
   "execution_count": 396,
   "id": "7acae51b",
   "metadata": {},
   "outputs": [],
   "source": [
    "# concat to track df\n",
    "track_df = pd.concat([track_df, not_added_df.loc[:, ['group_id', 'member']]], axis=0).reset_index(drop=True)"
   ]
  },
  {
   "cell_type": "markdown",
   "id": "d4f0ab1f",
   "metadata": {},
   "source": [
    "### 6.4 Saving results"
   ]
  },
  {
   "cell_type": "code",
   "execution_count": 397,
   "id": "310b3da2",
   "metadata": {},
   "outputs": [],
   "source": [
    "groups_df = groups_df.sort_values(by=['leader', 'member']).reset_index(drop=True)"
   ]
  },
  {
   "cell_type": "code",
   "execution_count": 398,
   "id": "1d8864b2",
   "metadata": {},
   "outputs": [],
   "source": [
    "groups_df.to_csv(f'outputs/groups_{country}_{threshold_products}_{threshold_package}.csv', index=False)"
   ]
  },
  {
   "cell_type": "markdown",
   "id": "f233d375",
   "metadata": {},
   "source": [
    "### 6.5 Samples"
   ]
  },
  {
   "cell_type": "code",
   "execution_count": 399,
   "id": "6dd7d221",
   "metadata": {},
   "outputs": [
    {
     "data": {
      "text/plain": [
       "(701, 1273)"
      ]
     },
     "execution_count": 399,
     "metadata": {},
     "output_type": "execute_result"
    }
   ],
   "source": [
    "len(groups_df['leader'].unique()), len(groups_df['member'].unique())"
   ]
  },
  {
   "cell_type": "code",
   "execution_count": 400,
   "id": "9be4d5e0",
   "metadata": {},
   "outputs": [
    {
     "data": {
      "text/html": [
       "<div>\n",
       "<style scoped>\n",
       "    .dataframe tbody tr th:only-of-type {\n",
       "        vertical-align: middle;\n",
       "    }\n",
       "\n",
       "    .dataframe tbody tr th {\n",
       "        vertical-align: top;\n",
       "    }\n",
       "\n",
       "    .dataframe thead th {\n",
       "        text-align: right;\n",
       "    }\n",
       "</style>\n",
       "<table border=\"1\" class=\"dataframe\">\n",
       "  <thead>\n",
       "    <tr style=\"text-align: right;\">\n",
       "      <th></th>\n",
       "      <th>group_id</th>\n",
       "      <th>leader</th>\n",
       "      <th>member</th>\n",
       "    </tr>\n",
       "  </thead>\n",
       "  <tbody>\n",
       "  </tbody>\n",
       "</table>\n",
       "</div>"
      ],
      "text/plain": [
       "Empty DataFrame\n",
       "Columns: [group_id, leader, member]\n",
       "Index: []"
      ]
     },
     "execution_count": 400,
     "metadata": {},
     "output_type": "execute_result"
    }
   ],
   "source": [
    "groups_df[(groups_df['leader'].str.contains('coca'))|(groups_df['member'].str.contains('coca'))][:60]"
   ]
  },
  {
   "cell_type": "code",
   "execution_count": null,
   "id": "b34bac24",
   "metadata": {},
   "outputs": [],
   "source": []
  },
  {
   "cell_type": "code",
   "execution_count": null,
   "id": "2caea584",
   "metadata": {},
   "outputs": [],
   "source": []
  },
  {
   "cell_type": "code",
   "execution_count": null,
   "id": "2e5be687",
   "metadata": {},
   "outputs": [],
   "source": []
  },
  {
   "cell_type": "code",
   "execution_count": null,
   "id": "0e6ff121",
   "metadata": {},
   "outputs": [],
   "source": []
  },
  {
   "cell_type": "code",
   "execution_count": null,
   "id": "4fcb4976",
   "metadata": {},
   "outputs": [],
   "source": []
  },
  {
   "cell_type": "code",
   "execution_count": null,
   "id": "7e9b24b5",
   "metadata": {},
   "outputs": [],
   "source": []
  }
 ],
 "metadata": {
  "kernelspec": {
   "display_name": "Python 3.8.3 ('base')",
   "language": "python",
   "name": "python3"
  },
  "language_info": {
   "codemirror_mode": {
    "name": "ipython",
    "version": 3
   },
   "file_extension": ".py",
   "mimetype": "text/x-python",
   "name": "python",
   "nbconvert_exporter": "python",
   "pygments_lexer": "ipython3",
   "version": "3.8.3"
  },
  "vscode": {
   "interpreter": {
    "hash": "40d3a090f54c6569ab1632332b64b2c03c39dcf918b08424e98f38b5ae0af88f"
   }
  }
 },
 "nbformat": 4,
 "nbformat_minor": 5
}
