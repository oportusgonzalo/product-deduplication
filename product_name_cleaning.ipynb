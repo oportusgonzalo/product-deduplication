{
 "cells": [
  {
   "cell_type": "code",
   "execution_count": 401,
   "id": "1ee9d786",
   "metadata": {},
   "outputs": [],
   "source": [
    "import pandas as pd\n",
    "import numpy as np\n",
    "import re\n",
    "import Levenshtein as lev\n",
    "from fuzzywuzzy import fuzz\n",
    "import time\n",
    "import sys\n",
    "\n",
    "from static import *\n",
    "\n",
    "# To calculate: TF-IDF & Cosine Similarity\n",
    "from sklearn.feature_extraction.text import TfidfVectorizer\n",
    "from scipy.sparse import csr_matrix\n",
    "import sparse_dot_topn.sparse_dot_topn as ct\n",
    "\n",
    "import warnings\n",
    "warnings.filterwarnings(\"ignore\")"
   ]
  },
  {
   "cell_type": "code",
   "execution_count": 402,
   "id": "629467ca",
   "metadata": {},
   "outputs": [],
   "source": [
    "# useful functions import\n",
    "from static import *"
   ]
  },
  {
   "cell_type": "code",
   "execution_count": 403,
   "id": "25d5e6b9",
   "metadata": {},
   "outputs": [
    {
     "name": "stderr",
     "output_type": "stream",
     "text": [
      "[nltk_data] Downloading package stopwords to\n",
      "[nltk_data]     /Users/gonzalooportus/nltk_data...\n",
      "[nltk_data]   Package stopwords is already up-to-date!\n"
     ]
    }
   ],
   "source": [
    "import nltk.corpus\n",
    "nltk.download('stopwords')\n",
    "from nltk.corpus import stopwords"
   ]
  },
  {
   "cell_type": "markdown",
   "id": "05930792",
   "metadata": {},
   "source": [
    "# CODE"
   ]
  },
  {
   "cell_type": "code",
   "execution_count": 404,
   "id": "2870cf77",
   "metadata": {},
   "outputs": [],
   "source": [
    "# Initial time\n",
    "t_initial = time.time()"
   ]
  },
  {
   "cell_type": "markdown",
   "id": "d9c721dc",
   "metadata": {},
   "source": [
    "## 1. Pre-processing"
   ]
  },
  {
   "cell_type": "code",
   "execution_count": 405,
   "id": "c903970f",
   "metadata": {},
   "outputs": [],
   "source": [
    "# parameters definition\n",
    "country = 'uk'\n",
    "parent_chain = 'booker' # lower case and \"clean\"\n",
    "parent_chain_column = 'parent_chain_name'\n",
    "item_column = 'item_name'\n",
    "language_ = 'en'\n",
    "threshold_products = 85\n",
    "threshold_package = 75\n",
    "parent_chain_use = True"
   ]
  },
  {
   "cell_type": "code",
   "execution_count": 406,
   "id": "02bcc9ec",
   "metadata": {},
   "outputs": [],
   "source": [
    "# reading raw data\n",
    "data = pd.read_csv('data/uk_booker_products.csv')"
   ]
  },
  {
   "cell_type": "code",
   "execution_count": 407,
   "id": "6dad2377",
   "metadata": {},
   "outputs": [],
   "source": [
    "if parent_chain_use:\n",
    "    # cleaning parent chain name as it has duplicated entries\n",
    "    df = clean_text(data, parent_chain_column, '{}_{}'.format(parent_chain_column, 'norm'))\n",
    "    # chain selection and columns to work on\n",
    "    df_nlp = df[df['parent_chain_name_norm'] == parent_chain]\n",
    "    df_nlp = df_nlp.loc[:, ['parent_chain_name_norm', item_column]].reset_index(drop=True)\n",
    "else:\n",
    "    df_nlp = data.loc[:, [item_column]].drop_duplicates().reset_index(drop=True)"
   ]
  },
  {
   "cell_type": "code",
   "execution_count": 408,
   "id": "3bd1a9ec",
   "metadata": {},
   "outputs": [],
   "source": [
    "# item name standardization\n",
    "df_nlp.rename(columns={'sku_name': 'item_name'}, inplace=True)"
   ]
  },
  {
   "cell_type": "code",
   "execution_count": 409,
   "id": "baee2ac8",
   "metadata": {},
   "outputs": [
    {
     "name": "stdout",
     "output_type": "stream",
     "text": [
      "Initial products: 50587\n"
     ]
    }
   ],
   "source": [
    "print(f\"Initial products: {len(list(set(df_nlp['item_name'].unique())))}\")"
   ]
  },
  {
   "cell_type": "markdown",
   "id": "63524601",
   "metadata": {},
   "source": [
    "## 2. NLP Aplication"
   ]
  },
  {
   "cell_type": "code",
   "execution_count": 410,
   "id": "185780a4",
   "metadata": {},
   "outputs": [],
   "source": [
    "if language_ == 'en':\n",
    "    stop_words = stopwords.words('english')\n",
    "elif language_ == 'es':\n",
    "    stop_words = stopwords.words('spanish')"
   ]
  },
  {
   "cell_type": "code",
   "execution_count": 411,
   "id": "66abde9c",
   "metadata": {},
   "outputs": [],
   "source": [
    "regex_clean = r'(pm \\d+\\w+)|(pm \\d+\\.\\d+)|(pm\\d+\\.\\d+)|(\\d+ pmp)|(pm\\d+)|( \\.+)|(pmp\\d+.\\d+)|(\\d+pmp)|(pmp \\d+)|(\\d+.\\d+ pm)'\n"
   ]
  },
  {
   "cell_type": "code",
   "execution_count": 412,
   "id": "5f179847",
   "metadata": {},
   "outputs": [],
   "source": [
    "df_nlp = nlp_cleaning(df_nlp, stop_words, regex_clean)"
   ]
  },
  {
   "cell_type": "code",
   "execution_count": 413,
   "id": "b3faa349",
   "metadata": {},
   "outputs": [
    {
     "name": "stdout",
     "output_type": "stream",
     "text": [
      "Percentage of unique products after NLP: 0.827\n"
     ]
    }
   ],
   "source": [
    "print(f'Percentage of unique products after NLP: {round(len(df_nlp.product_name.unique())/len(df_nlp.item_name.unique()), 3)}')"
   ]
  },
  {
   "cell_type": "code",
   "execution_count": 414,
   "id": "69989f5d",
   "metadata": {},
   "outputs": [
    {
     "data": {
      "text/html": [
       "<div>\n",
       "<style scoped>\n",
       "    .dataframe tbody tr th:only-of-type {\n",
       "        vertical-align: middle;\n",
       "    }\n",
       "\n",
       "    .dataframe tbody tr th {\n",
       "        vertical-align: top;\n",
       "    }\n",
       "\n",
       "    .dataframe thead th {\n",
       "        text-align: right;\n",
       "    }\n",
       "</style>\n",
       "<table border=\"1\" class=\"dataframe\">\n",
       "  <thead>\n",
       "    <tr style=\"text-align: right;\">\n",
       "      <th></th>\n",
       "      <th>parent_chain_name_norm</th>\n",
       "      <th>item_name</th>\n",
       "      <th>item_name_norm</th>\n",
       "      <th>item_name_norm_stop</th>\n",
       "      <th>item_name_token</th>\n",
       "      <th>item_name_token_lemma</th>\n",
       "      <th>product_name</th>\n",
       "    </tr>\n",
       "  </thead>\n",
       "  <tbody>\n",
       "    <tr>\n",
       "      <th>0</th>\n",
       "      <td>booker</td>\n",
       "      <td>\\tAunt Bessie's Hearty &amp; Homely Dumpling Mix 140g</td>\n",
       "      <td>aunt bessies hearty  homely dumpling mix 140g</td>\n",
       "      <td>aunt bessies hearty homely dumpling mix 140g</td>\n",
       "      <td>[aunt, bessies, hearty, homely, dumpling, mix,...</td>\n",
       "      <td>[aunt, bessies, hearty, homely, dumpling, mix,...</td>\n",
       "      <td>aunt bessies hearty homely dumpling mix 140g</td>\n",
       "    </tr>\n",
       "    <tr>\n",
       "      <th>1</th>\n",
       "      <td>booker</td>\n",
       "      <td>\\tBC Choc Fudge Brownie</td>\n",
       "      <td>bc choc fudge brownie</td>\n",
       "      <td>bc choc fudge brownie</td>\n",
       "      <td>[bc, choc, fudge, brownie]</td>\n",
       "      <td>[bc, choc, fudge, brownie]</td>\n",
       "      <td>bc choc fudge brownie</td>\n",
       "    </tr>\n",
       "  </tbody>\n",
       "</table>\n",
       "</div>"
      ],
      "text/plain": [
       "  parent_chain_name_norm                                          item_name  \\\n",
       "0                 booker  \\tAunt Bessie's Hearty & Homely Dumpling Mix 140g   \n",
       "1                 booker                            \\tBC Choc Fudge Brownie   \n",
       "\n",
       "                                  item_name_norm  \\\n",
       "0  aunt bessies hearty  homely dumpling mix 140g   \n",
       "1                          bc choc fudge brownie   \n",
       "\n",
       "                            item_name_norm_stop  \\\n",
       "0  aunt bessies hearty homely dumpling mix 140g   \n",
       "1                         bc choc fudge brownie   \n",
       "\n",
       "                                     item_name_token  \\\n",
       "0  [aunt, bessies, hearty, homely, dumpling, mix,...   \n",
       "1                         [bc, choc, fudge, brownie]   \n",
       "\n",
       "                               item_name_token_lemma  \\\n",
       "0  [aunt, bessies, hearty, homely, dumpling, mix,...   \n",
       "1                         [bc, choc, fudge, brownie]   \n",
       "\n",
       "                                   product_name  \n",
       "0  aunt bessies hearty homely dumpling mix 140g  \n",
       "1                         bc choc fudge brownie  "
      ]
     },
     "execution_count": 414,
     "metadata": {},
     "output_type": "execute_result"
    }
   ],
   "source": [
    "df_nlp[:2]"
   ]
  },
  {
   "cell_type": "markdown",
   "id": "6293c892",
   "metadata": {},
   "source": [
    "### Creating mapping between source item_name & product_name (post NLP)"
   ]
  },
  {
   "cell_type": "code",
   "execution_count": 415,
   "id": "e7fcbf6a",
   "metadata": {},
   "outputs": [],
   "source": [
    "df_back_propagation = df_nlp.loc[:, ['item_name', 'product_name']]"
   ]
  },
  {
   "cell_type": "code",
   "execution_count": 416,
   "id": "06831268",
   "metadata": {},
   "outputs": [],
   "source": [
    "df_back_propagation.to_csv(f'back_propagation/groups_{country}_back_propagation.csv', index=False)"
   ]
  },
  {
   "cell_type": "markdown",
   "id": "6b7da2e5",
   "metadata": {},
   "source": [
    "## 3. TF-IDF Application"
   ]
  },
  {
   "cell_type": "markdown",
   "id": "7ee8f7b7",
   "metadata": {},
   "source": [
    "### Creating a tf-idf matrix"
   ]
  },
  {
   "cell_type": "code",
   "execution_count": 417,
   "id": "787d905e",
   "metadata": {},
   "outputs": [],
   "source": [
    "# preparing set for TF-IDF\n",
    "df_tf = df_nlp.loc[:, ['product_name']]\n",
    "df_tf = df_tf.drop_duplicates().reset_index(drop=True)\n",
    "df_tf['id'] = range(1, len(df_tf) + 1)"
   ]
  },
  {
   "cell_type": "markdown",
   "id": "a3b50386",
   "metadata": {},
   "source": [
    "### Applying method"
   ]
  },
  {
   "cell_type": "code",
   "execution_count": 418,
   "id": "2c9bb307",
   "metadata": {},
   "outputs": [],
   "source": [
    "# create object\n",
    "tfidf_vectorizer = TfidfVectorizer(ngram_range=(1,2), max_df=0.9, min_df=2, token_pattern='(\\S+)')"
   ]
  },
  {
   "cell_type": "code",
   "execution_count": 419,
   "id": "f53866e7",
   "metadata": {},
   "outputs": [],
   "source": [
    "# get tf-idf values\n",
    "tf_idf_matrix = tfidf_vectorizer.fit_transform(df_tf['product_name'])"
   ]
  },
  {
   "cell_type": "code",
   "execution_count": 420,
   "id": "a5ca3581",
   "metadata": {},
   "outputs": [
    {
     "data": {
      "text/plain": [
       "(41819, 26321)"
      ]
     },
     "execution_count": 420,
     "metadata": {},
     "output_type": "execute_result"
    }
   ],
   "source": [
    "tf_idf_matrix.shape"
   ]
  },
  {
   "cell_type": "markdown",
   "id": "4862f4f9",
   "metadata": {},
   "source": [
    "## 4. Computing cosine similarity"
   ]
  },
  {
   "cell_type": "code",
   "execution_count": 421,
   "id": "33bddfd8",
   "metadata": {},
   "outputs": [],
   "source": [
    "matches = cosine_similarity(tf_idf_matrix, tf_idf_matrix.transpose(), 25, 0)"
   ]
  },
  {
   "cell_type": "code",
   "execution_count": 422,
   "id": "d4da2f78",
   "metadata": {},
   "outputs": [
    {
     "data": {
      "text/plain": [
       "(41819, 41819)"
      ]
     },
     "execution_count": 422,
     "metadata": {},
     "output_type": "execute_result"
    }
   ],
   "source": [
    "matches.shape"
   ]
  },
  {
   "cell_type": "markdown",
   "id": "3c784f93",
   "metadata": {},
   "source": [
    "### Create a match table to show the similarity scores"
   ]
  },
  {
   "cell_type": "code",
   "execution_count": 423,
   "id": "92fb059b",
   "metadata": {},
   "outputs": [],
   "source": [
    "matches_df = pd.DataFrame()\n",
    "matches_df = get_matches_df(matches, df_tf['product_name'], top=False)"
   ]
  },
  {
   "cell_type": "code",
   "execution_count": 424,
   "id": "8f378ed7",
   "metadata": {},
   "outputs": [],
   "source": [
    "matches_df = matches_df.drop_duplicates().reset_index(drop=True)"
   ]
  },
  {
   "cell_type": "code",
   "execution_count": 425,
   "id": "a794090f",
   "metadata": {},
   "outputs": [
    {
     "data": {
      "text/plain": [
       "(41819, 41819)"
      ]
     },
     "execution_count": 425,
     "metadata": {},
     "output_type": "execute_result"
    }
   ],
   "source": [
    "matches.shape"
   ]
  },
  {
   "cell_type": "code",
   "execution_count": 426,
   "id": "994c565f",
   "metadata": {},
   "outputs": [
    {
     "data": {
      "text/html": [
       "<div>\n",
       "<style scoped>\n",
       "    .dataframe tbody tr th:only-of-type {\n",
       "        vertical-align: middle;\n",
       "    }\n",
       "\n",
       "    .dataframe tbody tr th {\n",
       "        vertical-align: top;\n",
       "    }\n",
       "\n",
       "    .dataframe thead th {\n",
       "        text-align: right;\n",
       "    }\n",
       "</style>\n",
       "<table border=\"1\" class=\"dataframe\">\n",
       "  <thead>\n",
       "    <tr style=\"text-align: right;\">\n",
       "      <th></th>\n",
       "      <th>product_name</th>\n",
       "      <th>match</th>\n",
       "      <th>similarity_score</th>\n",
       "    </tr>\n",
       "  </thead>\n",
       "  <tbody>\n",
       "    <tr>\n",
       "      <th>0</th>\n",
       "      <td>aunt bessies hearty homely dumpling mix 140g</td>\n",
       "      <td>aunt bessies hearty homely dumpling mix 140g</td>\n",
       "      <td>1.000000</td>\n",
       "    </tr>\n",
       "    <tr>\n",
       "      <th>1</th>\n",
       "      <td>aunt bessies hearty homely dumpling mix 140g</td>\n",
       "      <td>aunt bessies dumpling mix 140g</td>\n",
       "      <td>0.909142</td>\n",
       "    </tr>\n",
       "    <tr>\n",
       "      <th>2</th>\n",
       "      <td>aunt bessies hearty homely dumpling mix 140g</td>\n",
       "      <td>aunt bessies dumpling mix</td>\n",
       "      <td>0.747339</td>\n",
       "    </tr>\n",
       "    <tr>\n",
       "      <th>3</th>\n",
       "      <td>aunt bessies hearty homely dumpling mix 140g</td>\n",
       "      <td>aunt bessies rosties</td>\n",
       "      <td>0.575958</td>\n",
       "    </tr>\n",
       "    <tr>\n",
       "      <th>4</th>\n",
       "      <td>aunt bessies hearty homely dumpling mix 140g</td>\n",
       "      <td>aunt bessies</td>\n",
       "      <td>0.575958</td>\n",
       "    </tr>\n",
       "  </tbody>\n",
       "</table>\n",
       "</div>"
      ],
      "text/plain": [
       "                                   product_name  \\\n",
       "0  aunt bessies hearty homely dumpling mix 140g   \n",
       "1  aunt bessies hearty homely dumpling mix 140g   \n",
       "2  aunt bessies hearty homely dumpling mix 140g   \n",
       "3  aunt bessies hearty homely dumpling mix 140g   \n",
       "4  aunt bessies hearty homely dumpling mix 140g   \n",
       "\n",
       "                                          match  similarity_score  \n",
       "0  aunt bessies hearty homely dumpling mix 140g          1.000000  \n",
       "1                aunt bessies dumpling mix 140g          0.909142  \n",
       "2                     aunt bessies dumpling mix          0.747339  \n",
       "3                          aunt bessies rosties          0.575958  \n",
       "4                                  aunt bessies          0.575958  "
      ]
     },
     "execution_count": 426,
     "metadata": {},
     "output_type": "execute_result"
    }
   ],
   "source": [
    "matches_df.head()"
   ]
  },
  {
   "cell_type": "markdown",
   "id": "beaf6136",
   "metadata": {},
   "source": [
    "### Products without a match"
   ]
  },
  {
   "cell_type": "code",
   "execution_count": 427,
   "id": "b844e753",
   "metadata": {},
   "outputs": [],
   "source": [
    "prod_list = list(df_tf.product_name.unique())\n",
    "match_list = list(pd.unique(matches_df[['product_name', 'match']].values.ravel('K')))"
   ]
  },
  {
   "cell_type": "code",
   "execution_count": 428,
   "id": "61a88414",
   "metadata": {},
   "outputs": [],
   "source": [
    "not_match = []\n",
    "for prod_ in prod_list:\n",
    "    if prod_ not in match_list:\n",
    "        not_match.append(prod_)"
   ]
  },
  {
   "cell_type": "code",
   "execution_count": 429,
   "id": "148450f0",
   "metadata": {},
   "outputs": [
    {
     "name": "stdout",
     "output_type": "stream",
     "text": [
      "Number of products without match: 84\n",
      "Percentage of products without match: 0.002009\n"
     ]
    }
   ],
   "source": [
    "print(f'Number of products without match: {len(not_match)}')\n",
    "print(f'Percentage of products without match: {round(len(not_match)/len(prod_list), 6)}')"
   ]
  },
  {
   "cell_type": "markdown",
   "id": "6a1da8db",
   "metadata": {},
   "source": [
    "### Who are they?"
   ]
  },
  {
   "cell_type": "code",
   "execution_count": 430,
   "id": "e542cd97",
   "metadata": {},
   "outputs": [
    {
     "data": {
      "text/plain": [
       "['70clbacardi', 'amareto', 'andrexwashlets', 'asparagus']"
      ]
     },
     "execution_count": 430,
     "metadata": {},
     "output_type": "execute_result"
    }
   ],
   "source": [
    "not_match[:4]"
   ]
  },
  {
   "cell_type": "markdown",
   "id": "eb597e41",
   "metadata": {},
   "source": [
    "## 5. Grouping products"
   ]
  },
  {
   "cell_type": "markdown",
   "id": "88d37335",
   "metadata": {},
   "source": [
    "### 5.1 Fuzzy ratios calculation"
   ]
  },
  {
   "cell_type": "code",
   "execution_count": 431,
   "id": "72588a1d",
   "metadata": {},
   "outputs": [],
   "source": [
    "matches_df['fuzz_ratio'] = matches_df.apply(lambda x: fuzz.token_sort_ratio(x['product_name'], x['match']), axis=1)"
   ]
  },
  {
   "cell_type": "code",
   "execution_count": 432,
   "id": "292d387a",
   "metadata": {},
   "outputs": [
    {
     "data": {
      "text/html": [
       "<div>\n",
       "<style scoped>\n",
       "    .dataframe tbody tr th:only-of-type {\n",
       "        vertical-align: middle;\n",
       "    }\n",
       "\n",
       "    .dataframe tbody tr th {\n",
       "        vertical-align: top;\n",
       "    }\n",
       "\n",
       "    .dataframe thead th {\n",
       "        text-align: right;\n",
       "    }\n",
       "</style>\n",
       "<table border=\"1\" class=\"dataframe\">\n",
       "  <thead>\n",
       "    <tr style=\"text-align: right;\">\n",
       "      <th></th>\n",
       "      <th>product_name</th>\n",
       "      <th>match</th>\n",
       "      <th>similarity_score</th>\n",
       "      <th>fuzz_ratio</th>\n",
       "    </tr>\n",
       "  </thead>\n",
       "  <tbody>\n",
       "    <tr>\n",
       "      <th>0</th>\n",
       "      <td>aunt bessies hearty homely dumpling mix 140g</td>\n",
       "      <td>aunt bessies hearty homely dumpling mix 140g</td>\n",
       "      <td>1.000000</td>\n",
       "      <td>100</td>\n",
       "    </tr>\n",
       "    <tr>\n",
       "      <th>1</th>\n",
       "      <td>aunt bessies hearty homely dumpling mix 140g</td>\n",
       "      <td>aunt bessies dumpling mix 140g</td>\n",
       "      <td>0.909142</td>\n",
       "      <td>81</td>\n",
       "    </tr>\n",
       "    <tr>\n",
       "      <th>2</th>\n",
       "      <td>aunt bessies hearty homely dumpling mix 140g</td>\n",
       "      <td>aunt bessies dumpling mix</td>\n",
       "      <td>0.747339</td>\n",
       "      <td>72</td>\n",
       "    </tr>\n",
       "    <tr>\n",
       "      <th>3</th>\n",
       "      <td>aunt bessies hearty homely dumpling mix 140g</td>\n",
       "      <td>aunt bessies rosties</td>\n",
       "      <td>0.575958</td>\n",
       "      <td>50</td>\n",
       "    </tr>\n",
       "    <tr>\n",
       "      <th>4</th>\n",
       "      <td>aunt bessies hearty homely dumpling mix 140g</td>\n",
       "      <td>aunt bessies</td>\n",
       "      <td>0.575958</td>\n",
       "      <td>43</td>\n",
       "    </tr>\n",
       "  </tbody>\n",
       "</table>\n",
       "</div>"
      ],
      "text/plain": [
       "                                   product_name  \\\n",
       "0  aunt bessies hearty homely dumpling mix 140g   \n",
       "1  aunt bessies hearty homely dumpling mix 140g   \n",
       "2  aunt bessies hearty homely dumpling mix 140g   \n",
       "3  aunt bessies hearty homely dumpling mix 140g   \n",
       "4  aunt bessies hearty homely dumpling mix 140g   \n",
       "\n",
       "                                          match  similarity_score  fuzz_ratio  \n",
       "0  aunt bessies hearty homely dumpling mix 140g          1.000000         100  \n",
       "1                aunt bessies dumpling mix 140g          0.909142          81  \n",
       "2                     aunt bessies dumpling mix          0.747339          72  \n",
       "3                          aunt bessies rosties          0.575958          50  \n",
       "4                                  aunt bessies          0.575958          43  "
      ]
     },
     "execution_count": 432,
     "metadata": {},
     "output_type": "execute_result"
    }
   ],
   "source": [
    "matches_df.head()"
   ]
  },
  {
   "cell_type": "markdown",
   "id": "29f46ebc",
   "metadata": {},
   "source": [
    "### 5.2 Keeping products with high similarity"
   ]
  },
  {
   "cell_type": "code",
   "execution_count": 433,
   "id": "5cdc99aa",
   "metadata": {},
   "outputs": [
    {
     "name": "stdout",
     "output_type": "stream",
     "text": [
      "Product Threshold: 85\n"
     ]
    }
   ],
   "source": [
    "print(f'Product Threshold: {threshold_products}')"
   ]
  },
  {
   "cell_type": "code",
   "execution_count": 434,
   "id": "aa7c5e64",
   "metadata": {},
   "outputs": [],
   "source": [
    "df_similars = matches_df[matches_df['fuzz_ratio'] >= threshold_products].\\\n",
    "                        drop_duplicates(subset=['product_name', 'match']).reset_index(drop=True)"
   ]
  },
  {
   "cell_type": "markdown",
   "id": "fc76a450",
   "metadata": {},
   "source": [
    "### 5.3 Logic to aggregate"
   ]
  },
  {
   "cell_type": "code",
   "execution_count": 435,
   "id": "b4ecedd7",
   "metadata": {},
   "outputs": [],
   "source": [
    "df_similars = df_similars.sort_values(by=['product_name', 'match']).reset_index(drop=True)"
   ]
  },
  {
   "cell_type": "markdown",
   "id": "4c2441b4",
   "metadata": {},
   "source": [
    "### a) Extending similarities"
   ]
  },
  {
   "cell_type": "code",
   "execution_count": 436,
   "id": "4716273a",
   "metadata": {},
   "outputs": [],
   "source": [
    "df_similars_copy = df_similars.drop(columns=['similarity_score', 'fuzz_ratio'], axis=1).copy()"
   ]
  },
  {
   "cell_type": "code",
   "execution_count": 437,
   "id": "be143efc",
   "metadata": {},
   "outputs": [],
   "source": [
    "df_similars_copy.rename(columns={'match': 'extended_match', 'product_name': 'match'}, inplace=True)"
   ]
  },
  {
   "cell_type": "code",
   "execution_count": 438,
   "id": "161b0e8c",
   "metadata": {},
   "outputs": [],
   "source": [
    "# extending\n",
    "df_similars_mrg = df_similars.merge(df_similars_copy, how='inner', on='match')"
   ]
  },
  {
   "cell_type": "code",
   "execution_count": 439,
   "id": "c184609b",
   "metadata": {},
   "outputs": [],
   "source": [
    "df_similars_mrg.drop('similarity_score', axis=1, inplace=True)"
   ]
  },
  {
   "cell_type": "code",
   "execution_count": 440,
   "id": "a83aa0c0",
   "metadata": {},
   "outputs": [],
   "source": [
    "# melt dataframe\n",
    "df_melt = df_similars_mrg.melt(id_vars=['product_name', 'fuzz_ratio'], var_name='which_match', value_name='candidate')"
   ]
  },
  {
   "cell_type": "code",
   "execution_count": 441,
   "id": "f01c61b9",
   "metadata": {},
   "outputs": [],
   "source": [
    "df_melt = df_melt.drop('which_match', axis=1)[['product_name', 'candidate', 'fuzz_ratio']]"
   ]
  },
  {
   "cell_type": "code",
   "execution_count": 442,
   "id": "c7f82911",
   "metadata": {},
   "outputs": [],
   "source": [
    "df_similars_ext = df_melt.drop_duplicates(['product_name', 'candidate']).sort_values(by=['product_name', 'candidate'])\\\n",
    "            .reset_index(drop=True)\n"
   ]
  },
  {
   "cell_type": "code",
   "execution_count": 443,
   "id": "47b1c68a",
   "metadata": {},
   "outputs": [
    {
     "data": {
      "text/html": [
       "<div>\n",
       "<style scoped>\n",
       "    .dataframe tbody tr th:only-of-type {\n",
       "        vertical-align: middle;\n",
       "    }\n",
       "\n",
       "    .dataframe tbody tr th {\n",
       "        vertical-align: top;\n",
       "    }\n",
       "\n",
       "    .dataframe thead th {\n",
       "        text-align: right;\n",
       "    }\n",
       "</style>\n",
       "<table border=\"1\" class=\"dataframe\">\n",
       "  <thead>\n",
       "    <tr style=\"text-align: right;\">\n",
       "      <th></th>\n",
       "      <th>product_name</th>\n",
       "      <th>candidate</th>\n",
       "      <th>fuzz_ratio</th>\n",
       "    </tr>\n",
       "  </thead>\n",
       "  <tbody>\n",
       "    <tr>\n",
       "      <th>0</th>\n",
       "      <td>1 kg baker adult beef dog food</td>\n",
       "      <td>1 kg baker adult beef dog food</td>\n",
       "      <td>100</td>\n",
       "    </tr>\n",
       "    <tr>\n",
       "      <th>1</th>\n",
       "      <td>1 kg happy shopper plain flour</td>\n",
       "      <td>1 kg happy shopper plain flour</td>\n",
       "      <td>100</td>\n",
       "    </tr>\n",
       "    <tr>\n",
       "      <th>2</th>\n",
       "      <td>1 kg happy shopper plain flour</td>\n",
       "      <td>happy shopper plain flour 1kg</td>\n",
       "      <td>92</td>\n",
       "    </tr>\n",
       "    <tr>\n",
       "      <th>3</th>\n",
       "      <td>1 kg happy shopper plain flour</td>\n",
       "      <td>happy shopper plain flour 500g</td>\n",
       "      <td>87</td>\n",
       "    </tr>\n",
       "    <tr>\n",
       "      <th>4</th>\n",
       "      <td>1 kg happy shopper plain flour</td>\n",
       "      <td>happy shopper selfraising flour 1kg</td>\n",
       "      <td>92</td>\n",
       "    </tr>\n",
       "  </tbody>\n",
       "</table>\n",
       "</div>"
      ],
      "text/plain": [
       "                     product_name                            candidate  \\\n",
       "0  1 kg baker adult beef dog food       1 kg baker adult beef dog food   \n",
       "1  1 kg happy shopper plain flour       1 kg happy shopper plain flour   \n",
       "2  1 kg happy shopper plain flour        happy shopper plain flour 1kg   \n",
       "3  1 kg happy shopper plain flour       happy shopper plain flour 500g   \n",
       "4  1 kg happy shopper plain flour  happy shopper selfraising flour 1kg   \n",
       "\n",
       "   fuzz_ratio  \n",
       "0         100  \n",
       "1         100  \n",
       "2          92  \n",
       "3          87  \n",
       "4          92  "
      ]
     },
     "execution_count": 443,
     "metadata": {},
     "output_type": "execute_result"
    }
   ],
   "source": [
    "df_similars_ext.head()"
   ]
  },
  {
   "cell_type": "markdown",
   "id": "4a56e4d3",
   "metadata": {},
   "source": [
    "### b) Package similarity"
   ]
  },
  {
   "cell_type": "code",
   "execution_count": 444,
   "id": "16355439",
   "metadata": {},
   "outputs": [],
   "source": [
    "reg_package = r'(\\d+x\\d+\\w+)|(\\d+ x \\d+\\w+)|(\\d+\\.+\\d+\\w+)|(\\d+\\.+\\d+ \\w+)|(\\d+ ml)|(\\d+ g)|(\\d+\\w+)|(\\d+ \\w+)'"
   ]
  },
  {
   "cell_type": "code",
   "execution_count": 445,
   "id": "53c3dbe7",
   "metadata": {},
   "outputs": [],
   "source": [
    "# extracting package\n",
    "df_similars_ext['package'] = package_extract(df_similars_ext, 'product_name', reg_package)\n",
    "df_similars_ext['package_candidate'] = package_extract(df_similars_ext, 'candidate', reg_package)"
   ]
  },
  {
   "cell_type": "code",
   "execution_count": 446,
   "id": "7cb61bf6",
   "metadata": {},
   "outputs": [],
   "source": [
    "# package similarity\n",
    "df_similars_ext['package_ratio'] = df_similars_ext.apply(lambda x: fuzz.token_sort_ratio(x['package'],\\\n",
    "                                                                                x['package_candidate']), axis=1)"
   ]
  },
  {
   "cell_type": "code",
   "execution_count": 447,
   "id": "9da2b571",
   "metadata": {},
   "outputs": [
    {
     "data": {
      "text/html": [
       "<div>\n",
       "<style scoped>\n",
       "    .dataframe tbody tr th:only-of-type {\n",
       "        vertical-align: middle;\n",
       "    }\n",
       "\n",
       "    .dataframe tbody tr th {\n",
       "        vertical-align: top;\n",
       "    }\n",
       "\n",
       "    .dataframe thead th {\n",
       "        text-align: right;\n",
       "    }\n",
       "</style>\n",
       "<table border=\"1\" class=\"dataframe\">\n",
       "  <thead>\n",
       "    <tr style=\"text-align: right;\">\n",
       "      <th></th>\n",
       "      <th>product_name</th>\n",
       "      <th>candidate</th>\n",
       "      <th>fuzz_ratio</th>\n",
       "      <th>package</th>\n",
       "      <th>package_candidate</th>\n",
       "      <th>package_ratio</th>\n",
       "    </tr>\n",
       "  </thead>\n",
       "  <tbody>\n",
       "    <tr>\n",
       "      <th>0</th>\n",
       "      <td>1 kg baker adult beef dog food</td>\n",
       "      <td>1 kg baker adult beef dog food</td>\n",
       "      <td>100</td>\n",
       "      <td>1 kg</td>\n",
       "      <td>1 kg</td>\n",
       "      <td>100</td>\n",
       "    </tr>\n",
       "    <tr>\n",
       "      <th>1</th>\n",
       "      <td>1 kg happy shopper plain flour</td>\n",
       "      <td>1 kg happy shopper plain flour</td>\n",
       "      <td>100</td>\n",
       "      <td>1 kg</td>\n",
       "      <td>1 kg</td>\n",
       "      <td>100</td>\n",
       "    </tr>\n",
       "    <tr>\n",
       "      <th>2</th>\n",
       "      <td>1 kg happy shopper plain flour</td>\n",
       "      <td>happy shopper plain flour 1kg</td>\n",
       "      <td>92</td>\n",
       "      <td>1 kg</td>\n",
       "      <td>1kg</td>\n",
       "      <td>86</td>\n",
       "    </tr>\n",
       "    <tr>\n",
       "      <th>3</th>\n",
       "      <td>1 kg happy shopper plain flour</td>\n",
       "      <td>happy shopper plain flour 500g</td>\n",
       "      <td>87</td>\n",
       "      <td>1 kg</td>\n",
       "      <td>500g</td>\n",
       "      <td>25</td>\n",
       "    </tr>\n",
       "    <tr>\n",
       "      <th>4</th>\n",
       "      <td>1 kg happy shopper plain flour</td>\n",
       "      <td>happy shopper selfraising flour 1kg</td>\n",
       "      <td>92</td>\n",
       "      <td>1 kg</td>\n",
       "      <td>1kg</td>\n",
       "      <td>86</td>\n",
       "    </tr>\n",
       "  </tbody>\n",
       "</table>\n",
       "</div>"
      ],
      "text/plain": [
       "                     product_name                            candidate  \\\n",
       "0  1 kg baker adult beef dog food       1 kg baker adult beef dog food   \n",
       "1  1 kg happy shopper plain flour       1 kg happy shopper plain flour   \n",
       "2  1 kg happy shopper plain flour        happy shopper plain flour 1kg   \n",
       "3  1 kg happy shopper plain flour       happy shopper plain flour 500g   \n",
       "4  1 kg happy shopper plain flour  happy shopper selfraising flour 1kg   \n",
       "\n",
       "   fuzz_ratio package package_candidate  package_ratio  \n",
       "0         100    1 kg              1 kg            100  \n",
       "1         100    1 kg              1 kg            100  \n",
       "2          92    1 kg               1kg             86  \n",
       "3          87    1 kg              500g             25  \n",
       "4          92    1 kg               1kg             86  "
      ]
     },
     "execution_count": 447,
     "metadata": {},
     "output_type": "execute_result"
    }
   ],
   "source": [
    "df_similars_ext.head()"
   ]
  },
  {
   "cell_type": "markdown",
   "id": "b0afbbc8",
   "metadata": {},
   "source": [
    "### c) Tansforming product names into integers (easier to compare)"
   ]
  },
  {
   "cell_type": "code",
   "execution_count": 448,
   "id": "9a680728",
   "metadata": {},
   "outputs": [],
   "source": [
    "product_index_dict = dict(zip(df_tf['product_name'], df_tf.index))\n",
    "index_product_dict = dict(zip(df_tf.index, df_tf['product_name']))"
   ]
  },
  {
   "cell_type": "code",
   "execution_count": 449,
   "id": "9d3a79dc",
   "metadata": {},
   "outputs": [],
   "source": [
    "for col in ['product_name', 'candidate']:\n",
    "    df_similars_ext[col] = df_similars_ext[col].map(product_index_dict)"
   ]
  },
  {
   "cell_type": "code",
   "execution_count": 450,
   "id": "90ee3584",
   "metadata": {},
   "outputs": [
    {
     "data": {
      "text/html": [
       "<div>\n",
       "<style scoped>\n",
       "    .dataframe tbody tr th:only-of-type {\n",
       "        vertical-align: middle;\n",
       "    }\n",
       "\n",
       "    .dataframe tbody tr th {\n",
       "        vertical-align: top;\n",
       "    }\n",
       "\n",
       "    .dataframe thead th {\n",
       "        text-align: right;\n",
       "    }\n",
       "</style>\n",
       "<table border=\"1\" class=\"dataframe\">\n",
       "  <thead>\n",
       "    <tr style=\"text-align: right;\">\n",
       "      <th></th>\n",
       "      <th>product_name</th>\n",
       "      <th>candidate</th>\n",
       "      <th>fuzz_ratio</th>\n",
       "      <th>package</th>\n",
       "      <th>package_candidate</th>\n",
       "      <th>package_ratio</th>\n",
       "    </tr>\n",
       "  </thead>\n",
       "  <tbody>\n",
       "    <tr>\n",
       "      <th>0</th>\n",
       "      <td>867</td>\n",
       "      <td>867</td>\n",
       "      <td>100</td>\n",
       "      <td>1 kg</td>\n",
       "      <td>1 kg</td>\n",
       "      <td>100</td>\n",
       "    </tr>\n",
       "    <tr>\n",
       "      <th>1</th>\n",
       "      <td>81</td>\n",
       "      <td>81</td>\n",
       "      <td>100</td>\n",
       "      <td>1 kg</td>\n",
       "      <td>1 kg</td>\n",
       "      <td>100</td>\n",
       "    </tr>\n",
       "    <tr>\n",
       "      <th>2</th>\n",
       "      <td>81</td>\n",
       "      <td>18972</td>\n",
       "      <td>92</td>\n",
       "      <td>1 kg</td>\n",
       "      <td>1kg</td>\n",
       "      <td>86</td>\n",
       "    </tr>\n",
       "    <tr>\n",
       "      <th>3</th>\n",
       "      <td>81</td>\n",
       "      <td>18973</td>\n",
       "      <td>87</td>\n",
       "      <td>1 kg</td>\n",
       "      <td>500g</td>\n",
       "      <td>25</td>\n",
       "    </tr>\n",
       "    <tr>\n",
       "      <th>4</th>\n",
       "      <td>81</td>\n",
       "      <td>19009</td>\n",
       "      <td>92</td>\n",
       "      <td>1 kg</td>\n",
       "      <td>1kg</td>\n",
       "      <td>86</td>\n",
       "    </tr>\n",
       "  </tbody>\n",
       "</table>\n",
       "</div>"
      ],
      "text/plain": [
       "   product_name  candidate  fuzz_ratio package package_candidate  \\\n",
       "0           867        867         100    1 kg              1 kg   \n",
       "1            81         81         100    1 kg              1 kg   \n",
       "2            81      18972          92    1 kg               1kg   \n",
       "3            81      18973          87    1 kg              500g   \n",
       "4            81      19009          92    1 kg               1kg   \n",
       "\n",
       "   package_ratio  \n",
       "0            100  \n",
       "1            100  \n",
       "2             86  \n",
       "3             25  \n",
       "4             86  "
      ]
     },
     "execution_count": 450,
     "metadata": {},
     "output_type": "execute_result"
    }
   ],
   "source": [
    "df_similars_ext.head()"
   ]
  },
  {
   "cell_type": "markdown",
   "id": "4d86081e",
   "metadata": {},
   "source": [
    "### d) Package filter + Column selection"
   ]
  },
  {
   "cell_type": "code",
   "execution_count": 451,
   "id": "1130f746",
   "metadata": {},
   "outputs": [
    {
     "name": "stdout",
     "output_type": "stream",
     "text": [
      "Package Threshold: 75\n"
     ]
    }
   ],
   "source": [
    "print(f'Package Threshold: {threshold_package}')"
   ]
  },
  {
   "cell_type": "code",
   "execution_count": 452,
   "id": "a5624502",
   "metadata": {},
   "outputs": [],
   "source": [
    "df_clean = df_similars_ext[df_similars_ext['package_ratio'] > threshold_package].reset_index(drop=True)"
   ]
  },
  {
   "cell_type": "code",
   "execution_count": 453,
   "id": "f7cff373",
   "metadata": {},
   "outputs": [],
   "source": [
    "df_clean = df_clean.loc[:, ['product_name', 'candidate']]"
   ]
  },
  {
   "cell_type": "code",
   "execution_count": 454,
   "id": "10a8f5a9",
   "metadata": {},
   "outputs": [
    {
     "data": {
      "text/html": [
       "<div>\n",
       "<style scoped>\n",
       "    .dataframe tbody tr th:only-of-type {\n",
       "        vertical-align: middle;\n",
       "    }\n",
       "\n",
       "    .dataframe tbody tr th {\n",
       "        vertical-align: top;\n",
       "    }\n",
       "\n",
       "    .dataframe thead th {\n",
       "        text-align: right;\n",
       "    }\n",
       "</style>\n",
       "<table border=\"1\" class=\"dataframe\">\n",
       "  <thead>\n",
       "    <tr style=\"text-align: right;\">\n",
       "      <th></th>\n",
       "      <th>product_name</th>\n",
       "      <th>candidate</th>\n",
       "    </tr>\n",
       "  </thead>\n",
       "  <tbody>\n",
       "    <tr>\n",
       "      <th>0</th>\n",
       "      <td>867</td>\n",
       "      <td>867</td>\n",
       "    </tr>\n",
       "    <tr>\n",
       "      <th>1</th>\n",
       "      <td>81</td>\n",
       "      <td>81</td>\n",
       "    </tr>\n",
       "    <tr>\n",
       "      <th>2</th>\n",
       "      <td>81</td>\n",
       "      <td>18972</td>\n",
       "    </tr>\n",
       "    <tr>\n",
       "      <th>3</th>\n",
       "      <td>81</td>\n",
       "      <td>19009</td>\n",
       "    </tr>\n",
       "    <tr>\n",
       "      <th>4</th>\n",
       "      <td>80</td>\n",
       "      <td>80</td>\n",
       "    </tr>\n",
       "  </tbody>\n",
       "</table>\n",
       "</div>"
      ],
      "text/plain": [
       "   product_name  candidate\n",
       "0           867        867\n",
       "1            81         81\n",
       "2            81      18972\n",
       "3            81      19009\n",
       "4            80         80"
      ]
     },
     "execution_count": 454,
     "metadata": {},
     "output_type": "execute_result"
    }
   ],
   "source": [
    "df_clean.head()"
   ]
  },
  {
   "cell_type": "markdown",
   "id": "ccce2606",
   "metadata": {},
   "source": [
    "### e ) Functions"
   ]
  },
  {
   "cell_type": "code",
   "execution_count": 455,
   "id": "6b4e0375",
   "metadata": {},
   "outputs": [],
   "source": [
    "def product_name_replacement(df, dic_):\n",
    "    df['product_name'] = df['product_name'].map(dic_)\n",
    "    df['candidate'] = df['candidate'].map(dic_)\n",
    "    return df"
   ]
  },
  {
   "cell_type": "markdown",
   "id": "914dbda0",
   "metadata": {},
   "source": [
    "### f) Procedure: for each product"
   ]
  },
  {
   "cell_type": "code",
   "execution_count": 456,
   "id": "c2ad9b33",
   "metadata": {},
   "outputs": [],
   "source": [
    "clean_leaders = df_clean['product_name'].unique()"
   ]
  },
  {
   "cell_type": "code",
   "execution_count": 457,
   "id": "aec27d3e",
   "metadata": {},
   "outputs": [
    {
     "data": {
      "text/plain": [
       "(41735, 41735)"
      ]
     },
     "execution_count": 457,
     "metadata": {},
     "output_type": "execute_result"
    }
   ],
   "source": [
    "len(clean_leaders), len(df_similars['match'].unique())"
   ]
  },
  {
   "cell_type": "code",
   "execution_count": 458,
   "id": "23838aab",
   "metadata": {},
   "outputs": [
    {
     "data": {
      "text/html": [
       "<div>\n",
       "<style scoped>\n",
       "    .dataframe tbody tr th:only-of-type {\n",
       "        vertical-align: middle;\n",
       "    }\n",
       "\n",
       "    .dataframe tbody tr th {\n",
       "        vertical-align: top;\n",
       "    }\n",
       "\n",
       "    .dataframe thead th {\n",
       "        text-align: right;\n",
       "    }\n",
       "</style>\n",
       "<table border=\"1\" class=\"dataframe\">\n",
       "  <thead>\n",
       "    <tr style=\"text-align: right;\">\n",
       "      <th></th>\n",
       "      <th>product_name</th>\n",
       "      <th>candidate</th>\n",
       "    </tr>\n",
       "  </thead>\n",
       "  <tbody>\n",
       "    <tr>\n",
       "      <th>0</th>\n",
       "      <td>867</td>\n",
       "      <td>867</td>\n",
       "    </tr>\n",
       "    <tr>\n",
       "      <th>1</th>\n",
       "      <td>81</td>\n",
       "      <td>81</td>\n",
       "    </tr>\n",
       "    <tr>\n",
       "      <th>2</th>\n",
       "      <td>81</td>\n",
       "      <td>18972</td>\n",
       "    </tr>\n",
       "    <tr>\n",
       "      <th>3</th>\n",
       "      <td>81</td>\n",
       "      <td>19009</td>\n",
       "    </tr>\n",
       "    <tr>\n",
       "      <th>4</th>\n",
       "      <td>80</td>\n",
       "      <td>80</td>\n",
       "    </tr>\n",
       "  </tbody>\n",
       "</table>\n",
       "</div>"
      ],
      "text/plain": [
       "   product_name  candidate\n",
       "0           867        867\n",
       "1            81         81\n",
       "2            81      18972\n",
       "3            81      19009\n",
       "4            80         80"
      ]
     },
     "execution_count": 458,
     "metadata": {},
     "output_type": "execute_result"
    }
   ],
   "source": [
    "df_clean.head()"
   ]
  },
  {
   "cell_type": "code",
   "execution_count": 459,
   "id": "20ea0181",
   "metadata": {},
   "outputs": [],
   "source": [
    "# time before\n",
    "t_bef_group = time.time()"
   ]
  },
  {
   "cell_type": "code",
   "execution_count": 460,
   "id": "69b0f8f9",
   "metadata": {},
   "outputs": [],
   "source": [
    "# dataframe definition\n",
    "groups_df = pd.DataFrame(columns=['group_id', 'leader', 'member'])\n",
    "track_df = pd.DataFrame(columns=['group_id', 'member'])\n",
    "\n",
    "for leader in clean_leaders:\n",
    "    select_df = df_clean[df_clean['product_name'] == leader] \n",
    "    applicants_list = list(pd.unique(select_df[['product_name', 'candidate']].values.ravel('K')))\n",
    "    groups_df, track_df = verify_and_concat_groups(groups_df, track_df, leader, applicants_list)"
   ]
  },
  {
   "cell_type": "code",
   "execution_count": 461,
   "id": "38279163",
   "metadata": {},
   "outputs": [
    {
     "name": "stdout",
     "output_type": "stream",
     "text": [
      "Time to run procedure: 11.351 minutes!\n"
     ]
    }
   ],
   "source": [
    "# time run\n",
    "t_run = time.time()-t_bef_group\n",
    "print(f'Time to run procedure: {round(t_run/60, 3)} minutes!')"
   ]
  },
  {
   "cell_type": "code",
   "execution_count": 462,
   "id": "e21244b9",
   "metadata": {},
   "outputs": [
    {
     "name": "stdout",
     "output_type": "stream",
     "text": [
      "Number of groups: 24037\n"
     ]
    }
   ],
   "source": [
    "print(f'Number of groups: {len(groups_df[\"group_id\"].unique())}')"
   ]
  },
  {
   "cell_type": "code",
   "execution_count": 463,
   "id": "fea8232e",
   "metadata": {},
   "outputs": [],
   "source": [
    "# replacing product names\n",
    "groups_df['leader'] = groups_df['leader'].map(index_product_dict)\n",
    "groups_df['member'] = groups_df['member'].map(index_product_dict)"
   ]
  },
  {
   "cell_type": "code",
   "execution_count": 464,
   "id": "1d49f322",
   "metadata": {},
   "outputs": [
    {
     "data": {
      "text/html": [
       "<div>\n",
       "<style scoped>\n",
       "    .dataframe tbody tr th:only-of-type {\n",
       "        vertical-align: middle;\n",
       "    }\n",
       "\n",
       "    .dataframe tbody tr th {\n",
       "        vertical-align: top;\n",
       "    }\n",
       "\n",
       "    .dataframe thead th {\n",
       "        text-align: right;\n",
       "    }\n",
       "</style>\n",
       "<table border=\"1\" class=\"dataframe\">\n",
       "  <thead>\n",
       "    <tr style=\"text-align: right;\">\n",
       "      <th></th>\n",
       "      <th>group_id</th>\n",
       "      <th>leader</th>\n",
       "      <th>member</th>\n",
       "    </tr>\n",
       "  </thead>\n",
       "  <tbody>\n",
       "    <tr>\n",
       "      <th>0</th>\n",
       "      <td>0</td>\n",
       "      <td>1 kg baker adult beef dog food</td>\n",
       "      <td>1 kg baker adult beef dog food</td>\n",
       "    </tr>\n",
       "    <tr>\n",
       "      <th>1</th>\n",
       "      <td>2</td>\n",
       "      <td>1 kg happy shopper self raising flour</td>\n",
       "      <td>1 kg happy shopper self raising flour</td>\n",
       "    </tr>\n",
       "    <tr>\n",
       "      <th>2</th>\n",
       "      <td>12</td>\n",
       "      <td>1 ltr carter low cal tonic</td>\n",
       "      <td>1 ltr carter low cal tonic</td>\n",
       "    </tr>\n",
       "    <tr>\n",
       "      <th>3</th>\n",
       "      <td>14</td>\n",
       "      <td>1 ltr chekov</td>\n",
       "      <td>1 ltr chekov</td>\n",
       "    </tr>\n",
       "    <tr>\n",
       "      <th>4</th>\n",
       "      <td>18</td>\n",
       "      <td>1 ltr e energy drink</td>\n",
       "      <td>1 ltr e energy drink</td>\n",
       "    </tr>\n",
       "  </tbody>\n",
       "</table>\n",
       "</div>"
      ],
      "text/plain": [
       "  group_id                                 leader  \\\n",
       "0        0         1 kg baker adult beef dog food   \n",
       "1        2  1 kg happy shopper self raising flour   \n",
       "2       12             1 ltr carter low cal tonic   \n",
       "3       14                           1 ltr chekov   \n",
       "4       18                   1 ltr e energy drink   \n",
       "\n",
       "                                  member  \n",
       "0         1 kg baker adult beef dog food  \n",
       "1  1 kg happy shopper self raising flour  \n",
       "2             1 ltr carter low cal tonic  \n",
       "3                           1 ltr chekov  \n",
       "4                   1 ltr e energy drink  "
      ]
     },
     "execution_count": 464,
     "metadata": {},
     "output_type": "execute_result"
    }
   ],
   "source": [
    "groups_df.head()"
   ]
  },
  {
   "cell_type": "code",
   "execution_count": 465,
   "id": "830aa246",
   "metadata": {},
   "outputs": [
    {
     "name": "stdout",
     "output_type": "stream",
     "text": [
      "Time to run it all: 14.614 minutes!\n"
     ]
    }
   ],
   "source": [
    "# Complete run time\n",
    "t_complete = time.time()-t_initial\n",
    "print(f'Time to run it all: {round(t_complete/60, 3)} minutes!')"
   ]
  },
  {
   "cell_type": "markdown",
   "id": "6352f704",
   "metadata": {},
   "source": [
    "## 6. Validation"
   ]
  },
  {
   "cell_type": "markdown",
   "id": "104b2b8b",
   "metadata": {},
   "source": [
    "### 6.1 Products added"
   ]
  },
  {
   "cell_type": "code",
   "execution_count": 466,
   "id": "cc8dda7a",
   "metadata": {},
   "outputs": [
    {
     "data": {
      "text/plain": [
       "41819"
      ]
     },
     "execution_count": 466,
     "metadata": {},
     "output_type": "execute_result"
    }
   ],
   "source": [
    "original_products = df_tf['product_name'].unique()\n",
    "len(original_products)"
   ]
  },
  {
   "cell_type": "code",
   "execution_count": 467,
   "id": "7284bb38",
   "metadata": {},
   "outputs": [
    {
     "data": {
      "text/plain": [
       "41735"
      ]
     },
     "execution_count": 467,
     "metadata": {},
     "output_type": "execute_result"
    }
   ],
   "source": [
    "added_products = pd.unique(groups_df[['leader', 'member']].values.ravel('K'))\n",
    "len(added_products)"
   ]
  },
  {
   "cell_type": "code",
   "execution_count": 468,
   "id": "7c5b2f70",
   "metadata": {},
   "outputs": [],
   "source": [
    "not_added = []\n",
    "for prod_ in original_products:\n",
    "    if prod_ not in added_products:\n",
    "        not_added.append(prod_)"
   ]
  },
  {
   "cell_type": "code",
   "execution_count": 469,
   "id": "05863699",
   "metadata": {},
   "outputs": [
    {
     "name": "stdout",
     "output_type": "stream",
     "text": [
      "Number of products without group: 84\n"
     ]
    }
   ],
   "source": [
    "print(f'Number of products without group: {len(not_added)}')"
   ]
  },
  {
   "cell_type": "markdown",
   "id": "63210cb7",
   "metadata": {},
   "source": [
    "### Who are they?"
   ]
  },
  {
   "cell_type": "code",
   "execution_count": 470,
   "id": "0f2625ef",
   "metadata": {},
   "outputs": [
    {
     "data": {
      "text/plain": [
       "['sodastream cylinder',\n",
       " 'tiger640ml',\n",
       " 'tights',\n",
       " 'toothpick',\n",
       " 'ultratape sellotape',\n",
       " 'yazoobanana400ml',\n",
       " 'yazoochocolate400ml',\n",
       " 'yazoostrawberry400ml',\n",
       " 'glenmoange',\n",
       " 'starbust']"
      ]
     },
     "execution_count": 470,
     "metadata": {},
     "output_type": "execute_result"
    }
   ],
   "source": [
    "not_added[-10:]"
   ]
  },
  {
   "cell_type": "markdown",
   "id": "b86aa0f4",
   "metadata": {},
   "source": [
    "### 6.2 Duplicated leaders / members ?? (in 2 or more groups)"
   ]
  },
  {
   "cell_type": "code",
   "execution_count": 471,
   "id": "52858cfd",
   "metadata": {},
   "outputs": [],
   "source": [
    "# uniques: group_id - leader\n",
    "leaders_df = groups_df[['group_id', 'leader']].drop_duplicates().reset_index(drop=True)"
   ]
  },
  {
   "cell_type": "code",
   "execution_count": 472,
   "id": "2c0fdf8b",
   "metadata": {},
   "outputs": [
    {
     "data": {
      "text/html": [
       "<div>\n",
       "<style scoped>\n",
       "    .dataframe tbody tr th:only-of-type {\n",
       "        vertical-align: middle;\n",
       "    }\n",
       "\n",
       "    .dataframe tbody tr th {\n",
       "        vertical-align: top;\n",
       "    }\n",
       "\n",
       "    .dataframe thead th {\n",
       "        text-align: right;\n",
       "    }\n",
       "</style>\n",
       "<table border=\"1\" class=\"dataframe\">\n",
       "  <thead>\n",
       "    <tr style=\"text-align: right;\">\n",
       "      <th></th>\n",
       "      <th>group_id</th>\n",
       "      <th>leader</th>\n",
       "    </tr>\n",
       "  </thead>\n",
       "  <tbody>\n",
       "  </tbody>\n",
       "</table>\n",
       "</div>"
      ],
      "text/plain": [
       "Empty DataFrame\n",
       "Columns: [group_id, leader]\n",
       "Index: []"
      ]
     },
     "execution_count": 472,
     "metadata": {},
     "output_type": "execute_result"
    }
   ],
   "source": [
    "# duplicated leaders\n",
    "leaders_df[leaders_df['leader'].duplicated() == True]"
   ]
  },
  {
   "cell_type": "code",
   "execution_count": 473,
   "id": "600cf754",
   "metadata": {},
   "outputs": [],
   "source": [
    "# uniques: group_id - member\n",
    "members_df = groups_df[['group_id', 'member']].drop_duplicates().reset_index(drop=True)"
   ]
  },
  {
   "cell_type": "code",
   "execution_count": 474,
   "id": "e4a6a8d7",
   "metadata": {},
   "outputs": [
    {
     "data": {
      "text/html": [
       "<div>\n",
       "<style scoped>\n",
       "    .dataframe tbody tr th:only-of-type {\n",
       "        vertical-align: middle;\n",
       "    }\n",
       "\n",
       "    .dataframe tbody tr th {\n",
       "        vertical-align: top;\n",
       "    }\n",
       "\n",
       "    .dataframe thead th {\n",
       "        text-align: right;\n",
       "    }\n",
       "</style>\n",
       "<table border=\"1\" class=\"dataframe\">\n",
       "  <thead>\n",
       "    <tr style=\"text-align: right;\">\n",
       "      <th></th>\n",
       "      <th>group_id</th>\n",
       "      <th>member</th>\n",
       "    </tr>\n",
       "  </thead>\n",
       "  <tbody>\n",
       "  </tbody>\n",
       "</table>\n",
       "</div>"
      ],
      "text/plain": [
       "Empty DataFrame\n",
       "Columns: [group_id, member]\n",
       "Index: []"
      ]
     },
     "execution_count": 474,
     "metadata": {},
     "output_type": "execute_result"
    }
   ],
   "source": [
    "# duplicated members\n",
    "members_df[members_df['member'].duplicated() == True]"
   ]
  },
  {
   "cell_type": "markdown",
   "id": "d1fca215",
   "metadata": {},
   "source": [
    "### 6.3 Adding not matched products"
   ]
  },
  {
   "cell_type": "markdown",
   "id": "4de57532",
   "metadata": {},
   "source": [
    "Products not added to the groups dataframe are because previously they demonstrated low similarity on the clusters generated with TF-IDF + Cosine Similarity layer. This why they are added as \"individual groups\"."
   ]
  },
  {
   "cell_type": "code",
   "execution_count": 475,
   "id": "9d2680f8",
   "metadata": {},
   "outputs": [],
   "source": [
    "max_id = groups_df['group_id'].max()"
   ]
  },
  {
   "cell_type": "code",
   "execution_count": 476,
   "id": "70089615",
   "metadata": {},
   "outputs": [],
   "source": [
    "not_added_df = pd.DataFrame(data={\n",
    "                    'group_id': range(max_id, max_id + len(not_added)),\n",
    "                    'leader': not_added,\n",
    "                    'member': not_added})"
   ]
  },
  {
   "cell_type": "code",
   "execution_count": 477,
   "id": "5b492523",
   "metadata": {},
   "outputs": [],
   "source": [
    "# concat to groups_df\n",
    "groups_df = pd.concat([groups_df, not_added_df], axis=0).reset_index(drop=True)"
   ]
  },
  {
   "cell_type": "code",
   "execution_count": 478,
   "id": "7acae51b",
   "metadata": {},
   "outputs": [],
   "source": [
    "# concat to track df\n",
    "track_df = pd.concat([track_df, not_added_df.loc[:, ['group_id', 'member']]], axis=0).reset_index(drop=True)"
   ]
  },
  {
   "cell_type": "markdown",
   "id": "d4f0ab1f",
   "metadata": {},
   "source": [
    "### 6.4 Saving results"
   ]
  },
  {
   "cell_type": "code",
   "execution_count": 479,
   "id": "310b3da2",
   "metadata": {},
   "outputs": [],
   "source": [
    "groups_df = groups_df.sort_values(by=['leader', 'member']).reset_index(drop=True)"
   ]
  },
  {
   "cell_type": "code",
   "execution_count": 480,
   "id": "1d8864b2",
   "metadata": {},
   "outputs": [],
   "source": [
    "groups_df.to_csv(f'outputs/groups_{country}_{threshold_products}_{threshold_package}.csv', index=False)"
   ]
  },
  {
   "cell_type": "markdown",
   "id": "f233d375",
   "metadata": {},
   "source": [
    "### 6.5 Samples"
   ]
  },
  {
   "cell_type": "code",
   "execution_count": 481,
   "id": "6dd7d221",
   "metadata": {},
   "outputs": [
    {
     "data": {
      "text/plain": [
       "(24121, 41819)"
      ]
     },
     "execution_count": 481,
     "metadata": {},
     "output_type": "execute_result"
    }
   ],
   "source": [
    "len(groups_df['leader'].unique()), len(groups_df['member'].unique())"
   ]
  },
  {
   "cell_type": "code",
   "execution_count": 482,
   "id": "9be4d5e0",
   "metadata": {},
   "outputs": [
    {
     "data": {
      "text/html": [
       "<div>\n",
       "<style scoped>\n",
       "    .dataframe tbody tr th:only-of-type {\n",
       "        vertical-align: middle;\n",
       "    }\n",
       "\n",
       "    .dataframe tbody tr th {\n",
       "        vertical-align: top;\n",
       "    }\n",
       "\n",
       "    .dataframe thead th {\n",
       "        text-align: right;\n",
       "    }\n",
       "</style>\n",
       "<table border=\"1\" class=\"dataframe\">\n",
       "  <thead>\n",
       "    <tr style=\"text-align: right;\">\n",
       "      <th></th>\n",
       "      <th>group_id</th>\n",
       "      <th>leader</th>\n",
       "      <th>member</th>\n",
       "    </tr>\n",
       "  </thead>\n",
       "  <tbody>\n",
       "    <tr>\n",
       "      <th>651</th>\n",
       "      <td>1211</td>\n",
       "      <td>70 cl cococariba</td>\n",
       "      <td>70 cl cococariba</td>\n",
       "    </tr>\n",
       "    <tr>\n",
       "      <th>6239</th>\n",
       "      <td>6433</td>\n",
       "      <td>can cocacola 330ml</td>\n",
       "      <td>can cocacola 330ml</td>\n",
       "    </tr>\n",
       "    <tr>\n",
       "      <th>8100</th>\n",
       "      <td>8296</td>\n",
       "      <td>coca cola</td>\n",
       "      <td>coca cola</td>\n",
       "    </tr>\n",
       "    <tr>\n",
       "      <th>8101</th>\n",
       "      <td>8296</td>\n",
       "      <td>coca cola</td>\n",
       "      <td>coca cola</td>\n",
       "    </tr>\n",
       "    <tr>\n",
       "      <th>8102</th>\n",
       "      <td>8298</td>\n",
       "      <td>coca cola 1.25 litre</td>\n",
       "      <td>coca cola 1.25 litre</td>\n",
       "    </tr>\n",
       "    <tr>\n",
       "      <th>8103</th>\n",
       "      <td>8300</td>\n",
       "      <td>coca cola 1.75lt 2.29</td>\n",
       "      <td>coca cola 1.75lt 2.29</td>\n",
       "    </tr>\n",
       "    <tr>\n",
       "      <th>8104</th>\n",
       "      <td>8302</td>\n",
       "      <td>coca cola 10 x 330ml</td>\n",
       "      <td>coca cola 10 x 330ml</td>\n",
       "    </tr>\n",
       "    <tr>\n",
       "      <th>8105</th>\n",
       "      <td>8304</td>\n",
       "      <td>coca cola 2l</td>\n",
       "      <td>coca cola 2l</td>\n",
       "    </tr>\n",
       "    <tr>\n",
       "      <th>8106</th>\n",
       "      <td>8306</td>\n",
       "      <td>coca cola 500 ml</td>\n",
       "      <td>coca cola 500 ml</td>\n",
       "    </tr>\n",
       "    <tr>\n",
       "      <th>8107</th>\n",
       "      <td>8310</td>\n",
       "      <td>coca cola 6pck</td>\n",
       "      <td>coca cola 6pck</td>\n",
       "    </tr>\n",
       "    <tr>\n",
       "      <th>8108</th>\n",
       "      <td>8312</td>\n",
       "      <td>coca cola can</td>\n",
       "      <td>coca cola can</td>\n",
       "    </tr>\n",
       "    <tr>\n",
       "      <th>8109</th>\n",
       "      <td>8313</td>\n",
       "      <td>coca cola can 250ml</td>\n",
       "      <td>coca cola can 250ml</td>\n",
       "    </tr>\n",
       "    <tr>\n",
       "      <th>8110</th>\n",
       "      <td>8325</td>\n",
       "      <td>coca cola classic 1.75lt</td>\n",
       "      <td>coca cola classic  1.5lt</td>\n",
       "    </tr>\n",
       "    <tr>\n",
       "      <th>8111</th>\n",
       "      <td>8325</td>\n",
       "      <td>coca cola classic 1.75lt</td>\n",
       "      <td>coca cola classic 1.75lt</td>\n",
       "    </tr>\n",
       "    <tr>\n",
       "      <th>8112</th>\n",
       "      <td>8331</td>\n",
       "      <td>coca cola diet coke</td>\n",
       "      <td>coca cola diet coke</td>\n",
       "    </tr>\n",
       "    <tr>\n",
       "      <th>8113</th>\n",
       "      <td>8333</td>\n",
       "      <td>coca cola frozen regular</td>\n",
       "      <td>coca cola frozen large</td>\n",
       "    </tr>\n",
       "    <tr>\n",
       "      <th>8114</th>\n",
       "      <td>8333</td>\n",
       "      <td>coca cola frozen regular</td>\n",
       "      <td>coca cola frozen regular</td>\n",
       "    </tr>\n",
       "    <tr>\n",
       "      <th>8115</th>\n",
       "      <td>8334</td>\n",
       "      <td>coca cola glass bottle 330ml</td>\n",
       "      <td>coca cola glass bottle 330ml</td>\n",
       "    </tr>\n",
       "    <tr>\n",
       "      <th>8116</th>\n",
       "      <td>8336</td>\n",
       "      <td>coca cola multipack 6 x 330ml</td>\n",
       "      <td>coca cola multipack 6 x 330ml</td>\n",
       "    </tr>\n",
       "    <tr>\n",
       "      <th>8117</th>\n",
       "      <td>8338</td>\n",
       "      <td>coca cola original 2 litre</td>\n",
       "      <td>coca cola original 2 litre</td>\n",
       "    </tr>\n",
       "    <tr>\n",
       "      <th>8118</th>\n",
       "      <td>8347</td>\n",
       "      <td>coca cola pack of 6 can</td>\n",
       "      <td>coca cola pack of 6 can</td>\n",
       "    </tr>\n",
       "    <tr>\n",
       "      <th>8119</th>\n",
       "      <td>8348</td>\n",
       "      <td>coca cola regular 1.5l</td>\n",
       "      <td>coca cola regular 1.5l</td>\n",
       "    </tr>\n",
       "    <tr>\n",
       "      <th>8120</th>\n",
       "      <td>8349</td>\n",
       "      <td>coca cola regular 1.75 l</td>\n",
       "      <td>coca cola regular 1.75 l</td>\n",
       "    </tr>\n",
       "    <tr>\n",
       "      <th>8121</th>\n",
       "      <td>8350</td>\n",
       "      <td>coca cola regular 330ml</td>\n",
       "      <td>coca cola regular 330ml</td>\n",
       "    </tr>\n",
       "    <tr>\n",
       "      <th>8122</th>\n",
       "      <td>8351</td>\n",
       "      <td>coca cola regular 4pk 4x330ml</td>\n",
       "      <td>coca cola regular 4pk 4x330ml</td>\n",
       "    </tr>\n",
       "    <tr>\n",
       "      <th>8123</th>\n",
       "      <td>8352</td>\n",
       "      <td>coca cola regular 500ml</td>\n",
       "      <td>coca cola regular 500ml</td>\n",
       "    </tr>\n",
       "    <tr>\n",
       "      <th>8124</th>\n",
       "      <td>8353</td>\n",
       "      <td>coca cola sharesize 1 l</td>\n",
       "      <td>coca cola sharesize 1 l</td>\n",
       "    </tr>\n",
       "    <tr>\n",
       "      <th>8125</th>\n",
       "      <td>8354</td>\n",
       "      <td>coca cola vanilla</td>\n",
       "      <td>coca cola vanilla</td>\n",
       "    </tr>\n",
       "    <tr>\n",
       "      <th>8126</th>\n",
       "      <td>8358</td>\n",
       "      <td>coca cola zero 2 litre bottle</td>\n",
       "      <td>coca cola zero 2 litre bottle</td>\n",
       "    </tr>\n",
       "    <tr>\n",
       "      <th>8127</th>\n",
       "      <td>8361</td>\n",
       "      <td>coca cola zero 6 pack</td>\n",
       "      <td>coca cola zero 6 pack</td>\n",
       "    </tr>\n",
       "    <tr>\n",
       "      <th>8128</th>\n",
       "      <td>8363</td>\n",
       "      <td>coca cola zero cherry</td>\n",
       "      <td>coca cola cherry</td>\n",
       "    </tr>\n",
       "    <tr>\n",
       "      <th>8129</th>\n",
       "      <td>8363</td>\n",
       "      <td>coca cola zero cherry</td>\n",
       "      <td>coca cola cherry</td>\n",
       "    </tr>\n",
       "    <tr>\n",
       "      <th>8130</th>\n",
       "      <td>8363</td>\n",
       "      <td>coca cola zero cherry</td>\n",
       "      <td>coca cola cherry can</td>\n",
       "    </tr>\n",
       "    <tr>\n",
       "      <th>8131</th>\n",
       "      <td>8363</td>\n",
       "      <td>coca cola zero cherry</td>\n",
       "      <td>coca cola zero cherry</td>\n",
       "    </tr>\n",
       "    <tr>\n",
       "      <th>8132</th>\n",
       "      <td>8365</td>\n",
       "      <td>coca cola zero mpk</td>\n",
       "      <td>coca cola zero</td>\n",
       "    </tr>\n",
       "    <tr>\n",
       "      <th>8133</th>\n",
       "      <td>8365</td>\n",
       "      <td>coca cola zero mpk</td>\n",
       "      <td>coca cola zero mpk</td>\n",
       "    </tr>\n",
       "    <tr>\n",
       "      <th>8134</th>\n",
       "      <td>8366</td>\n",
       "      <td>coca cola zero mpk  6x330ml</td>\n",
       "      <td>coca cola zero mpk  6x330ml</td>\n",
       "    </tr>\n",
       "    <tr>\n",
       "      <th>8135</th>\n",
       "      <td>8367</td>\n",
       "      <td>coca cola zero multipack of 6 can</td>\n",
       "      <td>coca cola zero multipack of 6 can</td>\n",
       "    </tr>\n",
       "    <tr>\n",
       "      <th>8136</th>\n",
       "      <td>8368</td>\n",
       "      <td>coca cola zero sharesize 1.25 l</td>\n",
       "      <td>coca cola zero sharesize 1.25 l</td>\n",
       "    </tr>\n",
       "    <tr>\n",
       "      <th>8137</th>\n",
       "      <td>8372</td>\n",
       "      <td>coca cola zero sugar can 10x330ml</td>\n",
       "      <td>coca cola zero sugar can 10x330ml</td>\n",
       "    </tr>\n",
       "    <tr>\n",
       "      <th>8138</th>\n",
       "      <td>8373</td>\n",
       "      <td>coca cola zero sugar pet</td>\n",
       "      <td>coca cola zero sugar pet</td>\n",
       "    </tr>\n",
       "    <tr>\n",
       "      <th>8139</th>\n",
       "      <td>8375</td>\n",
       "      <td>coca cola zero vanilla 500ml</td>\n",
       "      <td>coca cola zero vanilla 500ml</td>\n",
       "    </tr>\n",
       "    <tr>\n",
       "      <th>8140</th>\n",
       "      <td>8376</td>\n",
       "      <td>cocacola 1.5 ltr</td>\n",
       "      <td>cocacola 1.5 ltr</td>\n",
       "    </tr>\n",
       "    <tr>\n",
       "      <th>8141</th>\n",
       "      <td>8377</td>\n",
       "      <td>cocacola 1.5l</td>\n",
       "      <td>cocacola 1.5l</td>\n",
       "    </tr>\n",
       "    <tr>\n",
       "      <th>8142</th>\n",
       "      <td>8378</td>\n",
       "      <td>cocacola 1.75 classic</td>\n",
       "      <td>cocacola 1.75 classic</td>\n",
       "    </tr>\n",
       "    <tr>\n",
       "      <th>8143</th>\n",
       "      <td>8381</td>\n",
       "      <td>cocacola cherry</td>\n",
       "      <td>can cherry cocacola</td>\n",
       "    </tr>\n",
       "    <tr>\n",
       "      <th>8144</th>\n",
       "      <td>8381</td>\n",
       "      <td>cocacola cherry</td>\n",
       "      <td>cocacola cherry</td>\n",
       "    </tr>\n",
       "    <tr>\n",
       "      <th>8145</th>\n",
       "      <td>8381</td>\n",
       "      <td>cocacola cherry</td>\n",
       "      <td>cocacola cherry</td>\n",
       "    </tr>\n",
       "    <tr>\n",
       "      <th>8146</th>\n",
       "      <td>8383</td>\n",
       "      <td>cocacola cherry 1.5l  or 2 for 3.30</td>\n",
       "      <td>cocacola cherry 1.5l  or 2 for 3.30</td>\n",
       "    </tr>\n",
       "    <tr>\n",
       "      <th>8147</th>\n",
       "      <td>8387</td>\n",
       "      <td>cocacola cherry vanilla</td>\n",
       "      <td>cocacola cherry vanilla</td>\n",
       "    </tr>\n",
       "    <tr>\n",
       "      <th>8148</th>\n",
       "      <td>8389</td>\n",
       "      <td>cocacola classic 500ml</td>\n",
       "      <td>cocacola classic 500ml</td>\n",
       "    </tr>\n",
       "    <tr>\n",
       "      <th>8149</th>\n",
       "      <td>8390</td>\n",
       "      <td>cocacola diet</td>\n",
       "      <td>cocacola diet</td>\n",
       "    </tr>\n",
       "    <tr>\n",
       "      <th>8150</th>\n",
       "      <td>8391</td>\n",
       "      <td>cocacola diet 1.75ml</td>\n",
       "      <td>cocacola diet 1.75ml</td>\n",
       "    </tr>\n",
       "    <tr>\n",
       "      <th>8151</th>\n",
       "      <td>8392</td>\n",
       "      <td>cocacola diet 4 pack</td>\n",
       "      <td>cocacola diet 4 pack</td>\n",
       "    </tr>\n",
       "    <tr>\n",
       "      <th>8152</th>\n",
       "      <td>8393</td>\n",
       "      <td>cocacola diet 4pk</td>\n",
       "      <td>cocacola diet 4pk</td>\n",
       "    </tr>\n",
       "    <tr>\n",
       "      <th>8153</th>\n",
       "      <td>8398</td>\n",
       "      <td>cocacola original 6 pack</td>\n",
       "      <td>cocacola original 6 pack</td>\n",
       "    </tr>\n",
       "    <tr>\n",
       "      <th>8154</th>\n",
       "      <td>8399</td>\n",
       "      <td>cocacola original 6pk</td>\n",
       "      <td>cocacola original 6pk</td>\n",
       "    </tr>\n",
       "    <tr>\n",
       "      <th>8155</th>\n",
       "      <td>8401</td>\n",
       "      <td>cocacola original taste</td>\n",
       "      <td>cocacola original</td>\n",
       "    </tr>\n",
       "    <tr>\n",
       "      <th>8156</th>\n",
       "      <td>8401</td>\n",
       "      <td>cocacola original taste</td>\n",
       "      <td>cocacola original taste</td>\n",
       "    </tr>\n",
       "    <tr>\n",
       "      <th>8157</th>\n",
       "      <td>8402</td>\n",
       "      <td>cocacola original taste 1.75l</td>\n",
       "      <td>coca cola original 1.5l</td>\n",
       "    </tr>\n",
       "  </tbody>\n",
       "</table>\n",
       "</div>"
      ],
      "text/plain": [
       "     group_id                               leader  \\\n",
       "651      1211                     70 cl cococariba   \n",
       "6239     6433                   can cocacola 330ml   \n",
       "8100     8296                           coca cola    \n",
       "8101     8296                           coca cola    \n",
       "8102     8298                 coca cola 1.25 litre   \n",
       "8103     8300                coca cola 1.75lt 2.29   \n",
       "8104     8302                 coca cola 10 x 330ml   \n",
       "8105     8304                         coca cola 2l   \n",
       "8106     8306                     coca cola 500 ml   \n",
       "8107     8310                       coca cola 6pck   \n",
       "8108     8312                        coca cola can   \n",
       "8109     8313                  coca cola can 250ml   \n",
       "8110     8325             coca cola classic 1.75lt   \n",
       "8111     8325             coca cola classic 1.75lt   \n",
       "8112     8331                  coca cola diet coke   \n",
       "8113     8333             coca cola frozen regular   \n",
       "8114     8333             coca cola frozen regular   \n",
       "8115     8334         coca cola glass bottle 330ml   \n",
       "8116     8336        coca cola multipack 6 x 330ml   \n",
       "8117     8338           coca cola original 2 litre   \n",
       "8118     8347              coca cola pack of 6 can   \n",
       "8119     8348               coca cola regular 1.5l   \n",
       "8120     8349             coca cola regular 1.75 l   \n",
       "8121     8350              coca cola regular 330ml   \n",
       "8122     8351        coca cola regular 4pk 4x330ml   \n",
       "8123     8352              coca cola regular 500ml   \n",
       "8124     8353              coca cola sharesize 1 l   \n",
       "8125     8354                    coca cola vanilla   \n",
       "8126     8358        coca cola zero 2 litre bottle   \n",
       "8127     8361                coca cola zero 6 pack   \n",
       "8128     8363                coca cola zero cherry   \n",
       "8129     8363                coca cola zero cherry   \n",
       "8130     8363                coca cola zero cherry   \n",
       "8131     8363                coca cola zero cherry   \n",
       "8132     8365                  coca cola zero mpk    \n",
       "8133     8365                  coca cola zero mpk    \n",
       "8134     8366          coca cola zero mpk  6x330ml   \n",
       "8135     8367    coca cola zero multipack of 6 can   \n",
       "8136     8368      coca cola zero sharesize 1.25 l   \n",
       "8137     8372    coca cola zero sugar can 10x330ml   \n",
       "8138     8373             coca cola zero sugar pet   \n",
       "8139     8375         coca cola zero vanilla 500ml   \n",
       "8140     8376                     cocacola 1.5 ltr   \n",
       "8141     8377                        cocacola 1.5l   \n",
       "8142     8378                cocacola 1.75 classic   \n",
       "8143     8381                     cocacola cherry    \n",
       "8144     8381                     cocacola cherry    \n",
       "8145     8381                     cocacola cherry    \n",
       "8146     8383  cocacola cherry 1.5l  or 2 for 3.30   \n",
       "8147     8387              cocacola cherry vanilla   \n",
       "8148     8389               cocacola classic 500ml   \n",
       "8149     8390                        cocacola diet   \n",
       "8150     8391                 cocacola diet 1.75ml   \n",
       "8151     8392                 cocacola diet 4 pack   \n",
       "8152     8393                    cocacola diet 4pk   \n",
       "8153     8398             cocacola original 6 pack   \n",
       "8154     8399                cocacola original 6pk   \n",
       "8155     8401              cocacola original taste   \n",
       "8156     8401              cocacola original taste   \n",
       "8157     8402       cocacola original taste 1.75l    \n",
       "\n",
       "                                   member  \n",
       "651                      70 cl cococariba  \n",
       "6239                   can cocacola 330ml  \n",
       "8100                            coca cola  \n",
       "8101                           coca cola   \n",
       "8102                 coca cola 1.25 litre  \n",
       "8103                coca cola 1.75lt 2.29  \n",
       "8104                 coca cola 10 x 330ml  \n",
       "8105                         coca cola 2l  \n",
       "8106                     coca cola 500 ml  \n",
       "8107                       coca cola 6pck  \n",
       "8108                        coca cola can  \n",
       "8109                  coca cola can 250ml  \n",
       "8110             coca cola classic  1.5lt  \n",
       "8111             coca cola classic 1.75lt  \n",
       "8112                  coca cola diet coke  \n",
       "8113               coca cola frozen large  \n",
       "8114             coca cola frozen regular  \n",
       "8115         coca cola glass bottle 330ml  \n",
       "8116        coca cola multipack 6 x 330ml  \n",
       "8117           coca cola original 2 litre  \n",
       "8118              coca cola pack of 6 can  \n",
       "8119               coca cola regular 1.5l  \n",
       "8120             coca cola regular 1.75 l  \n",
       "8121              coca cola regular 330ml  \n",
       "8122        coca cola regular 4pk 4x330ml  \n",
       "8123              coca cola regular 500ml  \n",
       "8124              coca cola sharesize 1 l  \n",
       "8125                    coca cola vanilla  \n",
       "8126        coca cola zero 2 litre bottle  \n",
       "8127                coca cola zero 6 pack  \n",
       "8128                     coca cola cherry  \n",
       "8129                    coca cola cherry   \n",
       "8130                 coca cola cherry can  \n",
       "8131                coca cola zero cherry  \n",
       "8132                      coca cola zero   \n",
       "8133                  coca cola zero mpk   \n",
       "8134          coca cola zero mpk  6x330ml  \n",
       "8135    coca cola zero multipack of 6 can  \n",
       "8136      coca cola zero sharesize 1.25 l  \n",
       "8137    coca cola zero sugar can 10x330ml  \n",
       "8138             coca cola zero sugar pet  \n",
       "8139         coca cola zero vanilla 500ml  \n",
       "8140                     cocacola 1.5 ltr  \n",
       "8141                        cocacola 1.5l  \n",
       "8142                cocacola 1.75 classic  \n",
       "8143                  can cherry cocacola  \n",
       "8144                      cocacola cherry  \n",
       "8145                     cocacola cherry   \n",
       "8146  cocacola cherry 1.5l  or 2 for 3.30  \n",
       "8147              cocacola cherry vanilla  \n",
       "8148               cocacola classic 500ml  \n",
       "8149                        cocacola diet  \n",
       "8150                 cocacola diet 1.75ml  \n",
       "8151                 cocacola diet 4 pack  \n",
       "8152                    cocacola diet 4pk  \n",
       "8153             cocacola original 6 pack  \n",
       "8154                cocacola original 6pk  \n",
       "8155                    cocacola original  \n",
       "8156              cocacola original taste  \n",
       "8157              coca cola original 1.5l  "
      ]
     },
     "execution_count": 482,
     "metadata": {},
     "output_type": "execute_result"
    }
   ],
   "source": [
    "groups_df[(groups_df['leader'].str.contains('coca'))|(groups_df['member'].str.contains('coca'))][:60]"
   ]
  },
  {
   "cell_type": "markdown",
   "id": "b34bac24",
   "metadata": {},
   "source": [
    "### 6.6 Are all leaders in members?"
   ]
  },
  {
   "cell_type": "code",
   "execution_count": 484,
   "id": "44837ab2",
   "metadata": {},
   "outputs": [
    {
     "data": {
      "text/html": [
       "<div>\n",
       "<style scoped>\n",
       "    .dataframe tbody tr th:only-of-type {\n",
       "        vertical-align: middle;\n",
       "    }\n",
       "\n",
       "    .dataframe tbody tr th {\n",
       "        vertical-align: top;\n",
       "    }\n",
       "\n",
       "    .dataframe thead th {\n",
       "        text-align: right;\n",
       "    }\n",
       "</style>\n",
       "<table border=\"1\" class=\"dataframe\">\n",
       "  <thead>\n",
       "    <tr style=\"text-align: right;\">\n",
       "      <th></th>\n",
       "      <th>group_id</th>\n",
       "      <th>leader</th>\n",
       "      <th>member</th>\n",
       "    </tr>\n",
       "  </thead>\n",
       "  <tbody>\n",
       "    <tr>\n",
       "      <th>0</th>\n",
       "      <td>0</td>\n",
       "      <td>1 kg baker adult beef dog food</td>\n",
       "      <td>1 kg baker adult beef dog food</td>\n",
       "    </tr>\n",
       "    <tr>\n",
       "      <th>1</th>\n",
       "      <td>2</td>\n",
       "      <td>1 kg happy shopper self raising flour</td>\n",
       "      <td>1 kg happy shopper self raising flour</td>\n",
       "    </tr>\n",
       "    <tr>\n",
       "      <th>2</th>\n",
       "      <td>12</td>\n",
       "      <td>1 ltr carter low cal tonic</td>\n",
       "      <td>1 ltr carter low cal tonic</td>\n",
       "    </tr>\n",
       "    <tr>\n",
       "      <th>3</th>\n",
       "      <td>14</td>\n",
       "      <td>1 ltr chekov</td>\n",
       "      <td>1 ltr chekov</td>\n",
       "    </tr>\n",
       "    <tr>\n",
       "      <th>4</th>\n",
       "      <td>18</td>\n",
       "      <td>1 ltr e energy drink</td>\n",
       "      <td>1 ltr e energy drink</td>\n",
       "    </tr>\n",
       "  </tbody>\n",
       "</table>\n",
       "</div>"
      ],
      "text/plain": [
       "  group_id                                 leader  \\\n",
       "0        0         1 kg baker adult beef dog food   \n",
       "1        2  1 kg happy shopper self raising flour   \n",
       "2       12             1 ltr carter low cal tonic   \n",
       "3       14                           1 ltr chekov   \n",
       "4       18                   1 ltr e energy drink   \n",
       "\n",
       "                                  member  \n",
       "0         1 kg baker adult beef dog food  \n",
       "1  1 kg happy shopper self raising flour  \n",
       "2             1 ltr carter low cal tonic  \n",
       "3                           1 ltr chekov  \n",
       "4                   1 ltr e energy drink  "
      ]
     },
     "execution_count": 484,
     "metadata": {},
     "output_type": "execute_result"
    }
   ],
   "source": [
    "groups_df.head()"
   ]
  },
  {
   "cell_type": "code",
   "execution_count": 488,
   "id": "2caea584",
   "metadata": {},
   "outputs": [
    {
     "data": {
      "text/plain": [
       "(24121, 41819)"
      ]
     },
     "execution_count": 488,
     "metadata": {},
     "output_type": "execute_result"
    }
   ],
   "source": [
    "leaders_list = list(set(groups_df.leader))\n",
    "members_list = list(set(groups_df.member))\n",
    "\n",
    "len(leaders_list), len(members_list)"
   ]
  },
  {
   "cell_type": "code",
   "execution_count": 491,
   "id": "2e5be687",
   "metadata": {},
   "outputs": [
    {
     "ename": "TypeError",
     "evalue": "bad operand type for unary ~: 'str'",
     "output_type": "error",
     "traceback": [
      "\u001b[0;31m---------------------------------------------------------------------------\u001b[0m",
      "\u001b[0;31mTypeError\u001b[0m                                 Traceback (most recent call last)",
      "\u001b[0;32m<ipython-input-491-33dacab8fdd2>\u001b[0m in \u001b[0;36m<module>\u001b[0;34m\u001b[0m\n\u001b[0;32m----> 1\u001b[0;31m \u001b[0mlen\u001b[0m\u001b[0;34m(\u001b[0m\u001b[0mlist\u001b[0m\u001b[0;34m(\u001b[0m\u001b[0mset\u001b[0m\u001b[0;34m(\u001b[0m\u001b[0;34m~\u001b[0m\u001b[0mgroups_df\u001b[0m\u001b[0;34m[\u001b[0m\u001b[0mgroups_df\u001b[0m\u001b[0;34m[\u001b[0m\u001b[0;34m'member'\u001b[0m\u001b[0;34m]\u001b[0m\u001b[0;34m.\u001b[0m\u001b[0misin\u001b[0m\u001b[0;34m(\u001b[0m\u001b[0mleaders_list\u001b[0m\u001b[0;34m)\u001b[0m\u001b[0;34m]\u001b[0m\u001b[0;34m[\u001b[0m\u001b[0;34m'member'\u001b[0m\u001b[0;34m]\u001b[0m\u001b[0;34m)\u001b[0m\u001b[0;34m)\u001b[0m\u001b[0;34m)\u001b[0m\u001b[0;34m\u001b[0m\u001b[0;34m\u001b[0m\u001b[0m\n\u001b[0m",
      "\u001b[0;32m/opt/anaconda3/lib/python3.8/site-packages/pandas/core/generic.py\u001b[0m in \u001b[0;36m__invert__\u001b[0;34m(self)\u001b[0m\n\u001b[1;32m   1471\u001b[0m             \u001b[0;32mreturn\u001b[0m \u001b[0mself\u001b[0m\u001b[0;34m\u001b[0m\u001b[0;34m\u001b[0m\u001b[0m\n\u001b[1;32m   1472\u001b[0m \u001b[0;34m\u001b[0m\u001b[0m\n\u001b[0;32m-> 1473\u001b[0;31m         \u001b[0mnew_data\u001b[0m \u001b[0;34m=\u001b[0m \u001b[0mself\u001b[0m\u001b[0;34m.\u001b[0m\u001b[0m_data\u001b[0m\u001b[0;34m.\u001b[0m\u001b[0mapply\u001b[0m\u001b[0;34m(\u001b[0m\u001b[0moperator\u001b[0m\u001b[0;34m.\u001b[0m\u001b[0minvert\u001b[0m\u001b[0;34m)\u001b[0m\u001b[0;34m\u001b[0m\u001b[0;34m\u001b[0m\u001b[0m\n\u001b[0m\u001b[1;32m   1474\u001b[0m         \u001b[0mresult\u001b[0m \u001b[0;34m=\u001b[0m \u001b[0mself\u001b[0m\u001b[0;34m.\u001b[0m\u001b[0m_constructor\u001b[0m\u001b[0;34m(\u001b[0m\u001b[0mnew_data\u001b[0m\u001b[0;34m)\u001b[0m\u001b[0;34m.\u001b[0m\u001b[0m__finalize__\u001b[0m\u001b[0;34m(\u001b[0m\u001b[0mself\u001b[0m\u001b[0;34m)\u001b[0m\u001b[0;34m\u001b[0m\u001b[0;34m\u001b[0m\u001b[0m\n\u001b[1;32m   1475\u001b[0m         \u001b[0;32mreturn\u001b[0m \u001b[0mresult\u001b[0m\u001b[0;34m\u001b[0m\u001b[0;34m\u001b[0m\u001b[0m\n",
      "\u001b[0;32m/opt/anaconda3/lib/python3.8/site-packages/pandas/core/internals/managers.py\u001b[0m in \u001b[0;36mapply\u001b[0;34m(self, f, filter, **kwargs)\u001b[0m\n\u001b[1;32m    438\u001b[0m \u001b[0;34m\u001b[0m\u001b[0m\n\u001b[1;32m    439\u001b[0m             \u001b[0;32mif\u001b[0m \u001b[0mcallable\u001b[0m\u001b[0;34m(\u001b[0m\u001b[0mf\u001b[0m\u001b[0;34m)\u001b[0m\u001b[0;34m:\u001b[0m\u001b[0;34m\u001b[0m\u001b[0;34m\u001b[0m\u001b[0m\n\u001b[0;32m--> 440\u001b[0;31m                 \u001b[0mapplied\u001b[0m \u001b[0;34m=\u001b[0m \u001b[0mb\u001b[0m\u001b[0;34m.\u001b[0m\u001b[0mapply\u001b[0m\u001b[0;34m(\u001b[0m\u001b[0mf\u001b[0m\u001b[0;34m,\u001b[0m \u001b[0;34m**\u001b[0m\u001b[0mkwargs\u001b[0m\u001b[0;34m)\u001b[0m\u001b[0;34m\u001b[0m\u001b[0;34m\u001b[0m\u001b[0m\n\u001b[0m\u001b[1;32m    441\u001b[0m             \u001b[0;32melse\u001b[0m\u001b[0;34m:\u001b[0m\u001b[0;34m\u001b[0m\u001b[0;34m\u001b[0m\u001b[0m\n\u001b[1;32m    442\u001b[0m                 \u001b[0mapplied\u001b[0m \u001b[0;34m=\u001b[0m \u001b[0mgetattr\u001b[0m\u001b[0;34m(\u001b[0m\u001b[0mb\u001b[0m\u001b[0;34m,\u001b[0m \u001b[0mf\u001b[0m\u001b[0;34m)\u001b[0m\u001b[0;34m(\u001b[0m\u001b[0;34m**\u001b[0m\u001b[0mkwargs\u001b[0m\u001b[0;34m)\u001b[0m\u001b[0;34m\u001b[0m\u001b[0;34m\u001b[0m\u001b[0m\n",
      "\u001b[0;32m/opt/anaconda3/lib/python3.8/site-packages/pandas/core/internals/blocks.py\u001b[0m in \u001b[0;36mapply\u001b[0;34m(self, func, **kwargs)\u001b[0m\n\u001b[1;32m    388\u001b[0m         \"\"\"\n\u001b[1;32m    389\u001b[0m         \u001b[0;32mwith\u001b[0m \u001b[0mnp\u001b[0m\u001b[0;34m.\u001b[0m\u001b[0merrstate\u001b[0m\u001b[0;34m(\u001b[0m\u001b[0mall\u001b[0m\u001b[0;34m=\u001b[0m\u001b[0;34m\"ignore\"\u001b[0m\u001b[0;34m)\u001b[0m\u001b[0;34m:\u001b[0m\u001b[0;34m\u001b[0m\u001b[0;34m\u001b[0m\u001b[0m\n\u001b[0;32m--> 390\u001b[0;31m             \u001b[0mresult\u001b[0m \u001b[0;34m=\u001b[0m \u001b[0mfunc\u001b[0m\u001b[0;34m(\u001b[0m\u001b[0mself\u001b[0m\u001b[0;34m.\u001b[0m\u001b[0mvalues\u001b[0m\u001b[0;34m,\u001b[0m \u001b[0;34m**\u001b[0m\u001b[0mkwargs\u001b[0m\u001b[0;34m)\u001b[0m\u001b[0;34m\u001b[0m\u001b[0;34m\u001b[0m\u001b[0m\n\u001b[0m\u001b[1;32m    391\u001b[0m \u001b[0;34m\u001b[0m\u001b[0m\n\u001b[1;32m    392\u001b[0m         \u001b[0;32mif\u001b[0m \u001b[0mis_extension_array_dtype\u001b[0m\u001b[0;34m(\u001b[0m\u001b[0mresult\u001b[0m\u001b[0;34m)\u001b[0m \u001b[0;32mand\u001b[0m \u001b[0mresult\u001b[0m\u001b[0;34m.\u001b[0m\u001b[0mndim\u001b[0m \u001b[0;34m>\u001b[0m \u001b[0;36m1\u001b[0m\u001b[0;34m:\u001b[0m\u001b[0;34m\u001b[0m\u001b[0;34m\u001b[0m\u001b[0m\n",
      "\u001b[0;31mTypeError\u001b[0m: bad operand type for unary ~: 'str'"
     ]
    }
   ],
   "source": [
    "len(list(set(~groups_df[groups_df['member'].isin(leaders_list)]['member'])))"
   ]
  },
  {
   "cell_type": "code",
   "execution_count": 489,
   "id": "7e9b24b5",
   "metadata": {},
   "outputs": [],
   "source": [
    "not_member = []\n",
    "for leader_ in leaders_list:\n",
    "    if leader_ not in members_list:\n",
    "        not_member.append(leader_)"
   ]
  },
  {
   "cell_type": "code",
   "execution_count": 490,
   "id": "a111a97d",
   "metadata": {},
   "outputs": [
    {
     "data": {
      "text/plain": [
       "0"
      ]
     },
     "execution_count": 490,
     "metadata": {},
     "output_type": "execute_result"
    }
   ],
   "source": [
    "len(not_member)"
   ]
  },
  {
   "cell_type": "code",
   "execution_count": null,
   "id": "42844426",
   "metadata": {},
   "outputs": [],
   "source": []
  }
 ],
 "metadata": {
  "kernelspec": {
   "display_name": "Python 3.8.3 ('base')",
   "language": "python",
   "name": "python3"
  },
  "language_info": {
   "codemirror_mode": {
    "name": "ipython",
    "version": 3
   },
   "file_extension": ".py",
   "mimetype": "text/x-python",
   "name": "python",
   "nbconvert_exporter": "python",
   "pygments_lexer": "ipython3",
   "version": "3.8.3"
  },
  "vscode": {
   "interpreter": {
    "hash": "40d3a090f54c6569ab1632332b64b2c03c39dcf918b08424e98f38b5ae0af88f"
   }
  }
 },
 "nbformat": 4,
 "nbformat_minor": 5
}
