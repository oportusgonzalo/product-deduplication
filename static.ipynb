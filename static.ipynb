{
 "cells": [
  {
   "cell_type": "code",
   "execution_count": 1,
   "id": "e61a669c",
   "metadata": {},
   "outputs": [],
   "source": [
    "def clean_text(df, col_name, new_col_name):\n",
    "    # column values to lower case\n",
    "    df[new_col_name] = df[col_name].str.lower().str.strip()\n",
    "    # removes special characters\n",
    "    df[new_col_name] = df[new_col_name].apply(lambda x: re.sub(r\"(@[A-Za-z0-9]+)|([^0-9A-Za-z.% \\t])\", \"\", x))\n",
    "    return df"
   ]
  },
  {
   "cell_type": "code",
   "execution_count": 1,
   "id": "b873055d",
   "metadata": {},
   "outputs": [],
   "source": [
    "def group_selection(df, product):\n",
    "    \"\"\"\n",
    "    Por a single product, identifies the products to which is related (all products in \"candidate\" column), and\n",
    "    remove duplicated rows. The ratio is also included to keep the knowledge of the similarity ratio that let \n",
    "    them into the group.\n",
    "    \n",
    "    Inputs:\n",
    "    - df: dataframe with threshold 80, with all matches and links (for all products)\n",
    "    - product: the name of the product to work with\n",
    "    \n",
    "    Output: single product similarity group dataframe\n",
    "    \"\"\"\n",
    "    # we select all the rows that match the product\n",
    "    df_temp = df[df['product_name'] == product].copy()\n",
    "    # remove duplicates: to see all the products to which a product is similar\n",
    "    group = df_temp.drop_duplicates(subset=['product_name', 'candidate']).reset_index(drop=True)\n",
    "    return group"
   ]
  },
  {
   "cell_type": "code",
   "execution_count": 2,
   "id": "0698d516",
   "metadata": {},
   "outputs": [],
   "source": [
    "def create_product_df(groups_df, product, product_group_list):\n",
    "    \n",
    "    if groups_df.shape[0] == 0:\n",
    "        group_id = 0\n",
    "    else:\n",
    "        group_id = groups_df['group_id'].max() + 1\n",
    "    df_temp = pd.DataFrame({\n",
    "        'group_id': group_id,\n",
    "        'leader': product,\n",
    "        'member': product_group_list\n",
    "        })\n",
    "    return df_temp"
   ]
  },
  {
   "cell_type": "code",
   "execution_count": 3,
   "id": "d2b15a8b",
   "metadata": {},
   "outputs": [],
   "source": [
    "def create_track_temp_df(track_df, applicants_list):\n",
    "    if track_df.shape[0] == 0:\n",
    "        group_id = 0\n",
    "    else:\n",
    "        group_id = track_df['group_id'].max() + 1\n",
    "    df_temp = pd.DataFrame({\n",
    "        'group_id': group_id,\n",
    "        'member': applicants_list\n",
    "        })\n",
    "    return df_temp"
   ]
  },
  {
   "cell_type": "code",
   "execution_count": 4,
   "id": "f1098305",
   "metadata": {},
   "outputs": [],
   "source": [
    "def group_concat_procedure(groups_df, track_df, product_, applicants_list):\n",
    "    # verify if any of the applicants is already assigned to a group, if not:\n",
    "    if track_df[track_df['member'].isin(applicants_list)].shape[0] == 0:\n",
    "        # create df for the group\n",
    "        concat_df = create_product_df(groups_df, product_, applicants_list)\n",
    "        # concat to the global groups df\n",
    "        groups_df = pd.concat([groups_df, concat_df], axis=0).reset_index(drop=True)\n",
    "        # create track applicants df\n",
    "        df_track_temp = create_track_temp_df(track_df, applicants_list)\n",
    "        # concat new group to track groups df\n",
    "        track_df = pd.concat([track_df, df_track_temp], axis=0).reset_index(drop=True)\n",
    "    else:\n",
    "        # get the group ids where any of the candidates is assigned\n",
    "        group_ids_list = list(track_df[track_df['member'].isin(applicants_list)]['group_id'].unique())\n",
    "        # locate where the group is\n",
    "        select_df = groups_df[groups_df['group_id'].isin(group_ids_list)]\n",
    "        # list of actual members of the group\n",
    "        already_members = list(pd.unique(select_df[['leader', 'member']].values.ravel('K')))\n",
    "        # union of already members + apliccants list --> idea: get a unique selection of a wider spectrum\n",
    "        concatenated_list = list(set(already_members + applicants_list))\n",
    "        # remove group from global groups dataframe\n",
    "        groups_df = groups_df[~groups_df['group_id'].isin(group_ids_list)].copy()\n",
    "        # remove group from track groups dataframe\n",
    "        track_df = track_df[~track_df['group_id'].isin(group_ids_list)]\n",
    "        # re-create and add the modified group to the global groups df\n",
    "        concat_df = create_product_df(groups_df, product_, concatenated_list)\n",
    "        groups_df = pd.concat([groups_df, concat_df], axis=0).reset_index(drop=True)\n",
    "        # re-create and add the modified group to the track groups df\n",
    "        df_track_temp = create_track_temp_df(track_df, applicants_list)\n",
    "        track_df = pd.concat([track_df, df_track_temp], axis=0).reset_index(drop=True)\n",
    "    return groups_df, track_df"
   ]
  },
  {
   "cell_type": "code",
   "execution_count": null,
   "id": "a88b5c8d",
   "metadata": {},
   "outputs": [],
   "source": []
  }
 ],
 "metadata": {
  "kernelspec": {
   "display_name": "Python 3.8.3 ('base')",
   "language": "python",
   "name": "python3"
  },
  "language_info": {
   "codemirror_mode": {
    "name": "ipython",
    "version": 3
   },
   "file_extension": ".py",
   "mimetype": "text/x-python",
   "name": "python",
   "nbconvert_exporter": "python",
   "pygments_lexer": "ipython3",
   "version": "3.8.3"
  },
  "vscode": {
   "interpreter": {
    "hash": "40d3a090f54c6569ab1632332b64b2c03c39dcf918b08424e98f38b5ae0af88f"
   }
  }
 },
 "nbformat": 4,
 "nbformat_minor": 5
}
