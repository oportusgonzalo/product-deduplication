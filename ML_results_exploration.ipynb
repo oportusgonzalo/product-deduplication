{
 "cells": [
  {
   "cell_type": "code",
   "execution_count": 10,
   "id": "4bd76cde",
   "metadata": {},
   "outputs": [],
   "source": [
    "import pandas as pd\n",
    "from fuzzywuzzy import fuzz"
   ]
  },
  {
   "cell_type": "markdown",
   "id": "b927b767",
   "metadata": {},
   "source": [
    "* Canonical - The Item name used as the query. The top 25 items will be provided based on this item name.\n",
    "* item_name - These are the items that are the closest matches to the canonical item.\n",
    "* Rank - A value between 1-25, with 1 representing the closest match of the item_name to the canonical item. "
   ]
  },
  {
   "cell_type": "code",
   "execution_count": 3,
   "id": "a0bdc230",
   "metadata": {},
   "outputs": [],
   "source": [
    "df = pd.read_csv('UK_booker_canonical_dataset.csv')"
   ]
  },
  {
   "cell_type": "code",
   "execution_count": 4,
   "id": "9a907186",
   "metadata": {},
   "outputs": [],
   "source": [
    "df = df[['canonical', 'item_name', 'rank']].sort_values(by=['canonical', 'rank']).reset_index(drop=True)"
   ]
  },
  {
   "cell_type": "markdown",
   "id": "d0977da0",
   "metadata": {},
   "source": [
    "### Structure"
   ]
  },
  {
   "cell_type": "code",
   "execution_count": 5,
   "id": "bb017fd7",
   "metadata": {},
   "outputs": [],
   "source": [
    "canonical_products = list(df['canonical'].unique())"
   ]
  },
  {
   "cell_type": "code",
   "execution_count": 6,
   "id": "e9e2e62b",
   "metadata": {},
   "outputs": [],
   "source": [
    "item_products = list(df['item_name'].unique())"
   ]
  },
  {
   "cell_type": "code",
   "execution_count": 7,
   "id": "94f7b62a",
   "metadata": {},
   "outputs": [
    {
     "data": {
      "text/plain": [
       "(45527, 48927)"
      ]
     },
     "execution_count": 7,
     "metadata": {},
     "output_type": "execute_result"
    }
   ],
   "source": [
    "len(canonical_products), len(item_products)"
   ]
  },
  {
   "cell_type": "code",
   "execution_count": 9,
   "id": "2750a2c3",
   "metadata": {},
   "outputs": [
    {
     "data": {
      "text/html": [
       "<div>\n",
       "<style scoped>\n",
       "    .dataframe tbody tr th:only-of-type {\n",
       "        vertical-align: middle;\n",
       "    }\n",
       "\n",
       "    .dataframe tbody tr th {\n",
       "        vertical-align: top;\n",
       "    }\n",
       "\n",
       "    .dataframe thead th {\n",
       "        text-align: right;\n",
       "    }\n",
       "</style>\n",
       "<table border=\"1\" class=\"dataframe\">\n",
       "  <thead>\n",
       "    <tr style=\"text-align: right;\">\n",
       "      <th></th>\n",
       "      <th>canonical</th>\n",
       "      <th>item_name</th>\n",
       "      <th>rank</th>\n",
       "    </tr>\n",
       "  </thead>\n",
       "  <tbody>\n",
       "    <tr>\n",
       "      <th>20</th>\n",
       "      <td>1 Kg Bakers Adult Beef Dog Food</td>\n",
       "      <td>Bakers Adult Dry Dog Food Chicken and Veg 1kg</td>\n",
       "      <td>21</td>\n",
       "    </tr>\n",
       "    <tr>\n",
       "      <th>21</th>\n",
       "      <td>1 Kg Bakers Adult Beef Dog Food</td>\n",
       "      <td>Pet food BAKERS ADULT Beef with Vegetables Dry...</td>\n",
       "      <td>22</td>\n",
       "    </tr>\n",
       "    <tr>\n",
       "      <th>22</th>\n",
       "      <td>1 Kg Bakers Adult Beef Dog Food</td>\n",
       "      <td>BAKERS ADULT Beef with Vegetables Dry Dog Food...</td>\n",
       "      <td>23</td>\n",
       "    </tr>\n",
       "    <tr>\n",
       "      <th>23</th>\n",
       "      <td>1 Kg Bakers Adult Beef Dog Food</td>\n",
       "      <td>BUTCHERS TRIPE DOG FOOD 1200G</td>\n",
       "      <td>24</td>\n",
       "    </tr>\n",
       "    <tr>\n",
       "      <th>24</th>\n",
       "      <td>1 Kg Bakers Adult Beef Dog Food</td>\n",
       "      <td>Bakers Dog Food Chicken and Veg 1kg</td>\n",
       "      <td>25</td>\n",
       "    </tr>\n",
       "    <tr>\n",
       "      <th>25</th>\n",
       "      <td>1 Kg Silver Spoon Caster Sugar</td>\n",
       "      <td>Silver Spoon Caster Sugar 1kg</td>\n",
       "      <td>1</td>\n",
       "    </tr>\n",
       "    <tr>\n",
       "      <th>26</th>\n",
       "      <td>1 Kg Silver Spoon Caster Sugar</td>\n",
       "      <td>Silver Spoon British Caster Sugar 1kg</td>\n",
       "      <td>2</td>\n",
       "    </tr>\n",
       "    <tr>\n",
       "      <th>27</th>\n",
       "      <td>1 Kg Silver Spoon Caster Sugar</td>\n",
       "      <td>Silver Spoon White Sugar 1kg</td>\n",
       "      <td>3</td>\n",
       "    </tr>\n",
       "  </tbody>\n",
       "</table>\n",
       "</div>"
      ],
      "text/plain": [
       "                          canonical  \\\n",
       "20  1 Kg Bakers Adult Beef Dog Food   \n",
       "21  1 Kg Bakers Adult Beef Dog Food   \n",
       "22  1 Kg Bakers Adult Beef Dog Food   \n",
       "23  1 Kg Bakers Adult Beef Dog Food   \n",
       "24  1 Kg Bakers Adult Beef Dog Food   \n",
       "25   1 Kg Silver Spoon Caster Sugar   \n",
       "26   1 Kg Silver Spoon Caster Sugar   \n",
       "27   1 Kg Silver Spoon Caster Sugar   \n",
       "\n",
       "                                            item_name  rank  \n",
       "20      Bakers Adult Dry Dog Food Chicken and Veg 1kg    21  \n",
       "21  Pet food BAKERS ADULT Beef with Vegetables Dry...    22  \n",
       "22  BAKERS ADULT Beef with Vegetables Dry Dog Food...    23  \n",
       "23                      BUTCHERS TRIPE DOG FOOD 1200G    24  \n",
       "24                Bakers Dog Food Chicken and Veg 1kg    25  \n",
       "25                      Silver Spoon Caster Sugar 1kg     1  \n",
       "26              Silver Spoon British Caster Sugar 1kg     2  \n",
       "27                       Silver Spoon White Sugar 1kg     3  "
      ]
     },
     "execution_count": 9,
     "metadata": {},
     "output_type": "execute_result"
    }
   ],
   "source": [
    "df[20:28]"
   ]
  },
  {
   "cell_type": "markdown",
   "id": "2ddfc194",
   "metadata": {},
   "source": [
    "# 1. Grouping products"
   ]
  },
  {
   "cell_type": "markdown",
   "id": "e4e95eb1",
   "metadata": {},
   "source": [
    "## 1.1 Fuzzy ratios calculation"
   ]
  },
  {
   "cell_type": "code",
   "execution_count": 11,
   "id": "250c0313",
   "metadata": {},
   "outputs": [],
   "source": [
    "df['fuzz_ratio'] = df.apply(lambda x: fuzz.token_sort_ratio(x['canonical'], x['item_name']), axis=1)"
   ]
  },
  {
   "cell_type": "code",
   "execution_count": 12,
   "id": "d8618e83",
   "metadata": {},
   "outputs": [
    {
     "data": {
      "text/html": [
       "<div>\n",
       "<style scoped>\n",
       "    .dataframe tbody tr th:only-of-type {\n",
       "        vertical-align: middle;\n",
       "    }\n",
       "\n",
       "    .dataframe tbody tr th {\n",
       "        vertical-align: top;\n",
       "    }\n",
       "\n",
       "    .dataframe thead th {\n",
       "        text-align: right;\n",
       "    }\n",
       "</style>\n",
       "<table border=\"1\" class=\"dataframe\">\n",
       "  <thead>\n",
       "    <tr style=\"text-align: right;\">\n",
       "      <th></th>\n",
       "      <th>canonical</th>\n",
       "      <th>item_name</th>\n",
       "      <th>rank</th>\n",
       "      <th>fuzz_ratio</th>\n",
       "    </tr>\n",
       "  </thead>\n",
       "  <tbody>\n",
       "    <tr>\n",
       "      <th>0</th>\n",
       "      <td>1 Kg Bakers Adult Beef Dog Food</td>\n",
       "      <td>Bakers Beef and Vegetable Dry Dog Food 1kg</td>\n",
       "      <td>1</td>\n",
       "      <td>74</td>\n",
       "    </tr>\n",
       "    <tr>\n",
       "      <th>1</th>\n",
       "      <td>1 Kg Bakers Adult Beef Dog Food</td>\n",
       "      <td>Bakers Beef and Vegetable Dry Dog Food 1kg</td>\n",
       "      <td>2</td>\n",
       "      <td>74</td>\n",
       "    </tr>\n",
       "    <tr>\n",
       "      <th>2</th>\n",
       "      <td>1 Kg Bakers Adult Beef Dog Food</td>\n",
       "      <td>Bakers ADULT Small Dog Beef with Vegetables Dr...</td>\n",
       "      <td>3</td>\n",
       "      <td>65</td>\n",
       "    </tr>\n",
       "    <tr>\n",
       "      <th>3</th>\n",
       "      <td>1 Kg Bakers Adult Beef Dog Food</td>\n",
       "      <td>BAKERS Meaty Meals Adult Beef Dry Dog Food 1kg</td>\n",
       "      <td>4</td>\n",
       "      <td>75</td>\n",
       "    </tr>\n",
       "    <tr>\n",
       "      <th>4</th>\n",
       "      <td>1 Kg Bakers Adult Beef Dog Food</td>\n",
       "      <td>Bakers Meaty Meals Adult Beef Dry Dog Food 1kg</td>\n",
       "      <td>5</td>\n",
       "      <td>75</td>\n",
       "    </tr>\n",
       "  </tbody>\n",
       "</table>\n",
       "</div>"
      ],
      "text/plain": [
       "                         canonical  \\\n",
       "0  1 Kg Bakers Adult Beef Dog Food   \n",
       "1  1 Kg Bakers Adult Beef Dog Food   \n",
       "2  1 Kg Bakers Adult Beef Dog Food   \n",
       "3  1 Kg Bakers Adult Beef Dog Food   \n",
       "4  1 Kg Bakers Adult Beef Dog Food   \n",
       "\n",
       "                                           item_name  rank  fuzz_ratio  \n",
       "0         Bakers Beef and Vegetable Dry Dog Food 1kg     1          74  \n",
       "1         Bakers Beef and Vegetable Dry Dog Food 1kg     2          74  \n",
       "2  Bakers ADULT Small Dog Beef with Vegetables Dr...     3          65  \n",
       "3     BAKERS Meaty Meals Adult Beef Dry Dog Food 1kg     4          75  \n",
       "4     Bakers Meaty Meals Adult Beef Dry Dog Food 1kg     5          75  "
      ]
     },
     "execution_count": 12,
     "metadata": {},
     "output_type": "execute_result"
    }
   ],
   "source": [
    "df.head()"
   ]
  },
  {
   "cell_type": "markdown",
   "id": "5577121b",
   "metadata": {},
   "source": [
    "## 1.2 Filtering similarities"
   ]
  },
  {
   "cell_type": "code",
   "execution_count": 13,
   "id": "a9888840",
   "metadata": {},
   "outputs": [],
   "source": [
    "threshold_products = 85"
   ]
  },
  {
   "cell_type": "code",
   "execution_count": 17,
   "metadata": {},
   "outputs": [],
   "source": [
    "df_similars = df[df['fuzz_ratio'] >= threshold_products].\\\n",
    "            drop_duplicates(subset=['canonical', 'item_name']).reset_index(drop=True)"
   ]
  },
  {
   "cell_type": "code",
   "execution_count": 19,
   "id": "9e5de0c4",
   "metadata": {},
   "outputs": [
    {
     "data": {
      "text/plain": [
       "37655"
      ]
     },
     "execution_count": 19,
     "metadata": {},
     "output_type": "execute_result"
    }
   ],
   "source": [
    "len(pd.unique(df_similars[['canonical', 'item_name']].values.ravel('K')))"
   ]
  },
  {
   "cell_type": "code",
   "execution_count": 20,
   "id": "563f05c0",
   "metadata": {},
   "outputs": [
    {
     "data": {
      "text/plain": [
       "49105"
      ]
     },
     "execution_count": 20,
     "metadata": {},
     "output_type": "execute_result"
    }
   ],
   "source": [
    "len(pd.unique(df[['canonical', 'item_name']].values.ravel('K')))"
   ]
  },
  {
   "cell_type": "code",
   "execution_count": null,
   "id": "69b7e445",
   "metadata": {},
   "outputs": [],
   "source": []
  },
  {
   "cell_type": "code",
   "execution_count": null,
   "id": "2988aac3",
   "metadata": {},
   "outputs": [],
   "source": []
  }
 ],
 "metadata": {
  "kernelspec": {
   "display_name": "Python 3.8.3 ('base')",
   "language": "python",
   "name": "python3"
  },
  "language_info": {
   "codemirror_mode": {
    "name": "ipython",
    "version": 3
   },
   "file_extension": ".py",
   "mimetype": "text/x-python",
   "name": "python",
   "nbconvert_exporter": "python",
   "pygments_lexer": "ipython3",
   "version": "3.8.3"
  },
  "vscode": {
   "interpreter": {
    "hash": "40d3a090f54c6569ab1632332b64b2c03c39dcf918b08424e98f38b5ae0af88f"
   }
  }
 },
 "nbformat": 4,
 "nbformat_minor": 5
}
